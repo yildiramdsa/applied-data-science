{
 "cells": [
  {
   "cell_type": "markdown",
   "metadata": {
    "id": "N5vYuxQwmkFo"
   },
   "source": [
    "# Contextualized Word Embeddings\n",
    "\n",
    "This project focuses on calculating textual similarity between queries and a set of sample documents using a variety of Natural Language Processing (NLP) techniques. The goal is to demonstrate how preprocessing and embedding textual data can enhance search relevance. The project highlights the evolution of similarity scoring in NLP by comparing traditional methods like TF-IDF with modern approaches such as GloVe and BERT-based models.\n",
    "\n",
    "## Setup and Data Import"
   ]
  },
  {
   "cell_type": "code",
   "execution_count": 2,
   "metadata": {
    "id": "0VlWbMwpg4u5",
    "tags": []
   },
   "outputs": [],
   "source": [
    "# this will unpack the json file contents into a list of titles and documents\n",
    "import json\n",
    "\n",
    "with open('../data/contextualized_word_embeddings_data_raw.json') as in_file:\n",
    "    repo_data = json.load(in_file)\n",
    "\n",
    "titles = [item[0] for item in repo_data['data']]\n",
    "documents = [item[1] for item in repo_data['data']]"
   ]
  },
  {
   "cell_type": "code",
   "execution_count": 3,
   "metadata": {
    "colab": {
     "base_uri": "https://localhost:8080/"
    },
    "id": "jgDwMaKYpdIS",
    "outputId": "de50bc65-d7e0-482a-e207-5443421874a2"
   },
   "outputs": [
    {
     "name": "stdout",
     "output_type": "stream",
     "text": [
      "Document title: botany\n",
      "Document contents: Botany, also called plant science(s), plant biology or phytology, is the science of plant life and a branch of biology. A botanist, plant scientist or phytologist is a scientist who specialises in this field. \n",
      "\n",
      "\n",
      "Document title: Ford Bronco \n",
      "Document contents: The Ford Bronco is a model line of sport utility vehicles manufactured and marketed by Ford. ... The first SUV model developed by the company, five generations of the Bronco were sold from the 1966 to 1996 model years. A sixth generation of the model line is sold from the 2021 model year. the Ford Bronco will be available in Canada, with first deliveries beginning in spring of 2021. The Bronco will come in six versions in Canada: Base, Big Bend, Black Diamond, Outer Banks, Wildtrak and Badlands. \n",
      "\n",
      "\n",
      "Document title: List of fruit dishes\n",
      "Document contents: Fruit dishes are those that use fruit as a primary ingredient. Condiments prepared with fruit as a primary ingredient are also included in this list.\n",
      "\n",
      "\n",
      "Document title: Neuro linguistic programming\n",
      "Document contents: Neuro linguistic programming (NLP) is a pseudoscientific approach to communication, personal development, and psychotherapy created by Richard Bandler and John Grinder in California, United States, in the 1970s.\n",
      "\n",
      "\n",
      "Document title: fruit serving bowl\n",
      "Document contents: A fruit serving bowl is a round dish or container typically used to prepare and serve food. The interior of a bowl is characteristically shaped like a spherical cap, with the edges and the bottom forming a seamless curve. This makes bowls especially suited for holding liquids and loose food, as the contents of the bowl are naturally concentrated in its center by the force of gravity.\n",
      "\n",
      "\n"
     ]
    }
   ],
   "source": [
    "# let's take a look at some of these documents and titles;\n",
    "# here we print the five last entries\n",
    "for id in range(-5, 0, 1):\n",
    "  print(f\"Document title: {titles[id]}\")\n",
    "  print(f\"Document contents: {documents[id]}\")\n",
    "  print(\"\\n\") # adds newline"
   ]
  },
  {
   "cell_type": "code",
   "execution_count": 4,
   "metadata": {
    "colab": {
     "base_uri": "https://localhost:8080/",
     "height": 1000
    },
    "id": "LHeF-NOmuhtX",
    "outputId": "1c7d47d7-e93a-4063-910c-1dc280cbd05b"
   },
   "outputs": [
    {
     "data": {
      "text/html": [
       "<div>\n",
       "<style scoped>\n",
       "    .dataframe tbody tr th:only-of-type {\n",
       "        vertical-align: middle;\n",
       "    }\n",
       "\n",
       "    .dataframe tbody tr th {\n",
       "        vertical-align: top;\n",
       "    }\n",
       "\n",
       "    .dataframe thead th {\n",
       "        text-align: right;\n",
       "    }\n",
       "</style>\n",
       "<table border=\"1\" class=\"dataframe\">\n",
       "  <thead>\n",
       "    <tr style=\"text-align: right;\">\n",
       "      <th></th>\n",
       "      <th>document_id</th>\n",
       "      <th>title</th>\n",
       "      <th>text</th>\n",
       "    </tr>\n",
       "  </thead>\n",
       "  <tbody>\n",
       "    <tr>\n",
       "      <th>0</th>\n",
       "      <td>0</td>\n",
       "      <td>Pomegranate Bhagwa</td>\n",
       "      <td>Fresh Pomegranate from Anushka Avni International Bhagwa is a premium Pomegranate variety from India. The Deep Red arils &amp; the pleasing Red but rugged skin enhances the appearance whilst promoting shelf life of the fruit. Bhagwa is widely known for its soft seed, Dark red color and extremely delicious. Packaging: Net weight of box 2.5kg, 3.00kg, 3.5kg. Details: Minimum Weight 180gm, maximum weight 400gm Color of arils: Dark Cherry red. Taste: Sweet Fruit count / carton (3.50 kg net wt.) 9 Numbers packed per carton: 350-400gms</td>\n",
       "    </tr>\n",
       "    <tr>\n",
       "      <th>1</th>\n",
       "      <td>1</td>\n",
       "      <td>Pomegranate Arakta</td>\n",
       "      <td>Fresh Pomegranate Arakta from Anushka Avni International This Pomegranate are bigger in size, sweet with soft seeds, bold red arils. It also possess glossy, attractive, dark red skin. Packaging: Net weight of box 2.5kg, 3.00kg, 3.5kg. Details: Minimum Weight 180gm, maximum weight 400gm Taste: Sweet Fruit count / carton (3.50 kg net wt.) 9 Numbers packed per carton: 350-400gms 10 Numbers packed per carton :290-320gms 12 Numbers packed per carton: 275-325gms 15 Numbers packed per carton: 225-275gms Load ability: 4400 cartons per container 20 pallets with 220 cartons per pallet Load ability: 5500 cartons per container Loading with No pallets Availability: January | February | March | April | July | August | September | October | Nov | Dec READ MORE</td>\n",
       "    </tr>\n",
       "    <tr>\n",
       "      <th>2</th>\n",
       "      <td>2</td>\n",
       "      <td>About Us</td>\n",
       "      <td>About Us Anushka Avni International (AAI) takes pleasure in presenting itself as one of the renowned Suppliers and Exporter. We have huge assortment of agro products available with us. We feel proud when buyers come to us recognizing the standard quality which we offer in the world wide market. We follow the best practices while supplying… Read More..</td>\n",
       "    </tr>\n",
       "    <tr>\n",
       "      <th>3</th>\n",
       "      <td>3</td>\n",
       "      <td>Contact Us</td>\n",
       "      <td>About Us Anushka Avni International (AAI) takes pleasure in presenting itself as one of the renowned Suppliers and Exporter. We have huge assortment of agro products available with us. We feel proud when buyers come to us recognizing the standard quality which we offer in the world wide market. We follow the best practices while supplying… Read More..</td>\n",
       "    </tr>\n",
       "    <tr>\n",
       "      <th>4</th>\n",
       "      <td>4</td>\n",
       "      <td>White Onions</td>\n",
       "      <td>White Onions from Anushka Avni International Fresh White Onion, which is widely acclaimed for its health benefits and is used for different cuisines. We are a major exporters and suppliers of all kinds of fresh onions like red onions, pink onions and white onions. Sizes: 30-45 mm 45-55 mm 50 mm and above 55-70 mm 60 and above Packaging: 2.5kg, 3kg, 5kg, 9kg, 10kg, 15kg, 17kg, 18kg, 20kg, 25kg, 30kg Red Mesh Bag or Jute Bag Load ability: 12.5 MT per 20ft container ODO 28 MT per 40ft Refer container.</td>\n",
       "    </tr>\n",
       "    <tr>\n",
       "      <th>5</th>\n",
       "      <td>5</td>\n",
       "      <td>Video Gallery</td>\n",
       "      <td>Anushka Avni International (AAI) takes pleasure in presenting itself as one of the renowned Suppliers and Exporter. We have huge assortment of agro products available with us. We feel proud when buyers come to us recognizing the standard quality which we offer in the world wide market.</td>\n",
       "    </tr>\n",
       "    <tr>\n",
       "      <th>6</th>\n",
       "      <td>6</td>\n",
       "      <td>Food classes</td>\n",
       "      <td>To a botanist, a fruit is an entity that develops from the fertilized ovary of a flower. This means that tomatoes, squash, pumpkins, cucumbers, peppers, eggplants, corn kernels, and bean and pea pods are all fruits; so are apples, pears, peaches, apricots, melons and mangos</td>\n",
       "    </tr>\n",
       "    <tr>\n",
       "      <th>7</th>\n",
       "      <td>7</td>\n",
       "      <td>Nutrition</td>\n",
       "      <td>Nutrition is the biochemical and physiological process by which an organism uses intake to support its life. It includes ingestion, absorption, assimilation, biosynthesis, catabolism and excretion. The science that studies the physiological process of nutrition is called nutritional science (also nutrition science).</td>\n",
       "    </tr>\n",
       "    <tr>\n",
       "      <th>8</th>\n",
       "      <td>8</td>\n",
       "      <td>Nutrients</td>\n",
       "      <td>Nutrients are substances used by an organism to survive, grow, and reproduce. The seven major classes of relevant nutrients for animals (including humans) are carbohydrates, dietary fiber, fats, proteins, minerals, vitamins, and water. Nutrients can be grouped as either macronutrients (carbohydrates, dietary fiber, fats, proteins, and water needed in gram quantities) or micronutrients (vitamins and minerals needed in milligram or microgram quantities).</td>\n",
       "    </tr>\n",
       "    <tr>\n",
       "      <th>9</th>\n",
       "      <td>9</td>\n",
       "      <td>Diet</td>\n",
       "      <td>In nutrition, the diet of an organism is the sum of foods it eats, which is largely determined by the availability and palatability of foods.</td>\n",
       "    </tr>\n",
       "    <tr>\n",
       "      <th>10</th>\n",
       "      <td>10</td>\n",
       "      <td>Canada's Food Guide</td>\n",
       "      <td>Canada's Food Guide is a nutrition guide produced by Health Canada to promote Healthy behaviours and habits, and lifestyles in Canada - this is to increase the number of healthy people in Canada. In 2007, it was reported to be the second most requested Canadian government publication, behind the Income Tax Forms. The Health Canada website states: Food guides are basic education tools that are designed to help people follow a healthy diet. The Guide recommends eating a variety of healthy foods each day including plenty of vegetables and fruits, protein foods, and whole grain foods. It recommends choosing protein foods that come from plants more often. It also recommends limiting highly processed foods.</td>\n",
       "    </tr>\n",
       "    <tr>\n",
       "      <th>11</th>\n",
       "      <td>11</td>\n",
       "      <td>Major Market</td>\n",
       "      <td>UK, Nether Land, Russia, Canada, HongKong, Malaysia, Singapore, Oman, UAE, Qatar, Bahrain, Saudi Arabia, Mauritius, Maldives, Sri Lanka, Bangladesh</td>\n",
       "    </tr>\n",
       "    <tr>\n",
       "      <th>12</th>\n",
       "      <td>12</td>\n",
       "      <td>Canadian Industry Statistics</td>\n",
       "      <td>Canadian Industry Statistics (CIS) analyses industry data on many economic indicators in Canada</td>\n",
       "    </tr>\n",
       "    <tr>\n",
       "      <th>13</th>\n",
       "      <td>13</td>\n",
       "      <td>Red Onions</td>\n",
       "      <td>Red Onions from Anushka Avni International Red onions, sometimes called purple onions, are cultivars of the onion with purplish red skin and white flesh tinged with red. We are a major Indian exporters and suppliers of all kinds of fresh onions like red onions and white onions. Sizes: 30-45 mm 45-55 mm 50 mm and above 55-70 mm 60 and above Packaging: 2.5kg, 3kg, 5kg, 9kg, 10kg, 15kg, 17kg, 18kg, 20kg, 25kg, 30kg Red Mesh Bag or Jute Bag Load ability: 12.5 MT per 20ft container ODO 28 MT per 40ft Refer container.</td>\n",
       "    </tr>\n",
       "    <tr>\n",
       "      <th>14</th>\n",
       "      <td>14</td>\n",
       "      <td>Grapes Sonaka Seedless</td>\n",
       "      <td>Berry Size: 18mm and above Packaging Packing Size: 4.5 kg loose in carry bags 8.2 kg loose in carry bags 5 kg carton punnets10 x 500 gms Load ability: 5 kg – 2400 cartons per container 4.5 kilo – 3400 cartons per container 8.2 kilo – 2040 cartons per container Availability: December | January | February | March | April</td>\n",
       "    </tr>\n",
       "    <tr>\n",
       "      <th>15</th>\n",
       "      <td>15</td>\n",
       "      <td>Pink Onions</td>\n",
       "      <td>Pink Onions from Anushka Avni International Pink onions, sometimes called summer onions, are cultivars of the onion with pink skin and white flesh tinged with red. We are a major Indian exporters and suppliers of all kinds of fresh onions like red onions, pink onions and white onions. Sizes: 30-45 mm 45-55 mm 50 mm and above 55-70 mm 60 and above Packaging: 2.5kg, 3kg, 5kg, 9kg, 10kg, 15kg, 17kg, 18kg, 20kg, 25kg, 30kg Red Mesh Bag or Jute Bag Load ability: 12.5 MT per 20ft container ODO 28 MT per 40ft Refer container.</td>\n",
       "    </tr>\n",
       "    <tr>\n",
       "      <th>16</th>\n",
       "      <td>16</td>\n",
       "      <td>About Us</td>\n",
       "      <td>Anushka Avni International (AAI) takes pleasure in presenting itself as one of the renowned Suppliers and Exporter. We have huge assortment of agro products available with us. We feel proud when buyers come to us recognizing the standard quality which we offer in the world wide market. We follow the best practices while supplying and exportingAgro Products. We thoroughly consider the demand and requirement ofthe client till the final destination. The company professionals are aware of the fact that demands of thecustomers keep evolving. We do have strong background in Horticultureand Harvest handling of perishables. Company takes initiatives to deliver the best quality to thecustomers. Moreover, we have established ourselves in the market forproviding the best quality all across the domestic and Internationalmarket.</td>\n",
       "    </tr>\n",
       "    <tr>\n",
       "      <th>17</th>\n",
       "      <td>17</td>\n",
       "      <td>Small Onions</td>\n",
       "      <td>We are one of the leading organizations engaged in delivering our customers with Fresh Onions. We manufacture this in bulk requirements for our clients. Malaysia, Singapore, Philippines, Vietnam Quality Product Details:</td>\n",
       "    </tr>\n",
       "    <tr>\n",
       "      <th>18</th>\n",
       "      <td>18</td>\n",
       "      <td>Tomatoes</td>\n",
       "      <td>Fresh Tomatoes from Anushka Avni International We have emerged as one of the reputed organization actively participating in exporting and suppling Red Tomatoes. Product Details: Taste enhancer Free from preservatives Pure Useful for chutney Packing : 6.5 kg, 7.00 kg Cartons.</td>\n",
       "    </tr>\n",
       "    <tr>\n",
       "      <th>19</th>\n",
       "      <td>19</td>\n",
       "      <td>Downloads</td>\n",
       "      <td>Anushka Avni International (AAI) takes pleasure in presenting itself as one of the renowned Suppliers and Exporter. We have huge assortment of agro products available with us. We feel proud when buyers come to us recognizing the standard quality which we offer in the world wide market.</td>\n",
       "    </tr>\n",
       "    <tr>\n",
       "      <th>20</th>\n",
       "      <td>20</td>\n",
       "      <td>Welcome to Anushka Avni International (AAI)</td>\n",
       "      <td>Welcome to Anushka Avni International (AAI) Anushka Avni International (AAI) takes pleasure in presenting itself as one of the renowned Suppliers and Exporter. We have huge assortment of agro products available with us. We feel proud when buyers come to us recognizing the standard quality which we offer in the world wide market.</td>\n",
       "    </tr>\n",
       "    <tr>\n",
       "      <th>21</th>\n",
       "      <td>21</td>\n",
       "      <td>Grapes Thompson Seedless</td>\n",
       "      <td>Thomson Seedless These grapes are seedless, sweet-tart, and crunchy. Thomson Seedless account for the bulk of Table Grape exports from India. Berry Size: 16mm and above</td>\n",
       "    </tr>\n",
       "    <tr>\n",
       "      <th>22</th>\n",
       "      <td>22</td>\n",
       "      <td>Grapes Black Sharad Seedless</td>\n",
       "      <td>Black Sharad Seedless Grapes Crisp to taste, these grapes vary in shades of black to purple. Each berry is usually medium-sized and oval-shaped. Berry Size: 18mm and above Packaging Packing Size: 4.5 kg loose in carry bags 8.2 kg loose in carry bags 5 kg carton punnets10 x 500 gms Load ability: 5 kg – 2400 cartons per container 4.5 kilo – 3400 cartons per container 8.2 kilo – 2040 cartons per container Availability: December | January | February | March | April</td>\n",
       "    </tr>\n",
       "    <tr>\n",
       "      <th>23</th>\n",
       "      <td>23</td>\n",
       "      <td>Grapes Flame / Red Seedless</td>\n",
       "      <td>Flame / Red seedless grapesFlame grapes are one of the most popular varieties along with…</td>\n",
       "    </tr>\n",
       "    <tr>\n",
       "      <th>24</th>\n",
       "      <td>24</td>\n",
       "      <td>Python dict</td>\n",
       "      <td>A Dictionary in Python is an unordered collection of data values, used to store data values like a map, which, unlike other Data Types that hold only a single value as an element, Dictionary holds key:value pair.</td>\n",
       "    </tr>\n",
       "    <tr>\n",
       "      <th>25</th>\n",
       "      <td>25</td>\n",
       "      <td>history of botany</td>\n",
       "      <td>Botany originated in prehistory as herbalism with the efforts of early humans to identify – and later cultivate – edible, medicinal and poisonous plants, making it one of the oldest branches of science. Medieval physic gardens, often attached to monasteries, contained plants of medical importance. They were forerunners of the first botanical gardens attached to universities, founded from the 1540s onwards. One of the earliest was the Padua botanical garden. These gardens facilitated the academic study of plants. Efforts to catalogue and describe their collections were the beginnings of plant taxonomy, and led in 1753 to the binomial system of nomenclature of Carl Linnaeus that remains in use to this day for the naming of all biological species.</td>\n",
       "    </tr>\n",
       "    <tr>\n",
       "      <th>26</th>\n",
       "      <td>26</td>\n",
       "      <td>Semantic similarity</td>\n",
       "      <td>Semantic similarity is a metric defined over a set of documents or terms, where the idea of distance between items is based on the likeness of their meaning or semantic content as opposed to lexicographical similarity. These are mathematical tools used to estimate the strength of the semantic relationship between units of language, concepts or instances, through a numerical description obtained according to the comparison of information supporting their meaning or describing their nature.</td>\n",
       "    </tr>\n",
       "    <tr>\n",
       "      <th>27</th>\n",
       "      <td>27</td>\n",
       "      <td>botany</td>\n",
       "      <td>Botany, also called plant science(s), plant biology or phytology, is the science of plant life and a branch of biology. A botanist, plant scientist or phytologist is a scientist who specialises in this field.</td>\n",
       "    </tr>\n",
       "    <tr>\n",
       "      <th>28</th>\n",
       "      <td>28</td>\n",
       "      <td>Ford Bronco</td>\n",
       "      <td>The Ford Bronco is a model line of sport utility vehicles manufactured and marketed by Ford. ... The first SUV model developed by the company, five generations of the Bronco were sold from the 1966 to 1996 model years. A sixth generation of the model line is sold from the 2021 model year. the Ford Bronco will be available in Canada, with first deliveries beginning in spring of 2021. The Bronco will come in six versions in Canada: Base, Big Bend, Black Diamond, Outer Banks, Wildtrak and Badlands.</td>\n",
       "    </tr>\n",
       "    <tr>\n",
       "      <th>29</th>\n",
       "      <td>29</td>\n",
       "      <td>List of fruit dishes</td>\n",
       "      <td>Fruit dishes are those that use fruit as a primary ingredient. Condiments prepared with fruit as a primary ingredient are also included in this list.</td>\n",
       "    </tr>\n",
       "    <tr>\n",
       "      <th>30</th>\n",
       "      <td>30</td>\n",
       "      <td>Neuro linguistic programming</td>\n",
       "      <td>Neuro linguistic programming (NLP) is a pseudoscientific approach to communication, personal development, and psychotherapy created by Richard Bandler and John Grinder in California, United States, in the 1970s.</td>\n",
       "    </tr>\n",
       "    <tr>\n",
       "      <th>31</th>\n",
       "      <td>31</td>\n",
       "      <td>fruit serving bowl</td>\n",
       "      <td>A fruit serving bowl is a round dish or container typically used to prepare and serve food. The interior of a bowl is characteristically shaped like a spherical cap, with the edges and the bottom forming a seamless curve. This makes bowls especially suited for holding liquids and loose food, as the contents of the bowl are naturally concentrated in its center by the force of gravity.</td>\n",
       "    </tr>\n",
       "  </tbody>\n",
       "</table>\n",
       "</div>"
      ],
      "text/plain": [
       "    document_id                                        title  \\\n",
       "0             0                           Pomegranate Bhagwa   \n",
       "1             1                           Pomegranate Arakta   \n",
       "2             2                                     About Us   \n",
       "3             3                                   Contact Us   \n",
       "4             4                                 White Onions   \n",
       "5             5                                Video Gallery   \n",
       "6             6                                 Food classes   \n",
       "7             7                                    Nutrition   \n",
       "8             8                                    Nutrients   \n",
       "9             9                                         Diet   \n",
       "10           10                          Canada's Food Guide   \n",
       "11           11                                 Major Market   \n",
       "12           12                 Canadian Industry Statistics   \n",
       "13           13                                   Red Onions   \n",
       "14           14                       Grapes Sonaka Seedless   \n",
       "15           15                                  Pink Onions   \n",
       "16           16                                     About Us   \n",
       "17           17                                 Small Onions   \n",
       "18           18                                     Tomatoes   \n",
       "19           19                                    Downloads   \n",
       "20           20  Welcome to Anushka Avni International (AAI)   \n",
       "21           21                     Grapes Thompson Seedless   \n",
       "22           22                 Grapes Black Sharad Seedless   \n",
       "23           23                  Grapes Flame / Red Seedless   \n",
       "24           24                                 Python dict    \n",
       "25           25                            history of botany   \n",
       "26           26                          Semantic similarity   \n",
       "27           27                                       botany   \n",
       "28           28                                 Ford Bronco    \n",
       "29           29                         List of fruit dishes   \n",
       "30           30                 Neuro linguistic programming   \n",
       "31           31                           fruit serving bowl   \n",
       "\n",
       "                                                                                                                                                                                                                                                                                                                                                                                                                                                                                                                                                                                                                                                                                                                                                                                                                                                           text  \n",
       "0                                                                                                                                                                                                                                                                                                           Fresh Pomegranate from Anushka Avni International Bhagwa is a premium Pomegranate variety from India. The Deep Red arils & the pleasing Red but rugged skin enhances the appearance whilst promoting shelf life of the fruit. Bhagwa is widely known for its soft seed, Dark red color and extremely delicious. Packaging: Net weight of box 2.5kg, 3.00kg, 3.5kg. Details: Minimum Weight 180gm, maximum weight 400gm Color of arils: Dark Cherry red. Taste: Sweet Fruit count / carton (3.50 kg net wt.) 9 Numbers packed per carton: 350-400gms  \n",
       "1                                                                           Fresh Pomegranate Arakta from Anushka Avni International This Pomegranate are bigger in size, sweet with soft seeds, bold red arils. It also possess glossy, attractive, dark red skin. Packaging: Net weight of box 2.5kg, 3.00kg, 3.5kg. Details: Minimum Weight 180gm, maximum weight 400gm Taste: Sweet Fruit count / carton (3.50 kg net wt.) 9 Numbers packed per carton: 350-400gms 10 Numbers packed per carton :290-320gms 12 Numbers packed per carton: 275-325gms 15 Numbers packed per carton: 225-275gms Load ability: 4400 cartons per container 20 pallets with 220 cartons per pallet Load ability: 5500 cartons per container Loading with No pallets Availability: January | February | March | April | July | August | September | October | Nov | Dec READ MORE  \n",
       "2                                                                                                                                                                                                                                                                                                                                                                                                                                                                                             About Us Anushka Avni International (AAI) takes pleasure in presenting itself as one of the renowned Suppliers and Exporter. We have huge assortment of agro products available with us. We feel proud when buyers come to us recognizing the standard quality which we offer in the world wide market. We follow the best practices while supplying… Read More..  \n",
       "3                                                                                                                                                                                                                                                                                                                                                                                                                                                                                             About Us Anushka Avni International (AAI) takes pleasure in presenting itself as one of the renowned Suppliers and Exporter. We have huge assortment of agro products available with us. We feel proud when buyers come to us recognizing the standard quality which we offer in the world wide market. We follow the best practices while supplying… Read More..  \n",
       "4                                                                                                                                                                                                                                                                                                                                       White Onions from Anushka Avni International Fresh White Onion, which is widely acclaimed for its health benefits and is used for different cuisines. We are a major exporters and suppliers of all kinds of fresh onions like red onions, pink onions and white onions. Sizes: 30-45 mm 45-55 mm 50 mm and above 55-70 mm 60 and above Packaging: 2.5kg, 3kg, 5kg, 9kg, 10kg, 15kg, 17kg, 18kg, 20kg, 25kg, 30kg Red Mesh Bag or Jute Bag Load ability: 12.5 MT per 20ft container ODO 28 MT per 40ft Refer container.  \n",
       "5                                                                                                                                                                                                                                                                                                                                                                                                                                                                                                                                                                Anushka Avni International (AAI) takes pleasure in presenting itself as one of the renowned Suppliers and Exporter. We have huge assortment of agro products available with us. We feel proud when buyers come to us recognizing the standard quality which we offer in the world wide market.  \n",
       "6                                                                                                                                                                                                                                                                                                                                                                                                                                                                                                                                                                            To a botanist, a fruit is an entity that develops from the fertilized ovary of a flower. This means that tomatoes, squash, pumpkins, cucumbers, peppers, eggplants, corn kernels, and bean and pea pods are all fruits; so are apples, pears, peaches, apricots, melons and mangos  \n",
       "7                                                                                                                                                                                                                                                                                                                                                                                                                                                                                                                                 Nutrition is the biochemical and physiological process by which an organism uses intake to support its life. It includes ingestion, absorption, assimilation, biosynthesis, catabolism and excretion. The science that studies the physiological process of nutrition is called nutritional science (also nutrition science).  \n",
       "8                                                                                                                                                                                                                                                                                                                                                                                      Nutrients are substances used by an organism to survive, grow, and reproduce. The seven major classes of relevant nutrients for animals (including humans) are carbohydrates, dietary fiber, fats, proteins, minerals, vitamins, and water. Nutrients can be grouped as either macronutrients (carbohydrates, dietary fiber, fats, proteins, and water needed in gram quantities) or micronutrients (vitamins and minerals needed in milligram or microgram quantities).  \n",
       "9                                                                                                                                                                                                                                                                                                                                                                                                                                                                                                                                                                                                                                                                                                                 In nutrition, the diet of an organism is the sum of foods it eats, which is largely determined by the availability and palatability of foods.  \n",
       "10                                                                                                                       Canada's Food Guide is a nutrition guide produced by Health Canada to promote Healthy behaviours and habits, and lifestyles in Canada - this is to increase the number of healthy people in Canada. In 2007, it was reported to be the second most requested Canadian government publication, behind the Income Tax Forms. The Health Canada website states: Food guides are basic education tools that are designed to help people follow a healthy diet. The Guide recommends eating a variety of healthy foods each day including plenty of vegetables and fruits, protein foods, and whole grain foods. It recommends choosing protein foods that come from plants more often. It also recommends limiting highly processed foods.  \n",
       "11                                                                                                                                                                                                                                                                                                                                                                                                                                                                                                                                                                                                                                                                                                          UK, Nether Land, Russia, Canada, HongKong, Malaysia, Singapore, Oman, UAE, Qatar, Bahrain, Saudi Arabia, Mauritius, Maldives, Sri Lanka, Bangladesh  \n",
       "12                                                                                                                                                                                                                                                                                                                                                                                                                                                                                                                                                                                                                                                                                                                                                              Canadian Industry Statistics (CIS) analyses industry data on many economic indicators in Canada  \n",
       "13                                                                                                                                                                                                                                                                                                                        Red Onions from Anushka Avni International Red onions, sometimes called purple onions, are cultivars of the onion with purplish red skin and white flesh tinged with red. We are a major Indian exporters and suppliers of all kinds of fresh onions like red onions and white onions. Sizes: 30-45 mm 45-55 mm 50 mm and above 55-70 mm 60 and above Packaging: 2.5kg, 3kg, 5kg, 9kg, 10kg, 15kg, 17kg, 18kg, 20kg, 25kg, 30kg Red Mesh Bag or Jute Bag Load ability: 12.5 MT per 20ft container ODO 28 MT per 40ft Refer container.  \n",
       "14                                                                                                                                                                                                                                                                                                                                                                                                                                                                                                                             Berry Size: 18mm and above Packaging Packing Size: 4.5 kg loose in carry bags 8.2 kg loose in carry bags 5 kg carton punnets10 x 500 gms Load ability: 5 kg – 2400 cartons per container 4.5 kilo – 3400 cartons per container 8.2 kilo – 2040 cartons per container Availability: December | January | February | March | April  \n",
       "15                                                                                                                                                                                                                                                                                                                 Pink Onions from Anushka Avni International Pink onions, sometimes called summer onions, are cultivars of the onion with pink skin and white flesh tinged with red. We are a major Indian exporters and suppliers of all kinds of fresh onions like red onions, pink onions and white onions. Sizes: 30-45 mm 45-55 mm 50 mm and above 55-70 mm 60 and above Packaging: 2.5kg, 3kg, 5kg, 9kg, 10kg, 15kg, 17kg, 18kg, 20kg, 25kg, 30kg Red Mesh Bag or Jute Bag Load ability: 12.5 MT per 20ft container ODO 28 MT per 40ft Refer container.  \n",
       "16  Anushka Avni International (AAI) takes pleasure in presenting itself as one of the renowned Suppliers and Exporter. We have huge assortment of agro products available with us. We feel proud when buyers come to us recognizing the standard quality which we offer in the world wide market. We follow the best practices while supplying and exportingAgro Products. We thoroughly consider the demand and requirement ofthe client till the final destination. The company professionals are aware of the fact that demands of thecustomers keep evolving. We do have strong background in Horticultureand Harvest handling of perishables. Company takes initiatives to deliver the best quality to thecustomers. Moreover, we have established ourselves in the market forproviding the best quality all across the domestic and Internationalmarket.  \n",
       "17                                                                                                                                                                                                                                                                                                                                                                                                                                                                                                                                                                                                                                  We are one of the leading organizations engaged in delivering our customers with Fresh Onions. We manufacture this in bulk requirements for our clients. Malaysia, Singapore, Philippines, Vietnam Quality Product Details:  \n",
       "18                                                                                                                                                                                                                                                                                                                                                                                                                                                                                                                                                                          Fresh Tomatoes from Anushka Avni International We have emerged as one of the reputed organization actively participating in exporting and suppling Red Tomatoes. Product Details: Taste enhancer Free from preservatives Pure Useful for chutney Packing : 6.5 kg, 7.00 kg Cartons.  \n",
       "19                                                                                                                                                                                                                                                                                                                                                                                                                                                                                                                                                               Anushka Avni International (AAI) takes pleasure in presenting itself as one of the renowned Suppliers and Exporter. We have huge assortment of agro products available with us. We feel proud when buyers come to us recognizing the standard quality which we offer in the world wide market.  \n",
       "20                                                                                                                                                                                                                                                                                                                                                                                                                                                                                                                   Welcome to Anushka Avni International (AAI) Anushka Avni International (AAI) takes pleasure in presenting itself as one of the renowned Suppliers and Exporter. We have huge assortment of agro products available with us. We feel proud when buyers come to us recognizing the standard quality which we offer in the world wide market.  \n",
       "21                                                                                                                                                                                                                                                                                                                                                                                                                                                                                                                                                                                                                                                                                     Thomson Seedless These grapes are seedless, sweet-tart, and crunchy. Thomson Seedless account for the bulk of Table Grape exports from India. Berry Size: 16mm and above  \n",
       "22                                                                                                                                                                                                                                                                                                                                                                            Black Sharad Seedless Grapes Crisp to taste, these grapes vary in shades of black to purple. Each berry is usually medium-sized and oval-shaped. Berry Size: 18mm and above Packaging Packing Size: 4.5 kg loose in carry bags 8.2 kg loose in carry bags 5 kg carton punnets10 x 500 gms Load ability: 5 kg – 2400 cartons per container 4.5 kilo – 3400 cartons per container 8.2 kilo – 2040 cartons per container Availability: December | January | February | March | April  \n",
       "23                                                                                                                                                                                                                                                                                                                                                                                                                                                                                                                                                                                                                                                                                                                                                                    Flame / Red seedless grapesFlame grapes are one of the most popular varieties along with…  \n",
       "24                                                                                                                                                                                                                                                                                                                                                                                                                                                                                                                                                                                                                                         A Dictionary in Python is an unordered collection of data values, used to store data values like a map, which, unlike other Data Types that hold only a single value as an element, Dictionary holds key:value pair.  \n",
       "25                                                                           Botany originated in prehistory as herbalism with the efforts of early humans to identify – and later cultivate – edible, medicinal and poisonous plants, making it one of the oldest branches of science. Medieval physic gardens, often attached to monasteries, contained plants of medical importance. They were forerunners of the first botanical gardens attached to universities, founded from the 1540s onwards. One of the earliest was the Padua botanical garden. These gardens facilitated the academic study of plants. Efforts to catalogue and describe their collections were the beginnings of plant taxonomy, and led in 1753 to the binomial system of nomenclature of Carl Linnaeus that remains in use to this day for the naming of all biological species.  \n",
       "26                                                                                                                                                                                                                                                                                                                                               Semantic similarity is a metric defined over a set of documents or terms, where the idea of distance between items is based on the likeness of their meaning or semantic content as opposed to lexicographical similarity. These are mathematical tools used to estimate the strength of the semantic relationship between units of language, concepts or instances, through a numerical description obtained according to the comparison of information supporting their meaning or describing their nature.   \n",
       "27                                                                                                                                                                                                                                                                                                                                                                                                                                                                                                                                                                                                                                            Botany, also called plant science(s), plant biology or phytology, is the science of plant life and a branch of biology. A botanist, plant scientist or phytologist is a scientist who specialises in this field.   \n",
       "28                                                                                                                                                                                                                                                                                                                                        The Ford Bronco is a model line of sport utility vehicles manufactured and marketed by Ford. ... The first SUV model developed by the company, five generations of the Bronco were sold from the 1966 to 1996 model years. A sixth generation of the model line is sold from the 2021 model year. the Ford Bronco will be available in Canada, with first deliveries beginning in spring of 2021. The Bronco will come in six versions in Canada: Base, Big Bend, Black Diamond, Outer Banks, Wildtrak and Badlands.   \n",
       "29                                                                                                                                                                                                                                                                                                                                                                                                                                                                                                                                                                                                                                                                                                        Fruit dishes are those that use fruit as a primary ingredient. Condiments prepared with fruit as a primary ingredient are also included in this list.  \n",
       "30                                                                                                                                                                                                                                                                                                                                                                                                                                                                                                                                                                                                                                          Neuro linguistic programming (NLP) is a pseudoscientific approach to communication, personal development, and psychotherapy created by Richard Bandler and John Grinder in California, United States, in the 1970s.  \n",
       "31                                                                                                                                                                                                                                                                                                                                                                                                                                                           A fruit serving bowl is a round dish or container typically used to prepare and serve food. The interior of a bowl is characteristically shaped like a spherical cap, with the edges and the bottom forming a seamless curve. This makes bowls especially suited for holding liquids and loose food, as the contents of the bowl are naturally concentrated in its center by the force of gravity.  "
      ]
     },
     "execution_count": 4,
     "metadata": {},
     "output_type": "execute_result"
    }
   ],
   "source": [
    "import pandas as pd\n",
    "\n",
    "# Setting pandas option to display full text without truncation for better inspection of document content.\n",
    "pd.set_option('display.max_colwidth', None)\n",
    "\n",
    "df_documents = pd.DataFrame({\n",
    "    'document_id': [id for id in range(len(documents))],\n",
    "    'title': titles,\n",
    "    'text': documents,\n",
    "})\n",
    "\n",
    "df_documents"
   ]
  },
  {
   "cell_type": "code",
   "execution_count": 5,
   "metadata": {
    "id": "eZ9xRTd1wPWG"
   },
   "outputs": [],
   "source": [
    "# Defining the queries to evaluate against the documents.\n",
    "queries = {\n",
    "    1: 'fruits',\n",
    "    2: 'vegetables',\n",
    "    3: 'healthy foods in Canada',\n",
    "}"
   ]
  },
  {
   "cell_type": "code",
   "execution_count": 6,
   "metadata": {
    "id": "j4NEZ1Haw-jN"
   },
   "outputs": [],
   "source": [
    "# Mapping of document IDs to their relevance scores for each query.\n",
    "# Scores (0 - 6) are subjective and based on perceived relevance to the query topics:\n",
    "query_relevance_scores = {\n",
    "    # document_id: [relevance score for query 1, for query 2, for query 3]\n",
    "    0:  [3, 2, 2],\n",
    "    1:  [3, 2, 2],\n",
    "    2:  [1, 1, 0],\n",
    "    3:  [1, 1, 0],\n",
    "    4:  [2, 3, 1],\n",
    "    5:  [1, 1, 0],\n",
    "    6:  [6, 2, 2],\n",
    "    7:  [1, 1, 3],\n",
    "    8:  [1, 1, 4],\n",
    "    9:  [1, 1, 3],\n",
    "    10: [2, 2, 6],\n",
    "    11: [0, 0, 0],\n",
    "    12: [0, 0, 1],\n",
    "    13: [2, 3, 1],\n",
    "    14: [2, 1, 0],\n",
    "    15: [2, 3, 1],\n",
    "    16: [1, 1, 0],\n",
    "    17: [2, 2, 1],\n",
    "    18: [3, 3, 1],\n",
    "    19: [1, 1, 0],\n",
    "    20: [1, 1, 0],\n",
    "    21: [3, 2, 1],\n",
    "    22: [3, 2, 1],\n",
    "    23: [3, 2, 1],\n",
    "    24: [0, 0, 0],\n",
    "    25: [1, 1, 1],\n",
    "    26: [0, 0, 0],\n",
    "    27: [1, 1, 1],\n",
    "    28: [0, 0, 0],\n",
    "    29: [4, 2, 1],\n",
    "    30: [0, 0, 0],\n",
    "    31: [4, 2, 1],\n",
    "}"
   ]
  },
  {
   "cell_type": "code",
   "execution_count": 7,
   "metadata": {
    "id": "RWixlxDn_ula"
   },
   "outputs": [],
   "source": [
    "# Extracting separate lists of relevances for each query for easier manipulation.\n",
    "query_1_relevance_scores = [scores[0] for scores in query_relevance_scores.values()]\n",
    "query_2_relevance_scores = [scores[1] for scores in query_relevance_scores.values()]\n",
    "query_3_relevance_scores = [scores[2] for scores in query_relevance_scores.values()]"
   ]
  },
  {
   "cell_type": "code",
   "execution_count": 8,
   "metadata": {
    "colab": {
     "base_uri": "https://localhost:8080/",
     "height": 1000
    },
    "id": "jYkuANpy_33_",
    "outputId": "84ac2fc3-911f-4dc6-dc6f-2c057ea4cfbb"
   },
   "outputs": [
    {
     "data": {
      "text/html": [
       "<div>\n",
       "<style scoped>\n",
       "    .dataframe tbody tr th:only-of-type {\n",
       "        vertical-align: middle;\n",
       "    }\n",
       "\n",
       "    .dataframe tbody tr th {\n",
       "        vertical-align: top;\n",
       "    }\n",
       "\n",
       "    .dataframe thead th {\n",
       "        text-align: right;\n",
       "    }\n",
       "</style>\n",
       "<table border=\"1\" class=\"dataframe\">\n",
       "  <thead>\n",
       "    <tr style=\"text-align: right;\">\n",
       "      <th></th>\n",
       "      <th>document_id</th>\n",
       "      <th>title</th>\n",
       "      <th>text</th>\n",
       "      <th>query_1_relevance_scores</th>\n",
       "      <th>query_2_relevance_scores</th>\n",
       "      <th>query_3_relevance_scores</th>\n",
       "    </tr>\n",
       "  </thead>\n",
       "  <tbody>\n",
       "    <tr>\n",
       "      <th>0</th>\n",
       "      <td>0</td>\n",
       "      <td>Pomegranate Bhagwa</td>\n",
       "      <td>Fresh Pomegranate from Anushka Avni International Bhagwa is a premium Pomegranate variety from India. The Deep Red arils &amp; the pleasing Red but rugged skin enhances the appearance whilst promoting shelf life of the fruit. Bhagwa is widely known for its soft seed, Dark red color and extremely delicious. Packaging: Net weight of box 2.5kg, 3.00kg, 3.5kg. Details: Minimum Weight 180gm, maximum weight 400gm Color of arils: Dark Cherry red. Taste: Sweet Fruit count / carton (3.50 kg net wt.) 9 Numbers packed per carton: 350-400gms</td>\n",
       "      <td>3</td>\n",
       "      <td>2</td>\n",
       "      <td>2</td>\n",
       "    </tr>\n",
       "    <tr>\n",
       "      <th>1</th>\n",
       "      <td>1</td>\n",
       "      <td>Pomegranate Arakta</td>\n",
       "      <td>Fresh Pomegranate Arakta from Anushka Avni International This Pomegranate are bigger in size, sweet with soft seeds, bold red arils. It also possess glossy, attractive, dark red skin. Packaging: Net weight of box 2.5kg, 3.00kg, 3.5kg. Details: Minimum Weight 180gm, maximum weight 400gm Taste: Sweet Fruit count / carton (3.50 kg net wt.) 9 Numbers packed per carton: 350-400gms 10 Numbers packed per carton :290-320gms 12 Numbers packed per carton: 275-325gms 15 Numbers packed per carton: 225-275gms Load ability: 4400 cartons per container 20 pallets with 220 cartons per pallet Load ability: 5500 cartons per container Loading with No pallets Availability: January | February | March | April | July | August | September | October | Nov | Dec READ MORE</td>\n",
       "      <td>3</td>\n",
       "      <td>2</td>\n",
       "      <td>2</td>\n",
       "    </tr>\n",
       "    <tr>\n",
       "      <th>2</th>\n",
       "      <td>2</td>\n",
       "      <td>About Us</td>\n",
       "      <td>About Us Anushka Avni International (AAI) takes pleasure in presenting itself as one of the renowned Suppliers and Exporter. We have huge assortment of agro products available with us. We feel proud when buyers come to us recognizing the standard quality which we offer in the world wide market. We follow the best practices while supplying… Read More..</td>\n",
       "      <td>1</td>\n",
       "      <td>1</td>\n",
       "      <td>0</td>\n",
       "    </tr>\n",
       "    <tr>\n",
       "      <th>3</th>\n",
       "      <td>3</td>\n",
       "      <td>Contact Us</td>\n",
       "      <td>About Us Anushka Avni International (AAI) takes pleasure in presenting itself as one of the renowned Suppliers and Exporter. We have huge assortment of agro products available with us. We feel proud when buyers come to us recognizing the standard quality which we offer in the world wide market. We follow the best practices while supplying… Read More..</td>\n",
       "      <td>1</td>\n",
       "      <td>1</td>\n",
       "      <td>0</td>\n",
       "    </tr>\n",
       "    <tr>\n",
       "      <th>4</th>\n",
       "      <td>4</td>\n",
       "      <td>White Onions</td>\n",
       "      <td>White Onions from Anushka Avni International Fresh White Onion, which is widely acclaimed for its health benefits and is used for different cuisines. We are a major exporters and suppliers of all kinds of fresh onions like red onions, pink onions and white onions. Sizes: 30-45 mm 45-55 mm 50 mm and above 55-70 mm 60 and above Packaging: 2.5kg, 3kg, 5kg, 9kg, 10kg, 15kg, 17kg, 18kg, 20kg, 25kg, 30kg Red Mesh Bag or Jute Bag Load ability: 12.5 MT per 20ft container ODO 28 MT per 40ft Refer container.</td>\n",
       "      <td>2</td>\n",
       "      <td>3</td>\n",
       "      <td>1</td>\n",
       "    </tr>\n",
       "    <tr>\n",
       "      <th>5</th>\n",
       "      <td>5</td>\n",
       "      <td>Video Gallery</td>\n",
       "      <td>Anushka Avni International (AAI) takes pleasure in presenting itself as one of the renowned Suppliers and Exporter. We have huge assortment of agro products available with us. We feel proud when buyers come to us recognizing the standard quality which we offer in the world wide market.</td>\n",
       "      <td>1</td>\n",
       "      <td>1</td>\n",
       "      <td>0</td>\n",
       "    </tr>\n",
       "    <tr>\n",
       "      <th>6</th>\n",
       "      <td>6</td>\n",
       "      <td>Food classes</td>\n",
       "      <td>To a botanist, a fruit is an entity that develops from the fertilized ovary of a flower. This means that tomatoes, squash, pumpkins, cucumbers, peppers, eggplants, corn kernels, and bean and pea pods are all fruits; so are apples, pears, peaches, apricots, melons and mangos</td>\n",
       "      <td>6</td>\n",
       "      <td>2</td>\n",
       "      <td>2</td>\n",
       "    </tr>\n",
       "    <tr>\n",
       "      <th>7</th>\n",
       "      <td>7</td>\n",
       "      <td>Nutrition</td>\n",
       "      <td>Nutrition is the biochemical and physiological process by which an organism uses intake to support its life. It includes ingestion, absorption, assimilation, biosynthesis, catabolism and excretion. The science that studies the physiological process of nutrition is called nutritional science (also nutrition science).</td>\n",
       "      <td>1</td>\n",
       "      <td>1</td>\n",
       "      <td>3</td>\n",
       "    </tr>\n",
       "    <tr>\n",
       "      <th>8</th>\n",
       "      <td>8</td>\n",
       "      <td>Nutrients</td>\n",
       "      <td>Nutrients are substances used by an organism to survive, grow, and reproduce. The seven major classes of relevant nutrients for animals (including humans) are carbohydrates, dietary fiber, fats, proteins, minerals, vitamins, and water. Nutrients can be grouped as either macronutrients (carbohydrates, dietary fiber, fats, proteins, and water needed in gram quantities) or micronutrients (vitamins and minerals needed in milligram or microgram quantities).</td>\n",
       "      <td>1</td>\n",
       "      <td>1</td>\n",
       "      <td>4</td>\n",
       "    </tr>\n",
       "    <tr>\n",
       "      <th>9</th>\n",
       "      <td>9</td>\n",
       "      <td>Diet</td>\n",
       "      <td>In nutrition, the diet of an organism is the sum of foods it eats, which is largely determined by the availability and palatability of foods.</td>\n",
       "      <td>1</td>\n",
       "      <td>1</td>\n",
       "      <td>3</td>\n",
       "    </tr>\n",
       "    <tr>\n",
       "      <th>10</th>\n",
       "      <td>10</td>\n",
       "      <td>Canada's Food Guide</td>\n",
       "      <td>Canada's Food Guide is a nutrition guide produced by Health Canada to promote Healthy behaviours and habits, and lifestyles in Canada - this is to increase the number of healthy people in Canada. In 2007, it was reported to be the second most requested Canadian government publication, behind the Income Tax Forms. The Health Canada website states: Food guides are basic education tools that are designed to help people follow a healthy diet. The Guide recommends eating a variety of healthy foods each day including plenty of vegetables and fruits, protein foods, and whole grain foods. It recommends choosing protein foods that come from plants more often. It also recommends limiting highly processed foods.</td>\n",
       "      <td>2</td>\n",
       "      <td>2</td>\n",
       "      <td>6</td>\n",
       "    </tr>\n",
       "    <tr>\n",
       "      <th>11</th>\n",
       "      <td>11</td>\n",
       "      <td>Major Market</td>\n",
       "      <td>UK, Nether Land, Russia, Canada, HongKong, Malaysia, Singapore, Oman, UAE, Qatar, Bahrain, Saudi Arabia, Mauritius, Maldives, Sri Lanka, Bangladesh</td>\n",
       "      <td>0</td>\n",
       "      <td>0</td>\n",
       "      <td>0</td>\n",
       "    </tr>\n",
       "    <tr>\n",
       "      <th>12</th>\n",
       "      <td>12</td>\n",
       "      <td>Canadian Industry Statistics</td>\n",
       "      <td>Canadian Industry Statistics (CIS) analyses industry data on many economic indicators in Canada</td>\n",
       "      <td>0</td>\n",
       "      <td>0</td>\n",
       "      <td>1</td>\n",
       "    </tr>\n",
       "    <tr>\n",
       "      <th>13</th>\n",
       "      <td>13</td>\n",
       "      <td>Red Onions</td>\n",
       "      <td>Red Onions from Anushka Avni International Red onions, sometimes called purple onions, are cultivars of the onion with purplish red skin and white flesh tinged with red. We are a major Indian exporters and suppliers of all kinds of fresh onions like red onions and white onions. Sizes: 30-45 mm 45-55 mm 50 mm and above 55-70 mm 60 and above Packaging: 2.5kg, 3kg, 5kg, 9kg, 10kg, 15kg, 17kg, 18kg, 20kg, 25kg, 30kg Red Mesh Bag or Jute Bag Load ability: 12.5 MT per 20ft container ODO 28 MT per 40ft Refer container.</td>\n",
       "      <td>2</td>\n",
       "      <td>3</td>\n",
       "      <td>1</td>\n",
       "    </tr>\n",
       "    <tr>\n",
       "      <th>14</th>\n",
       "      <td>14</td>\n",
       "      <td>Grapes Sonaka Seedless</td>\n",
       "      <td>Berry Size: 18mm and above Packaging Packing Size: 4.5 kg loose in carry bags 8.2 kg loose in carry bags 5 kg carton punnets10 x 500 gms Load ability: 5 kg – 2400 cartons per container 4.5 kilo – 3400 cartons per container 8.2 kilo – 2040 cartons per container Availability: December | January | February | March | April</td>\n",
       "      <td>2</td>\n",
       "      <td>1</td>\n",
       "      <td>0</td>\n",
       "    </tr>\n",
       "    <tr>\n",
       "      <th>15</th>\n",
       "      <td>15</td>\n",
       "      <td>Pink Onions</td>\n",
       "      <td>Pink Onions from Anushka Avni International Pink onions, sometimes called summer onions, are cultivars of the onion with pink skin and white flesh tinged with red. We are a major Indian exporters and suppliers of all kinds of fresh onions like red onions, pink onions and white onions. Sizes: 30-45 mm 45-55 mm 50 mm and above 55-70 mm 60 and above Packaging: 2.5kg, 3kg, 5kg, 9kg, 10kg, 15kg, 17kg, 18kg, 20kg, 25kg, 30kg Red Mesh Bag or Jute Bag Load ability: 12.5 MT per 20ft container ODO 28 MT per 40ft Refer container.</td>\n",
       "      <td>2</td>\n",
       "      <td>3</td>\n",
       "      <td>1</td>\n",
       "    </tr>\n",
       "    <tr>\n",
       "      <th>16</th>\n",
       "      <td>16</td>\n",
       "      <td>About Us</td>\n",
       "      <td>Anushka Avni International (AAI) takes pleasure in presenting itself as one of the renowned Suppliers and Exporter. We have huge assortment of agro products available with us. We feel proud when buyers come to us recognizing the standard quality which we offer in the world wide market. We follow the best practices while supplying and exportingAgro Products. We thoroughly consider the demand and requirement ofthe client till the final destination. The company professionals are aware of the fact that demands of thecustomers keep evolving. We do have strong background in Horticultureand Harvest handling of perishables. Company takes initiatives to deliver the best quality to thecustomers. Moreover, we have established ourselves in the market forproviding the best quality all across the domestic and Internationalmarket.</td>\n",
       "      <td>1</td>\n",
       "      <td>1</td>\n",
       "      <td>0</td>\n",
       "    </tr>\n",
       "    <tr>\n",
       "      <th>17</th>\n",
       "      <td>17</td>\n",
       "      <td>Small Onions</td>\n",
       "      <td>We are one of the leading organizations engaged in delivering our customers with Fresh Onions. We manufacture this in bulk requirements for our clients. Malaysia, Singapore, Philippines, Vietnam Quality Product Details:</td>\n",
       "      <td>2</td>\n",
       "      <td>2</td>\n",
       "      <td>1</td>\n",
       "    </tr>\n",
       "    <tr>\n",
       "      <th>18</th>\n",
       "      <td>18</td>\n",
       "      <td>Tomatoes</td>\n",
       "      <td>Fresh Tomatoes from Anushka Avni International We have emerged as one of the reputed organization actively participating in exporting and suppling Red Tomatoes. Product Details: Taste enhancer Free from preservatives Pure Useful for chutney Packing : 6.5 kg, 7.00 kg Cartons.</td>\n",
       "      <td>3</td>\n",
       "      <td>3</td>\n",
       "      <td>1</td>\n",
       "    </tr>\n",
       "    <tr>\n",
       "      <th>19</th>\n",
       "      <td>19</td>\n",
       "      <td>Downloads</td>\n",
       "      <td>Anushka Avni International (AAI) takes pleasure in presenting itself as one of the renowned Suppliers and Exporter. We have huge assortment of agro products available with us. We feel proud when buyers come to us recognizing the standard quality which we offer in the world wide market.</td>\n",
       "      <td>1</td>\n",
       "      <td>1</td>\n",
       "      <td>0</td>\n",
       "    </tr>\n",
       "    <tr>\n",
       "      <th>20</th>\n",
       "      <td>20</td>\n",
       "      <td>Welcome to Anushka Avni International (AAI)</td>\n",
       "      <td>Welcome to Anushka Avni International (AAI) Anushka Avni International (AAI) takes pleasure in presenting itself as one of the renowned Suppliers and Exporter. We have huge assortment of agro products available with us. We feel proud when buyers come to us recognizing the standard quality which we offer in the world wide market.</td>\n",
       "      <td>1</td>\n",
       "      <td>1</td>\n",
       "      <td>0</td>\n",
       "    </tr>\n",
       "    <tr>\n",
       "      <th>21</th>\n",
       "      <td>21</td>\n",
       "      <td>Grapes Thompson Seedless</td>\n",
       "      <td>Thomson Seedless These grapes are seedless, sweet-tart, and crunchy. Thomson Seedless account for the bulk of Table Grape exports from India. Berry Size: 16mm and above</td>\n",
       "      <td>3</td>\n",
       "      <td>2</td>\n",
       "      <td>1</td>\n",
       "    </tr>\n",
       "    <tr>\n",
       "      <th>22</th>\n",
       "      <td>22</td>\n",
       "      <td>Grapes Black Sharad Seedless</td>\n",
       "      <td>Black Sharad Seedless Grapes Crisp to taste, these grapes vary in shades of black to purple. Each berry is usually medium-sized and oval-shaped. Berry Size: 18mm and above Packaging Packing Size: 4.5 kg loose in carry bags 8.2 kg loose in carry bags 5 kg carton punnets10 x 500 gms Load ability: 5 kg – 2400 cartons per container 4.5 kilo – 3400 cartons per container 8.2 kilo – 2040 cartons per container Availability: December | January | February | March | April</td>\n",
       "      <td>3</td>\n",
       "      <td>2</td>\n",
       "      <td>1</td>\n",
       "    </tr>\n",
       "    <tr>\n",
       "      <th>23</th>\n",
       "      <td>23</td>\n",
       "      <td>Grapes Flame / Red Seedless</td>\n",
       "      <td>Flame / Red seedless grapesFlame grapes are one of the most popular varieties along with…</td>\n",
       "      <td>3</td>\n",
       "      <td>2</td>\n",
       "      <td>1</td>\n",
       "    </tr>\n",
       "    <tr>\n",
       "      <th>24</th>\n",
       "      <td>24</td>\n",
       "      <td>Python dict</td>\n",
       "      <td>A Dictionary in Python is an unordered collection of data values, used to store data values like a map, which, unlike other Data Types that hold only a single value as an element, Dictionary holds key:value pair.</td>\n",
       "      <td>0</td>\n",
       "      <td>0</td>\n",
       "      <td>0</td>\n",
       "    </tr>\n",
       "    <tr>\n",
       "      <th>25</th>\n",
       "      <td>25</td>\n",
       "      <td>history of botany</td>\n",
       "      <td>Botany originated in prehistory as herbalism with the efforts of early humans to identify – and later cultivate – edible, medicinal and poisonous plants, making it one of the oldest branches of science. Medieval physic gardens, often attached to monasteries, contained plants of medical importance. They were forerunners of the first botanical gardens attached to universities, founded from the 1540s onwards. One of the earliest was the Padua botanical garden. These gardens facilitated the academic study of plants. Efforts to catalogue and describe their collections were the beginnings of plant taxonomy, and led in 1753 to the binomial system of nomenclature of Carl Linnaeus that remains in use to this day for the naming of all biological species.</td>\n",
       "      <td>1</td>\n",
       "      <td>1</td>\n",
       "      <td>1</td>\n",
       "    </tr>\n",
       "    <tr>\n",
       "      <th>26</th>\n",
       "      <td>26</td>\n",
       "      <td>Semantic similarity</td>\n",
       "      <td>Semantic similarity is a metric defined over a set of documents or terms, where the idea of distance between items is based on the likeness of their meaning or semantic content as opposed to lexicographical similarity. These are mathematical tools used to estimate the strength of the semantic relationship between units of language, concepts or instances, through a numerical description obtained according to the comparison of information supporting their meaning or describing their nature.</td>\n",
       "      <td>0</td>\n",
       "      <td>0</td>\n",
       "      <td>0</td>\n",
       "    </tr>\n",
       "    <tr>\n",
       "      <th>27</th>\n",
       "      <td>27</td>\n",
       "      <td>botany</td>\n",
       "      <td>Botany, also called plant science(s), plant biology or phytology, is the science of plant life and a branch of biology. A botanist, plant scientist or phytologist is a scientist who specialises in this field.</td>\n",
       "      <td>1</td>\n",
       "      <td>1</td>\n",
       "      <td>1</td>\n",
       "    </tr>\n",
       "    <tr>\n",
       "      <th>28</th>\n",
       "      <td>28</td>\n",
       "      <td>Ford Bronco</td>\n",
       "      <td>The Ford Bronco is a model line of sport utility vehicles manufactured and marketed by Ford. ... The first SUV model developed by the company, five generations of the Bronco were sold from the 1966 to 1996 model years. A sixth generation of the model line is sold from the 2021 model year. the Ford Bronco will be available in Canada, with first deliveries beginning in spring of 2021. The Bronco will come in six versions in Canada: Base, Big Bend, Black Diamond, Outer Banks, Wildtrak and Badlands.</td>\n",
       "      <td>0</td>\n",
       "      <td>0</td>\n",
       "      <td>0</td>\n",
       "    </tr>\n",
       "    <tr>\n",
       "      <th>29</th>\n",
       "      <td>29</td>\n",
       "      <td>List of fruit dishes</td>\n",
       "      <td>Fruit dishes are those that use fruit as a primary ingredient. Condiments prepared with fruit as a primary ingredient are also included in this list.</td>\n",
       "      <td>4</td>\n",
       "      <td>2</td>\n",
       "      <td>1</td>\n",
       "    </tr>\n",
       "    <tr>\n",
       "      <th>30</th>\n",
       "      <td>30</td>\n",
       "      <td>Neuro linguistic programming</td>\n",
       "      <td>Neuro linguistic programming (NLP) is a pseudoscientific approach to communication, personal development, and psychotherapy created by Richard Bandler and John Grinder in California, United States, in the 1970s.</td>\n",
       "      <td>0</td>\n",
       "      <td>0</td>\n",
       "      <td>0</td>\n",
       "    </tr>\n",
       "    <tr>\n",
       "      <th>31</th>\n",
       "      <td>31</td>\n",
       "      <td>fruit serving bowl</td>\n",
       "      <td>A fruit serving bowl is a round dish or container typically used to prepare and serve food. The interior of a bowl is characteristically shaped like a spherical cap, with the edges and the bottom forming a seamless curve. This makes bowls especially suited for holding liquids and loose food, as the contents of the bowl are naturally concentrated in its center by the force of gravity.</td>\n",
       "      <td>4</td>\n",
       "      <td>2</td>\n",
       "      <td>1</td>\n",
       "    </tr>\n",
       "  </tbody>\n",
       "</table>\n",
       "</div>"
      ],
      "text/plain": [
       "    document_id                                        title  \\\n",
       "0             0                           Pomegranate Bhagwa   \n",
       "1             1                           Pomegranate Arakta   \n",
       "2             2                                     About Us   \n",
       "3             3                                   Contact Us   \n",
       "4             4                                 White Onions   \n",
       "5             5                                Video Gallery   \n",
       "6             6                                 Food classes   \n",
       "7             7                                    Nutrition   \n",
       "8             8                                    Nutrients   \n",
       "9             9                                         Diet   \n",
       "10           10                          Canada's Food Guide   \n",
       "11           11                                 Major Market   \n",
       "12           12                 Canadian Industry Statistics   \n",
       "13           13                                   Red Onions   \n",
       "14           14                       Grapes Sonaka Seedless   \n",
       "15           15                                  Pink Onions   \n",
       "16           16                                     About Us   \n",
       "17           17                                 Small Onions   \n",
       "18           18                                     Tomatoes   \n",
       "19           19                                    Downloads   \n",
       "20           20  Welcome to Anushka Avni International (AAI)   \n",
       "21           21                     Grapes Thompson Seedless   \n",
       "22           22                 Grapes Black Sharad Seedless   \n",
       "23           23                  Grapes Flame / Red Seedless   \n",
       "24           24                                 Python dict    \n",
       "25           25                            history of botany   \n",
       "26           26                          Semantic similarity   \n",
       "27           27                                       botany   \n",
       "28           28                                 Ford Bronco    \n",
       "29           29                         List of fruit dishes   \n",
       "30           30                 Neuro linguistic programming   \n",
       "31           31                           fruit serving bowl   \n",
       "\n",
       "                                                                                                                                                                                                                                                                                                                                                                                                                                                                                                                                                                                                                                                                                                                                                                                                                                                           text  \\\n",
       "0                                                                                                                                                                                                                                                                                                           Fresh Pomegranate from Anushka Avni International Bhagwa is a premium Pomegranate variety from India. The Deep Red arils & the pleasing Red but rugged skin enhances the appearance whilst promoting shelf life of the fruit. Bhagwa is widely known for its soft seed, Dark red color and extremely delicious. Packaging: Net weight of box 2.5kg, 3.00kg, 3.5kg. Details: Minimum Weight 180gm, maximum weight 400gm Color of arils: Dark Cherry red. Taste: Sweet Fruit count / carton (3.50 kg net wt.) 9 Numbers packed per carton: 350-400gms   \n",
       "1                                                                           Fresh Pomegranate Arakta from Anushka Avni International This Pomegranate are bigger in size, sweet with soft seeds, bold red arils. It also possess glossy, attractive, dark red skin. Packaging: Net weight of box 2.5kg, 3.00kg, 3.5kg. Details: Minimum Weight 180gm, maximum weight 400gm Taste: Sweet Fruit count / carton (3.50 kg net wt.) 9 Numbers packed per carton: 350-400gms 10 Numbers packed per carton :290-320gms 12 Numbers packed per carton: 275-325gms 15 Numbers packed per carton: 225-275gms Load ability: 4400 cartons per container 20 pallets with 220 cartons per pallet Load ability: 5500 cartons per container Loading with No pallets Availability: January | February | March | April | July | August | September | October | Nov | Dec READ MORE   \n",
       "2                                                                                                                                                                                                                                                                                                                                                                                                                                                                                             About Us Anushka Avni International (AAI) takes pleasure in presenting itself as one of the renowned Suppliers and Exporter. We have huge assortment of agro products available with us. We feel proud when buyers come to us recognizing the standard quality which we offer in the world wide market. We follow the best practices while supplying… Read More..   \n",
       "3                                                                                                                                                                                                                                                                                                                                                                                                                                                                                             About Us Anushka Avni International (AAI) takes pleasure in presenting itself as one of the renowned Suppliers and Exporter. We have huge assortment of agro products available with us. We feel proud when buyers come to us recognizing the standard quality which we offer in the world wide market. We follow the best practices while supplying… Read More..   \n",
       "4                                                                                                                                                                                                                                                                                                                                       White Onions from Anushka Avni International Fresh White Onion, which is widely acclaimed for its health benefits and is used for different cuisines. We are a major exporters and suppliers of all kinds of fresh onions like red onions, pink onions and white onions. Sizes: 30-45 mm 45-55 mm 50 mm and above 55-70 mm 60 and above Packaging: 2.5kg, 3kg, 5kg, 9kg, 10kg, 15kg, 17kg, 18kg, 20kg, 25kg, 30kg Red Mesh Bag or Jute Bag Load ability: 12.5 MT per 20ft container ODO 28 MT per 40ft Refer container.   \n",
       "5                                                                                                                                                                                                                                                                                                                                                                                                                                                                                                                                                                Anushka Avni International (AAI) takes pleasure in presenting itself as one of the renowned Suppliers and Exporter. We have huge assortment of agro products available with us. We feel proud when buyers come to us recognizing the standard quality which we offer in the world wide market.   \n",
       "6                                                                                                                                                                                                                                                                                                                                                                                                                                                                                                                                                                            To a botanist, a fruit is an entity that develops from the fertilized ovary of a flower. This means that tomatoes, squash, pumpkins, cucumbers, peppers, eggplants, corn kernels, and bean and pea pods are all fruits; so are apples, pears, peaches, apricots, melons and mangos   \n",
       "7                                                                                                                                                                                                                                                                                                                                                                                                                                                                                                                                 Nutrition is the biochemical and physiological process by which an organism uses intake to support its life. It includes ingestion, absorption, assimilation, biosynthesis, catabolism and excretion. The science that studies the physiological process of nutrition is called nutritional science (also nutrition science).   \n",
       "8                                                                                                                                                                                                                                                                                                                                                                                      Nutrients are substances used by an organism to survive, grow, and reproduce. The seven major classes of relevant nutrients for animals (including humans) are carbohydrates, dietary fiber, fats, proteins, minerals, vitamins, and water. Nutrients can be grouped as either macronutrients (carbohydrates, dietary fiber, fats, proteins, and water needed in gram quantities) or micronutrients (vitamins and minerals needed in milligram or microgram quantities).   \n",
       "9                                                                                                                                                                                                                                                                                                                                                                                                                                                                                                                                                                                                                                                                                                                 In nutrition, the diet of an organism is the sum of foods it eats, which is largely determined by the availability and palatability of foods.   \n",
       "10                                                                                                                       Canada's Food Guide is a nutrition guide produced by Health Canada to promote Healthy behaviours and habits, and lifestyles in Canada - this is to increase the number of healthy people in Canada. In 2007, it was reported to be the second most requested Canadian government publication, behind the Income Tax Forms. The Health Canada website states: Food guides are basic education tools that are designed to help people follow a healthy diet. The Guide recommends eating a variety of healthy foods each day including plenty of vegetables and fruits, protein foods, and whole grain foods. It recommends choosing protein foods that come from plants more often. It also recommends limiting highly processed foods.   \n",
       "11                                                                                                                                                                                                                                                                                                                                                                                                                                                                                                                                                                                                                                                                                                          UK, Nether Land, Russia, Canada, HongKong, Malaysia, Singapore, Oman, UAE, Qatar, Bahrain, Saudi Arabia, Mauritius, Maldives, Sri Lanka, Bangladesh   \n",
       "12                                                                                                                                                                                                                                                                                                                                                                                                                                                                                                                                                                                                                                                                                                                                                              Canadian Industry Statistics (CIS) analyses industry data on many economic indicators in Canada   \n",
       "13                                                                                                                                                                                                                                                                                                                        Red Onions from Anushka Avni International Red onions, sometimes called purple onions, are cultivars of the onion with purplish red skin and white flesh tinged with red. We are a major Indian exporters and suppliers of all kinds of fresh onions like red onions and white onions. Sizes: 30-45 mm 45-55 mm 50 mm and above 55-70 mm 60 and above Packaging: 2.5kg, 3kg, 5kg, 9kg, 10kg, 15kg, 17kg, 18kg, 20kg, 25kg, 30kg Red Mesh Bag or Jute Bag Load ability: 12.5 MT per 20ft container ODO 28 MT per 40ft Refer container.   \n",
       "14                                                                                                                                                                                                                                                                                                                                                                                                                                                                                                                             Berry Size: 18mm and above Packaging Packing Size: 4.5 kg loose in carry bags 8.2 kg loose in carry bags 5 kg carton punnets10 x 500 gms Load ability: 5 kg – 2400 cartons per container 4.5 kilo – 3400 cartons per container 8.2 kilo – 2040 cartons per container Availability: December | January | February | March | April   \n",
       "15                                                                                                                                                                                                                                                                                                                 Pink Onions from Anushka Avni International Pink onions, sometimes called summer onions, are cultivars of the onion with pink skin and white flesh tinged with red. We are a major Indian exporters and suppliers of all kinds of fresh onions like red onions, pink onions and white onions. Sizes: 30-45 mm 45-55 mm 50 mm and above 55-70 mm 60 and above Packaging: 2.5kg, 3kg, 5kg, 9kg, 10kg, 15kg, 17kg, 18kg, 20kg, 25kg, 30kg Red Mesh Bag or Jute Bag Load ability: 12.5 MT per 20ft container ODO 28 MT per 40ft Refer container.   \n",
       "16  Anushka Avni International (AAI) takes pleasure in presenting itself as one of the renowned Suppliers and Exporter. We have huge assortment of agro products available with us. We feel proud when buyers come to us recognizing the standard quality which we offer in the world wide market. We follow the best practices while supplying and exportingAgro Products. We thoroughly consider the demand and requirement ofthe client till the final destination. The company professionals are aware of the fact that demands of thecustomers keep evolving. We do have strong background in Horticultureand Harvest handling of perishables. Company takes initiatives to deliver the best quality to thecustomers. Moreover, we have established ourselves in the market forproviding the best quality all across the domestic and Internationalmarket.   \n",
       "17                                                                                                                                                                                                                                                                                                                                                                                                                                                                                                                                                                                                                                  We are one of the leading organizations engaged in delivering our customers with Fresh Onions. We manufacture this in bulk requirements for our clients. Malaysia, Singapore, Philippines, Vietnam Quality Product Details:   \n",
       "18                                                                                                                                                                                                                                                                                                                                                                                                                                                                                                                                                                          Fresh Tomatoes from Anushka Avni International We have emerged as one of the reputed organization actively participating in exporting and suppling Red Tomatoes. Product Details: Taste enhancer Free from preservatives Pure Useful for chutney Packing : 6.5 kg, 7.00 kg Cartons.   \n",
       "19                                                                                                                                                                                                                                                                                                                                                                                                                                                                                                                                                               Anushka Avni International (AAI) takes pleasure in presenting itself as one of the renowned Suppliers and Exporter. We have huge assortment of agro products available with us. We feel proud when buyers come to us recognizing the standard quality which we offer in the world wide market.   \n",
       "20                                                                                                                                                                                                                                                                                                                                                                                                                                                                                                                   Welcome to Anushka Avni International (AAI) Anushka Avni International (AAI) takes pleasure in presenting itself as one of the renowned Suppliers and Exporter. We have huge assortment of agro products available with us. We feel proud when buyers come to us recognizing the standard quality which we offer in the world wide market.   \n",
       "21                                                                                                                                                                                                                                                                                                                                                                                                                                                                                                                                                                                                                                                                                     Thomson Seedless These grapes are seedless, sweet-tart, and crunchy. Thomson Seedless account for the bulk of Table Grape exports from India. Berry Size: 16mm and above   \n",
       "22                                                                                                                                                                                                                                                                                                                                                                            Black Sharad Seedless Grapes Crisp to taste, these grapes vary in shades of black to purple. Each berry is usually medium-sized and oval-shaped. Berry Size: 18mm and above Packaging Packing Size: 4.5 kg loose in carry bags 8.2 kg loose in carry bags 5 kg carton punnets10 x 500 gms Load ability: 5 kg – 2400 cartons per container 4.5 kilo – 3400 cartons per container 8.2 kilo – 2040 cartons per container Availability: December | January | February | March | April   \n",
       "23                                                                                                                                                                                                                                                                                                                                                                                                                                                                                                                                                                                                                                                                                                                                                                    Flame / Red seedless grapesFlame grapes are one of the most popular varieties along with…   \n",
       "24                                                                                                                                                                                                                                                                                                                                                                                                                                                                                                                                                                                                                                         A Dictionary in Python is an unordered collection of data values, used to store data values like a map, which, unlike other Data Types that hold only a single value as an element, Dictionary holds key:value pair.   \n",
       "25                                                                           Botany originated in prehistory as herbalism with the efforts of early humans to identify – and later cultivate – edible, medicinal and poisonous plants, making it one of the oldest branches of science. Medieval physic gardens, often attached to monasteries, contained plants of medical importance. They were forerunners of the first botanical gardens attached to universities, founded from the 1540s onwards. One of the earliest was the Padua botanical garden. These gardens facilitated the academic study of plants. Efforts to catalogue and describe their collections were the beginnings of plant taxonomy, and led in 1753 to the binomial system of nomenclature of Carl Linnaeus that remains in use to this day for the naming of all biological species.   \n",
       "26                                                                                                                                                                                                                                                                                                                                               Semantic similarity is a metric defined over a set of documents or terms, where the idea of distance between items is based on the likeness of their meaning or semantic content as opposed to lexicographical similarity. These are mathematical tools used to estimate the strength of the semantic relationship between units of language, concepts or instances, through a numerical description obtained according to the comparison of information supporting their meaning or describing their nature.    \n",
       "27                                                                                                                                                                                                                                                                                                                                                                                                                                                                                                                                                                                                                                            Botany, also called plant science(s), plant biology or phytology, is the science of plant life and a branch of biology. A botanist, plant scientist or phytologist is a scientist who specialises in this field.    \n",
       "28                                                                                                                                                                                                                                                                                                                                        The Ford Bronco is a model line of sport utility vehicles manufactured and marketed by Ford. ... The first SUV model developed by the company, five generations of the Bronco were sold from the 1966 to 1996 model years. A sixth generation of the model line is sold from the 2021 model year. the Ford Bronco will be available in Canada, with first deliveries beginning in spring of 2021. The Bronco will come in six versions in Canada: Base, Big Bend, Black Diamond, Outer Banks, Wildtrak and Badlands.    \n",
       "29                                                                                                                                                                                                                                                                                                                                                                                                                                                                                                                                                                                                                                                                                                        Fruit dishes are those that use fruit as a primary ingredient. Condiments prepared with fruit as a primary ingredient are also included in this list.   \n",
       "30                                                                                                                                                                                                                                                                                                                                                                                                                                                                                                                                                                                                                                          Neuro linguistic programming (NLP) is a pseudoscientific approach to communication, personal development, and psychotherapy created by Richard Bandler and John Grinder in California, United States, in the 1970s.   \n",
       "31                                                                                                                                                                                                                                                                                                                                                                                                                                                           A fruit serving bowl is a round dish or container typically used to prepare and serve food. The interior of a bowl is characteristically shaped like a spherical cap, with the edges and the bottom forming a seamless curve. This makes bowls especially suited for holding liquids and loose food, as the contents of the bowl are naturally concentrated in its center by the force of gravity.   \n",
       "\n",
       "    query_1_relevance_scores  query_2_relevance_scores  \\\n",
       "0                          3                         2   \n",
       "1                          3                         2   \n",
       "2                          1                         1   \n",
       "3                          1                         1   \n",
       "4                          2                         3   \n",
       "5                          1                         1   \n",
       "6                          6                         2   \n",
       "7                          1                         1   \n",
       "8                          1                         1   \n",
       "9                          1                         1   \n",
       "10                         2                         2   \n",
       "11                         0                         0   \n",
       "12                         0                         0   \n",
       "13                         2                         3   \n",
       "14                         2                         1   \n",
       "15                         2                         3   \n",
       "16                         1                         1   \n",
       "17                         2                         2   \n",
       "18                         3                         3   \n",
       "19                         1                         1   \n",
       "20                         1                         1   \n",
       "21                         3                         2   \n",
       "22                         3                         2   \n",
       "23                         3                         2   \n",
       "24                         0                         0   \n",
       "25                         1                         1   \n",
       "26                         0                         0   \n",
       "27                         1                         1   \n",
       "28                         0                         0   \n",
       "29                         4                         2   \n",
       "30                         0                         0   \n",
       "31                         4                         2   \n",
       "\n",
       "    query_3_relevance_scores  \n",
       "0                          2  \n",
       "1                          2  \n",
       "2                          0  \n",
       "3                          0  \n",
       "4                          1  \n",
       "5                          0  \n",
       "6                          2  \n",
       "7                          3  \n",
       "8                          4  \n",
       "9                          3  \n",
       "10                         6  \n",
       "11                         0  \n",
       "12                         1  \n",
       "13                         1  \n",
       "14                         0  \n",
       "15                         1  \n",
       "16                         0  \n",
       "17                         1  \n",
       "18                         1  \n",
       "19                         0  \n",
       "20                         0  \n",
       "21                         1  \n",
       "22                         1  \n",
       "23                         1  \n",
       "24                         0  \n",
       "25                         1  \n",
       "26                         0  \n",
       "27                         1  \n",
       "28                         0  \n",
       "29                         1  \n",
       "30                         0  \n",
       "31                         1  "
      ]
     },
     "execution_count": 8,
     "metadata": {},
     "output_type": "execute_result"
    }
   ],
   "source": [
    "df_documents = pd.DataFrame({\n",
    "    'document_id': list(query_relevance_scores.keys()),\n",
    "    'title': titles,\n",
    "    'text': documents,\n",
    "    'query_1_relevance_scores': query_1_relevance_scores,\n",
    "    'query_2_relevance_scores': query_2_relevance_scores,\n",
    "    'query_3_relevance_scores': query_3_relevance_scores,\n",
    "})\n",
    "\n",
    "df_documents"
   ]
  },
  {
   "cell_type": "code",
   "execution_count": 9,
   "metadata": {
    "colab": {
     "base_uri": "https://localhost:8080/",
     "height": 1000
    },
    "id": "vmmdQxDs4QeV",
    "outputId": "f9df9490-9da3-48ff-a3dc-023531c520d2"
   },
   "outputs": [
    {
     "name": "stdout",
     "output_type": "stream",
     "text": [
      "Top 5 Documents Based on Subjective Ranking for \"fruits\" Query\n"
     ]
    },
    {
     "data": {
      "text/html": [
       "<div>\n",
       "<style scoped>\n",
       "    .dataframe tbody tr th:only-of-type {\n",
       "        vertical-align: middle;\n",
       "    }\n",
       "\n",
       "    .dataframe tbody tr th {\n",
       "        vertical-align: top;\n",
       "    }\n",
       "\n",
       "    .dataframe thead th {\n",
       "        text-align: right;\n",
       "    }\n",
       "</style>\n",
       "<table border=\"1\" class=\"dataframe\">\n",
       "  <thead>\n",
       "    <tr style=\"text-align: right;\">\n",
       "      <th></th>\n",
       "      <th>document_id</th>\n",
       "      <th>text</th>\n",
       "      <th>query_1_relevance_scores</th>\n",
       "    </tr>\n",
       "  </thead>\n",
       "  <tbody>\n",
       "    <tr>\n",
       "      <th>6</th>\n",
       "      <td>6</td>\n",
       "      <td>To a botanist, a fruit is an entity that develops from the fertilized ovary of a flower. This means that tomatoes, squash, pumpkins, cucumbers, peppers, eggplants, corn kernels, and bean and pea pods are all fruits; so are apples, pears, peaches, apricots, melons and mangos</td>\n",
       "      <td>6</td>\n",
       "    </tr>\n",
       "    <tr>\n",
       "      <th>31</th>\n",
       "      <td>31</td>\n",
       "      <td>A fruit serving bowl is a round dish or container typically used to prepare and serve food. The interior of a bowl is characteristically shaped like a spherical cap, with the edges and the bottom forming a seamless curve. This makes bowls especially suited for holding liquids and loose food, as the contents of the bowl are naturally concentrated in its center by the force of gravity.</td>\n",
       "      <td>4</td>\n",
       "    </tr>\n",
       "    <tr>\n",
       "      <th>29</th>\n",
       "      <td>29</td>\n",
       "      <td>Fruit dishes are those that use fruit as a primary ingredient. Condiments prepared with fruit as a primary ingredient are also included in this list.</td>\n",
       "      <td>4</td>\n",
       "    </tr>\n",
       "    <tr>\n",
       "      <th>1</th>\n",
       "      <td>1</td>\n",
       "      <td>Fresh Pomegranate Arakta from Anushka Avni International This Pomegranate are bigger in size, sweet with soft seeds, bold red arils. It also possess glossy, attractive, dark red skin. Packaging: Net weight of box 2.5kg, 3.00kg, 3.5kg. Details: Minimum Weight 180gm, maximum weight 400gm Taste: Sweet Fruit count / carton (3.50 kg net wt.) 9 Numbers packed per carton: 350-400gms 10 Numbers packed per carton :290-320gms 12 Numbers packed per carton: 275-325gms 15 Numbers packed per carton: 225-275gms Load ability: 4400 cartons per container 20 pallets with 220 cartons per pallet Load ability: 5500 cartons per container Loading with No pallets Availability: January | February | March | April | July | August | September | October | Nov | Dec READ MORE</td>\n",
       "      <td>3</td>\n",
       "    </tr>\n",
       "    <tr>\n",
       "      <th>23</th>\n",
       "      <td>23</td>\n",
       "      <td>Flame / Red seedless grapesFlame grapes are one of the most popular varieties along with…</td>\n",
       "      <td>3</td>\n",
       "    </tr>\n",
       "  </tbody>\n",
       "</table>\n",
       "</div>"
      ],
      "text/plain": [
       "    document_id  \\\n",
       "6             6   \n",
       "31           31   \n",
       "29           29   \n",
       "1             1   \n",
       "23           23   \n",
       "\n",
       "                                                                                                                                                                                                                                                                                                                                                                                                                                                                                                                                                                                                                                                                                                                                                                                   text  \\\n",
       "6                                                                                                                                                                                                                                                                                                                                                                                                                                                                                                    To a botanist, a fruit is an entity that develops from the fertilized ovary of a flower. This means that tomatoes, squash, pumpkins, cucumbers, peppers, eggplants, corn kernels, and bean and pea pods are all fruits; so are apples, pears, peaches, apricots, melons and mangos   \n",
       "31                                                                                                                                                                                                                                                                                                                                                                                   A fruit serving bowl is a round dish or container typically used to prepare and serve food. The interior of a bowl is characteristically shaped like a spherical cap, with the edges and the bottom forming a seamless curve. This makes bowls especially suited for holding liquids and loose food, as the contents of the bowl are naturally concentrated in its center by the force of gravity.   \n",
       "29                                                                                                                                                                                                                                                                                                                                                                                                                                                                                                                                                                                                                                Fruit dishes are those that use fruit as a primary ingredient. Condiments prepared with fruit as a primary ingredient are also included in this list.   \n",
       "1   Fresh Pomegranate Arakta from Anushka Avni International This Pomegranate are bigger in size, sweet with soft seeds, bold red arils. It also possess glossy, attractive, dark red skin. Packaging: Net weight of box 2.5kg, 3.00kg, 3.5kg. Details: Minimum Weight 180gm, maximum weight 400gm Taste: Sweet Fruit count / carton (3.50 kg net wt.) 9 Numbers packed per carton: 350-400gms 10 Numbers packed per carton :290-320gms 12 Numbers packed per carton: 275-325gms 15 Numbers packed per carton: 225-275gms Load ability: 4400 cartons per container 20 pallets with 220 cartons per pallet Load ability: 5500 cartons per container Loading with No pallets Availability: January | February | March | April | July | August | September | October | Nov | Dec READ MORE   \n",
       "23                                                                                                                                                                                                                                                                                                                                                                                                                                                                                                                                                                                                                                                                                            Flame / Red seedless grapesFlame grapes are one of the most popular varieties along with…   \n",
       "\n",
       "    query_1_relevance_scores  \n",
       "6                          6  \n",
       "31                         4  \n",
       "29                         4  \n",
       "1                          3  \n",
       "23                         3  "
      ]
     },
     "metadata": {},
     "output_type": "display_data"
    },
    {
     "name": "stdout",
     "output_type": "stream",
     "text": [
      "Top 5 Documents Based on Subjective Ranking for \"vegetables\" Query\n"
     ]
    },
    {
     "data": {
      "text/html": [
       "<div>\n",
       "<style scoped>\n",
       "    .dataframe tbody tr th:only-of-type {\n",
       "        vertical-align: middle;\n",
       "    }\n",
       "\n",
       "    .dataframe tbody tr th {\n",
       "        vertical-align: top;\n",
       "    }\n",
       "\n",
       "    .dataframe thead th {\n",
       "        text-align: right;\n",
       "    }\n",
       "</style>\n",
       "<table border=\"1\" class=\"dataframe\">\n",
       "  <thead>\n",
       "    <tr style=\"text-align: right;\">\n",
       "      <th></th>\n",
       "      <th>document_id</th>\n",
       "      <th>text</th>\n",
       "      <th>query_2_relevance_scores</th>\n",
       "    </tr>\n",
       "  </thead>\n",
       "  <tbody>\n",
       "    <tr>\n",
       "      <th>13</th>\n",
       "      <td>13</td>\n",
       "      <td>Red Onions from Anushka Avni International Red onions, sometimes called purple onions, are cultivars of the onion with purplish red skin and white flesh tinged with red. We are a major Indian exporters and suppliers of all kinds of fresh onions like red onions and white onions. Sizes: 30-45 mm 45-55 mm 50 mm and above 55-70 mm 60 and above Packaging: 2.5kg, 3kg, 5kg, 9kg, 10kg, 15kg, 17kg, 18kg, 20kg, 25kg, 30kg Red Mesh Bag or Jute Bag Load ability: 12.5 MT per 20ft container ODO 28 MT per 40ft Refer container.</td>\n",
       "      <td>3</td>\n",
       "    </tr>\n",
       "    <tr>\n",
       "      <th>4</th>\n",
       "      <td>4</td>\n",
       "      <td>White Onions from Anushka Avni International Fresh White Onion, which is widely acclaimed for its health benefits and is used for different cuisines. We are a major exporters and suppliers of all kinds of fresh onions like red onions, pink onions and white onions. Sizes: 30-45 mm 45-55 mm 50 mm and above 55-70 mm 60 and above Packaging: 2.5kg, 3kg, 5kg, 9kg, 10kg, 15kg, 17kg, 18kg, 20kg, 25kg, 30kg Red Mesh Bag or Jute Bag Load ability: 12.5 MT per 20ft container ODO 28 MT per 40ft Refer container.</td>\n",
       "      <td>3</td>\n",
       "    </tr>\n",
       "    <tr>\n",
       "      <th>18</th>\n",
       "      <td>18</td>\n",
       "      <td>Fresh Tomatoes from Anushka Avni International We have emerged as one of the reputed organization actively participating in exporting and suppling Red Tomatoes. Product Details: Taste enhancer Free from preservatives Pure Useful for chutney Packing : 6.5 kg, 7.00 kg Cartons.</td>\n",
       "      <td>3</td>\n",
       "    </tr>\n",
       "    <tr>\n",
       "      <th>15</th>\n",
       "      <td>15</td>\n",
       "      <td>Pink Onions from Anushka Avni International Pink onions, sometimes called summer onions, are cultivars of the onion with pink skin and white flesh tinged with red. We are a major Indian exporters and suppliers of all kinds of fresh onions like red onions, pink onions and white onions. Sizes: 30-45 mm 45-55 mm 50 mm and above 55-70 mm 60 and above Packaging: 2.5kg, 3kg, 5kg, 9kg, 10kg, 15kg, 17kg, 18kg, 20kg, 25kg, 30kg Red Mesh Bag or Jute Bag Load ability: 12.5 MT per 20ft container ODO 28 MT per 40ft Refer container.</td>\n",
       "      <td>3</td>\n",
       "    </tr>\n",
       "    <tr>\n",
       "      <th>0</th>\n",
       "      <td>0</td>\n",
       "      <td>Fresh Pomegranate from Anushka Avni International Bhagwa is a premium Pomegranate variety from India. The Deep Red arils &amp; the pleasing Red but rugged skin enhances the appearance whilst promoting shelf life of the fruit. Bhagwa is widely known for its soft seed, Dark red color and extremely delicious. Packaging: Net weight of box 2.5kg, 3.00kg, 3.5kg. Details: Minimum Weight 180gm, maximum weight 400gm Color of arils: Dark Cherry red. Taste: Sweet Fruit count / carton (3.50 kg net wt.) 9 Numbers packed per carton: 350-400gms</td>\n",
       "      <td>2</td>\n",
       "    </tr>\n",
       "  </tbody>\n",
       "</table>\n",
       "</div>"
      ],
      "text/plain": [
       "    document_id  \\\n",
       "13           13   \n",
       "4             4   \n",
       "18           18   \n",
       "15           15   \n",
       "0             0   \n",
       "\n",
       "                                                                                                                                                                                                                                                                                                                                                                                                                                                                                                                                                   text  \\\n",
       "13                Red Onions from Anushka Avni International Red onions, sometimes called purple onions, are cultivars of the onion with purplish red skin and white flesh tinged with red. We are a major Indian exporters and suppliers of all kinds of fresh onions like red onions and white onions. Sizes: 30-45 mm 45-55 mm 50 mm and above 55-70 mm 60 and above Packaging: 2.5kg, 3kg, 5kg, 9kg, 10kg, 15kg, 17kg, 18kg, 20kg, 25kg, 30kg Red Mesh Bag or Jute Bag Load ability: 12.5 MT per 20ft container ODO 28 MT per 40ft Refer container.   \n",
       "4                               White Onions from Anushka Avni International Fresh White Onion, which is widely acclaimed for its health benefits and is used for different cuisines. We are a major exporters and suppliers of all kinds of fresh onions like red onions, pink onions and white onions. Sizes: 30-45 mm 45-55 mm 50 mm and above 55-70 mm 60 and above Packaging: 2.5kg, 3kg, 5kg, 9kg, 10kg, 15kg, 17kg, 18kg, 20kg, 25kg, 30kg Red Mesh Bag or Jute Bag Load ability: 12.5 MT per 20ft container ODO 28 MT per 40ft Refer container.   \n",
       "18                                                                                                                                                                                                                                                                  Fresh Tomatoes from Anushka Avni International We have emerged as one of the reputed organization actively participating in exporting and suppling Red Tomatoes. Product Details: Taste enhancer Free from preservatives Pure Useful for chutney Packing : 6.5 kg, 7.00 kg Cartons.   \n",
       "15         Pink Onions from Anushka Avni International Pink onions, sometimes called summer onions, are cultivars of the onion with pink skin and white flesh tinged with red. We are a major Indian exporters and suppliers of all kinds of fresh onions like red onions, pink onions and white onions. Sizes: 30-45 mm 45-55 mm 50 mm and above 55-70 mm 60 and above Packaging: 2.5kg, 3kg, 5kg, 9kg, 10kg, 15kg, 17kg, 18kg, 20kg, 25kg, 30kg Red Mesh Bag or Jute Bag Load ability: 12.5 MT per 20ft container ODO 28 MT per 40ft Refer container.   \n",
       "0   Fresh Pomegranate from Anushka Avni International Bhagwa is a premium Pomegranate variety from India. The Deep Red arils & the pleasing Red but rugged skin enhances the appearance whilst promoting shelf life of the fruit. Bhagwa is widely known for its soft seed, Dark red color and extremely delicious. Packaging: Net weight of box 2.5kg, 3.00kg, 3.5kg. Details: Minimum Weight 180gm, maximum weight 400gm Color of arils: Dark Cherry red. Taste: Sweet Fruit count / carton (3.50 kg net wt.) 9 Numbers packed per carton: 350-400gms   \n",
       "\n",
       "    query_2_relevance_scores  \n",
       "13                         3  \n",
       "4                          3  \n",
       "18                         3  \n",
       "15                         3  \n",
       "0                          2  "
      ]
     },
     "metadata": {},
     "output_type": "display_data"
    },
    {
     "name": "stdout",
     "output_type": "stream",
     "text": [
      "Top 5 Documents Based on Subjective Ranking for \"healthy foods in Canada\" Query\n"
     ]
    },
    {
     "data": {
      "text/html": [
       "<div>\n",
       "<style scoped>\n",
       "    .dataframe tbody tr th:only-of-type {\n",
       "        vertical-align: middle;\n",
       "    }\n",
       "\n",
       "    .dataframe tbody tr th {\n",
       "        vertical-align: top;\n",
       "    }\n",
       "\n",
       "    .dataframe thead th {\n",
       "        text-align: right;\n",
       "    }\n",
       "</style>\n",
       "<table border=\"1\" class=\"dataframe\">\n",
       "  <thead>\n",
       "    <tr style=\"text-align: right;\">\n",
       "      <th></th>\n",
       "      <th>document_id</th>\n",
       "      <th>text</th>\n",
       "      <th>query_3_relevance_scores</th>\n",
       "    </tr>\n",
       "  </thead>\n",
       "  <tbody>\n",
       "    <tr>\n",
       "      <th>10</th>\n",
       "      <td>10</td>\n",
       "      <td>Canada's Food Guide is a nutrition guide produced by Health Canada to promote Healthy behaviours and habits, and lifestyles in Canada - this is to increase the number of healthy people in Canada. In 2007, it was reported to be the second most requested Canadian government publication, behind the Income Tax Forms. The Health Canada website states: Food guides are basic education tools that are designed to help people follow a healthy diet. The Guide recommends eating a variety of healthy foods each day including plenty of vegetables and fruits, protein foods, and whole grain foods. It recommends choosing protein foods that come from plants more often. It also recommends limiting highly processed foods.</td>\n",
       "      <td>6</td>\n",
       "    </tr>\n",
       "    <tr>\n",
       "      <th>8</th>\n",
       "      <td>8</td>\n",
       "      <td>Nutrients are substances used by an organism to survive, grow, and reproduce. The seven major classes of relevant nutrients for animals (including humans) are carbohydrates, dietary fiber, fats, proteins, minerals, vitamins, and water. Nutrients can be grouped as either macronutrients (carbohydrates, dietary fiber, fats, proteins, and water needed in gram quantities) or micronutrients (vitamins and minerals needed in milligram or microgram quantities).</td>\n",
       "      <td>4</td>\n",
       "    </tr>\n",
       "    <tr>\n",
       "      <th>7</th>\n",
       "      <td>7</td>\n",
       "      <td>Nutrition is the biochemical and physiological process by which an organism uses intake to support its life. It includes ingestion, absorption, assimilation, biosynthesis, catabolism and excretion. The science that studies the physiological process of nutrition is called nutritional science (also nutrition science).</td>\n",
       "      <td>3</td>\n",
       "    </tr>\n",
       "    <tr>\n",
       "      <th>9</th>\n",
       "      <td>9</td>\n",
       "      <td>In nutrition, the diet of an organism is the sum of foods it eats, which is largely determined by the availability and palatability of foods.</td>\n",
       "      <td>3</td>\n",
       "    </tr>\n",
       "    <tr>\n",
       "      <th>0</th>\n",
       "      <td>0</td>\n",
       "      <td>Fresh Pomegranate from Anushka Avni International Bhagwa is a premium Pomegranate variety from India. The Deep Red arils &amp; the pleasing Red but rugged skin enhances the appearance whilst promoting shelf life of the fruit. Bhagwa is widely known for its soft seed, Dark red color and extremely delicious. Packaging: Net weight of box 2.5kg, 3.00kg, 3.5kg. Details: Minimum Weight 180gm, maximum weight 400gm Color of arils: Dark Cherry red. Taste: Sweet Fruit count / carton (3.50 kg net wt.) 9 Numbers packed per carton: 350-400gms</td>\n",
       "      <td>2</td>\n",
       "    </tr>\n",
       "  </tbody>\n",
       "</table>\n",
       "</div>"
      ],
      "text/plain": [
       "    document_id  \\\n",
       "10           10   \n",
       "8             8   \n",
       "7             7   \n",
       "9             9   \n",
       "0             0   \n",
       "\n",
       "                                                                                                                                                                                                                                                                                                                                                                                                                                                                                                                                                                                                                                                                                                                                      text  \\\n",
       "10  Canada's Food Guide is a nutrition guide produced by Health Canada to promote Healthy behaviours and habits, and lifestyles in Canada - this is to increase the number of healthy people in Canada. In 2007, it was reported to be the second most requested Canadian government publication, behind the Income Tax Forms. The Health Canada website states: Food guides are basic education tools that are designed to help people follow a healthy diet. The Guide recommends eating a variety of healthy foods each day including plenty of vegetables and fruits, protein foods, and whole grain foods. It recommends choosing protein foods that come from plants more often. It also recommends limiting highly processed foods.   \n",
       "8                                                                                                                                                                                                                                                                 Nutrients are substances used by an organism to survive, grow, and reproduce. The seven major classes of relevant nutrients for animals (including humans) are carbohydrates, dietary fiber, fats, proteins, minerals, vitamins, and water. Nutrients can be grouped as either macronutrients (carbohydrates, dietary fiber, fats, proteins, and water needed in gram quantities) or micronutrients (vitamins and minerals needed in milligram or microgram quantities).   \n",
       "7                                                                                                                                                                                                                                                                                                                                                                                                            Nutrition is the biochemical and physiological process by which an organism uses intake to support its life. It includes ingestion, absorption, assimilation, biosynthesis, catabolism and excretion. The science that studies the physiological process of nutrition is called nutritional science (also nutrition science).   \n",
       "9                                                                                                                                                                                                                                                                                                                                                                                                                                                                                                                                                                                            In nutrition, the diet of an organism is the sum of foods it eats, which is largely determined by the availability and palatability of foods.   \n",
       "0                                                                                                                                                                                      Fresh Pomegranate from Anushka Avni International Bhagwa is a premium Pomegranate variety from India. The Deep Red arils & the pleasing Red but rugged skin enhances the appearance whilst promoting shelf life of the fruit. Bhagwa is widely known for its soft seed, Dark red color and extremely delicious. Packaging: Net weight of box 2.5kg, 3.00kg, 3.5kg. Details: Minimum Weight 180gm, maximum weight 400gm Color of arils: Dark Cherry red. Taste: Sweet Fruit count / carton (3.50 kg net wt.) 9 Numbers packed per carton: 350-400gms   \n",
       "\n",
       "    query_3_relevance_scores  \n",
       "10                         6  \n",
       "8                          4  \n",
       "7                          3  \n",
       "9                          3  \n",
       "0                          2  "
      ]
     },
     "metadata": {},
     "output_type": "display_data"
    }
   ],
   "source": [
    "# Function to display the top 5 documents for a given query based on the subjective ranking.\n",
    "def display_top_5_ranked_docs (df, query_num):\n",
    "    score_col = f'query_{query_num}_relevance_scores'\n",
    "    # Sorting and selecting the top 5 documents based on their score for the query.\n",
    "    top_5_df = df[['document_id', 'text', score_col]].sort_values(by=score_col, ascending=False).head(5)\n",
    "\n",
    "    print(f'Top 5 Documents Based on Subjective Ranking for \"{queries[query_num]}\" Query')\n",
    "    return top_5_df\n",
    "\n",
    "# Displaying top documents for each query.\n",
    "for query_num in queries:\n",
    "    display(display_top_5_ranked_docs(df_documents, query_num))"
   ]
  },
  {
   "cell_type": "code",
   "execution_count": 10,
   "metadata": {
    "id": "dhVzNNSbe9iI"
   },
   "outputs": [],
   "source": [
    "top_scores = {\n",
    "    1: 20, # fruits\n",
    "    2: 14, # vegetables\n",
    "    3: 18, # healthy foods in Canada\n",
    "}\n",
    "\n",
    "# Function to calculate the percentage of the achieved score relative to the highest possible score for the top 5 documents.\n",
    "def calculate_top_5_score_percentage(top_docs, query_num):\n",
    "    score_col = f'query_{query_num}_relevance_scores'\n",
    "    top_5_df = df_documents[df_documents['document_id'].isin(top_docs)]\n",
    "\n",
    "    # Calculating the percentage of the total score achieved by the top 5 documents.\n",
    "    return round((top_5_df[score_col].sum() / top_scores[query_num]) * 100, 2)"
   ]
  },
  {
   "cell_type": "code",
   "execution_count": 11,
   "metadata": {
    "id": "w7oWH_daiKoI"
   },
   "outputs": [],
   "source": [
    "# Function to determine if the highest-rated document is in the top 5 results for a given query.\n",
    "def is_highest_rated_in_top_5(top_docs, query_num):\n",
    "    # Best document IDs for each query based on subjective assessment.\n",
    "    best_docs_query = {\n",
    "        1: [6],                 # Best document for query 1.\n",
    "        2: [13, 4, 18, 15, 0],  # A set of documents considered best for query 2.\n",
    "        3: [10]                 # Best document for query 3.\n",
    "    }\n",
    "\n",
    "    # Checking if any of the top documents for a query match the best document(s) for that query.\n",
    "    return int(bool(set(top_docs).intersection(best_docs_query[query_num])))"
   ]
  },
  {
   "cell_type": "markdown",
   "metadata": {
    "id": "u1zBu6DIjdtP"
   },
   "source": [
    "## Experiment 1: TF-IDF"
   ]
  },
  {
   "cell_type": "code",
   "execution_count": 13,
   "metadata": {
    "colab": {
     "base_uri": "https://localhost:8080/"
    },
    "id": "gls14nsgmaP-",
    "outputId": "4ec554a7-9cff-49fe-f08b-ecd24c2d7d8b"
   },
   "outputs": [
    {
     "name": "stderr",
     "output_type": "stream",
     "text": [
      "[nltk_data] Downloading package stopwords to\n",
      "[nltk_data]     /Users/alinakurliantseva/nltk_data...\n",
      "[nltk_data]   Package stopwords is already up-to-date!\n",
      "[nltk_data] Downloading package punkt to\n",
      "[nltk_data]     /Users/alinakurliantseva/nltk_data...\n",
      "[nltk_data]   Package punkt is already up-to-date!\n"
     ]
    }
   ],
   "source": [
    "from sklearn.feature_extraction.text import TfidfVectorizer\n",
    "from sklearn.metrics.pairwise import linear_kernel\n",
    "\n",
    "import nltk\n",
    "from nltk.corpus import stopwords\n",
    "\n",
    "# Download necessary NLTK data\n",
    "nltk.download('stopwords')\n",
    "nltk.download('punkt')\n",
    "\n",
    "# Initialize stop words\n",
    "stop_words = list(stopwords.words('english'))"
   ]
  },
  {
   "cell_type": "code",
   "execution_count": 14,
   "metadata": {
    "colab": {
     "base_uri": "https://localhost:8080/",
     "height": 159
    },
    "id": "PkLIjR7VmnL1",
    "outputId": "f9e42b53-e80d-42a4-e3cb-f6bdb14027d2"
   },
   "outputs": [
    {
     "data": {
      "text/html": [
       "<style>#sk-container-id-1 {color: black;}#sk-container-id-1 pre{padding: 0;}#sk-container-id-1 div.sk-toggleable {background-color: white;}#sk-container-id-1 label.sk-toggleable__label {cursor: pointer;display: block;width: 100%;margin-bottom: 0;padding: 0.3em;box-sizing: border-box;text-align: center;}#sk-container-id-1 label.sk-toggleable__label-arrow:before {content: \"▸\";float: left;margin-right: 0.25em;color: #696969;}#sk-container-id-1 label.sk-toggleable__label-arrow:hover:before {color: black;}#sk-container-id-1 div.sk-estimator:hover label.sk-toggleable__label-arrow:before {color: black;}#sk-container-id-1 div.sk-toggleable__content {max-height: 0;max-width: 0;overflow: hidden;text-align: left;background-color: #f0f8ff;}#sk-container-id-1 div.sk-toggleable__content pre {margin: 0.2em;color: black;border-radius: 0.25em;background-color: #f0f8ff;}#sk-container-id-1 input.sk-toggleable__control:checked~div.sk-toggleable__content {max-height: 200px;max-width: 100%;overflow: auto;}#sk-container-id-1 input.sk-toggleable__control:checked~label.sk-toggleable__label-arrow:before {content: \"▾\";}#sk-container-id-1 div.sk-estimator input.sk-toggleable__control:checked~label.sk-toggleable__label {background-color: #d4ebff;}#sk-container-id-1 div.sk-label input.sk-toggleable__control:checked~label.sk-toggleable__label {background-color: #d4ebff;}#sk-container-id-1 input.sk-hidden--visually {border: 0;clip: rect(1px 1px 1px 1px);clip: rect(1px, 1px, 1px, 1px);height: 1px;margin: -1px;overflow: hidden;padding: 0;position: absolute;width: 1px;}#sk-container-id-1 div.sk-estimator {font-family: monospace;background-color: #f0f8ff;border: 1px dotted black;border-radius: 0.25em;box-sizing: border-box;margin-bottom: 0.5em;}#sk-container-id-1 div.sk-estimator:hover {background-color: #d4ebff;}#sk-container-id-1 div.sk-parallel-item::after {content: \"\";width: 100%;border-bottom: 1px solid gray;flex-grow: 1;}#sk-container-id-1 div.sk-label:hover label.sk-toggleable__label {background-color: #d4ebff;}#sk-container-id-1 div.sk-serial::before {content: \"\";position: absolute;border-left: 1px solid gray;box-sizing: border-box;top: 0;bottom: 0;left: 50%;z-index: 0;}#sk-container-id-1 div.sk-serial {display: flex;flex-direction: column;align-items: center;background-color: white;padding-right: 0.2em;padding-left: 0.2em;position: relative;}#sk-container-id-1 div.sk-item {position: relative;z-index: 1;}#sk-container-id-1 div.sk-parallel {display: flex;align-items: stretch;justify-content: center;background-color: white;position: relative;}#sk-container-id-1 div.sk-item::before, #sk-container-id-1 div.sk-parallel-item::before {content: \"\";position: absolute;border-left: 1px solid gray;box-sizing: border-box;top: 0;bottom: 0;left: 50%;z-index: -1;}#sk-container-id-1 div.sk-parallel-item {display: flex;flex-direction: column;z-index: 1;position: relative;background-color: white;}#sk-container-id-1 div.sk-parallel-item:first-child::after {align-self: flex-end;width: 50%;}#sk-container-id-1 div.sk-parallel-item:last-child::after {align-self: flex-start;width: 50%;}#sk-container-id-1 div.sk-parallel-item:only-child::after {width: 0;}#sk-container-id-1 div.sk-dashed-wrapped {border: 1px dashed gray;margin: 0 0.4em 0.5em 0.4em;box-sizing: border-box;padding-bottom: 0.4em;background-color: white;}#sk-container-id-1 div.sk-label label {font-family: monospace;font-weight: bold;display: inline-block;line-height: 1.2em;}#sk-container-id-1 div.sk-label-container {text-align: center;}#sk-container-id-1 div.sk-container {/* jupyter's `normalize.less` sets `[hidden] { display: none; }` but bootstrap.min.css set `[hidden] { display: none !important; }` so we also need the `!important` here to be able to override the default hidden behavior on the sphinx rendered scikit-learn.org. See: https://github.com/scikit-learn/scikit-learn/issues/21755 */display: inline-block !important;position: relative;}#sk-container-id-1 div.sk-text-repr-fallback {display: none;}</style><div id=\"sk-container-id-1\" class=\"sk-top-container\"><div class=\"sk-text-repr-fallback\"><pre>TfidfVectorizer(stop_words=[&#x27;i&#x27;, &#x27;me&#x27;, &#x27;my&#x27;, &#x27;myself&#x27;, &#x27;we&#x27;, &#x27;our&#x27;, &#x27;ours&#x27;,\n",
       "                            &#x27;ourselves&#x27;, &#x27;you&#x27;, &quot;you&#x27;re&quot;, &quot;you&#x27;ve&quot;, &quot;you&#x27;ll&quot;,\n",
       "                            &quot;you&#x27;d&quot;, &#x27;your&#x27;, &#x27;yours&#x27;, &#x27;yourself&#x27;, &#x27;yourselves&#x27;,\n",
       "                            &#x27;he&#x27;, &#x27;him&#x27;, &#x27;his&#x27;, &#x27;himself&#x27;, &#x27;she&#x27;, &quot;she&#x27;s&quot;,\n",
       "                            &#x27;her&#x27;, &#x27;hers&#x27;, &#x27;herself&#x27;, &#x27;it&#x27;, &quot;it&#x27;s&quot;, &#x27;its&#x27;,\n",
       "                            &#x27;itself&#x27;, ...])</pre><b>In a Jupyter environment, please rerun this cell to show the HTML representation or trust the notebook. <br />On GitHub, the HTML representation is unable to render, please try loading this page with nbviewer.org.</b></div><div class=\"sk-container\" hidden><div class=\"sk-item\"><div class=\"sk-estimator sk-toggleable\"><input class=\"sk-toggleable__control sk-hidden--visually\" id=\"sk-estimator-id-1\" type=\"checkbox\" checked><label for=\"sk-estimator-id-1\" class=\"sk-toggleable__label sk-toggleable__label-arrow\">TfidfVectorizer</label><div class=\"sk-toggleable__content\"><pre>TfidfVectorizer(stop_words=[&#x27;i&#x27;, &#x27;me&#x27;, &#x27;my&#x27;, &#x27;myself&#x27;, &#x27;we&#x27;, &#x27;our&#x27;, &#x27;ours&#x27;,\n",
       "                            &#x27;ourselves&#x27;, &#x27;you&#x27;, &quot;you&#x27;re&quot;, &quot;you&#x27;ve&quot;, &quot;you&#x27;ll&quot;,\n",
       "                            &quot;you&#x27;d&quot;, &#x27;your&#x27;, &#x27;yours&#x27;, &#x27;yourself&#x27;, &#x27;yourselves&#x27;,\n",
       "                            &#x27;he&#x27;, &#x27;him&#x27;, &#x27;his&#x27;, &#x27;himself&#x27;, &#x27;she&#x27;, &quot;she&#x27;s&quot;,\n",
       "                            &#x27;her&#x27;, &#x27;hers&#x27;, &#x27;herself&#x27;, &#x27;it&#x27;, &quot;it&#x27;s&quot;, &#x27;its&#x27;,\n",
       "                            &#x27;itself&#x27;, ...])</pre></div></div></div></div></div>"
      ],
      "text/plain": [
       "TfidfVectorizer(stop_words=['i', 'me', 'my', 'myself', 'we', 'our', 'ours',\n",
       "                            'ourselves', 'you', \"you're\", \"you've\", \"you'll\",\n",
       "                            \"you'd\", 'your', 'yours', 'yourself', 'yourselves',\n",
       "                            'he', 'him', 'his', 'himself', 'she', \"she's\",\n",
       "                            'her', 'hers', 'herself', 'it', \"it's\", 'its',\n",
       "                            'itself', ...])"
      ]
     },
     "execution_count": 14,
     "metadata": {},
     "output_type": "execute_result"
    }
   ],
   "source": [
    "# Set up the TF-IDF vectorizer with English stop words\n",
    "vectorizer = TfidfVectorizer(stop_words=stop_words)\n",
    "# Fit the vectorizer on the queries and document texts\n",
    "vectorizer.fit([queries[1], queries[2], queries[3]] + documents)"
   ]
  },
  {
   "cell_type": "code",
   "execution_count": 15,
   "metadata": {
    "id": "oVkKBouGyj8q"
   },
   "outputs": [],
   "source": [
    "def compute_tfidf_similarities(query, documents, vectorizer):\n",
    "    # Transform the query and documents to their vector representations\n",
    "    vectors = vectorizer.transform([query] + documents)\n",
    "    # Compute cosine similarity between the query vector and each document vector\n",
    "    cosine_similarity_scores = linear_kernel(vectors[0], vectors[1:]).flatten()\n",
    "    return list(cosine_similarity_scores)"
   ]
  },
  {
   "cell_type": "code",
   "execution_count": 16,
   "metadata": {
    "id": "uw-xvevByvuD"
   },
   "outputs": [],
   "source": [
    "def return_top_5_docs(df_documents, similarities):\n",
    "    # Copy the dataframe to avoid mutating the original\n",
    "    temp_df_documents = df_documents.copy()\n",
    "    # Assign similarity scores to the documents\n",
    "    temp_df_documents['similarity'] = similarities\n",
    "    # Sort documents by similarity and select the top 5\n",
    "    top_5_df = temp_df_documents.sort_values(by='similarity', ascending=False).head(5)\n",
    "    return top_5_df[['document_id', 'text', 'similarity']]"
   ]
  },
  {
   "cell_type": "code",
   "execution_count": 17,
   "metadata": {
    "id": "pu5EHO5R2D-9"
   },
   "outputs": [],
   "source": [
    "# Applying the similarity computation to each query and retrieving top 3 results\n",
    "top_5_dfs = {}\n",
    "for query_num in queries:\n",
    "  similarities = compute_tfidf_similarities(queries[query_num], documents, vectorizer)\n",
    "  top_5_dfs[query_num] = return_top_5_docs(df_documents, similarities)"
   ]
  },
  {
   "cell_type": "code",
   "execution_count": 18,
   "metadata": {
    "colab": {
     "base_uri": "https://localhost:8080/",
     "height": 1000
    },
    "id": "noWKVyTE2EIN",
    "outputId": "498c9a5c-c3b0-424a-e20c-51b58136427d"
   },
   "outputs": [
    {
     "name": "stdout",
     "output_type": "stream",
     "text": [
      "Query: fruits\n"
     ]
    },
    {
     "data": {
      "text/html": [
       "<div>\n",
       "<style scoped>\n",
       "    .dataframe tbody tr th:only-of-type {\n",
       "        vertical-align: middle;\n",
       "    }\n",
       "\n",
       "    .dataframe tbody tr th {\n",
       "        vertical-align: top;\n",
       "    }\n",
       "\n",
       "    .dataframe thead th {\n",
       "        text-align: right;\n",
       "    }\n",
       "</style>\n",
       "<table border=\"1\" class=\"dataframe\">\n",
       "  <thead>\n",
       "    <tr style=\"text-align: right;\">\n",
       "      <th></th>\n",
       "      <th>document_id</th>\n",
       "      <th>text</th>\n",
       "      <th>similarity</th>\n",
       "    </tr>\n",
       "  </thead>\n",
       "  <tbody>\n",
       "    <tr>\n",
       "      <th>6</th>\n",
       "      <td>6</td>\n",
       "      <td>To a botanist, a fruit is an entity that develops from the fertilized ovary of a flower. This means that tomatoes, squash, pumpkins, cucumbers, peppers, eggplants, corn kernels, and bean and pea pods are all fruits; so are apples, pears, peaches, apricots, melons and mangos</td>\n",
       "      <td>0.165043</td>\n",
       "    </tr>\n",
       "    <tr>\n",
       "      <th>10</th>\n",
       "      <td>10</td>\n",
       "      <td>Canada's Food Guide is a nutrition guide produced by Health Canada to promote Healthy behaviours and habits, and lifestyles in Canada - this is to increase the number of healthy people in Canada. In 2007, it was reported to be the second most requested Canadian government publication, behind the Income Tax Forms. The Health Canada website states: Food guides are basic education tools that are designed to help people follow a healthy diet. The Guide recommends eating a variety of healthy foods each day including plenty of vegetables and fruits, protein foods, and whole grain foods. It recommends choosing protein foods that come from plants more often. It also recommends limiting highly processed foods.</td>\n",
       "      <td>0.076021</td>\n",
       "    </tr>\n",
       "    <tr>\n",
       "      <th>0</th>\n",
       "      <td>0</td>\n",
       "      <td>Fresh Pomegranate from Anushka Avni International Bhagwa is a premium Pomegranate variety from India. The Deep Red arils &amp; the pleasing Red but rugged skin enhances the appearance whilst promoting shelf life of the fruit. Bhagwa is widely known for its soft seed, Dark red color and extremely delicious. Packaging: Net weight of box 2.5kg, 3.00kg, 3.5kg. Details: Minimum Weight 180gm, maximum weight 400gm Color of arils: Dark Cherry red. Taste: Sweet Fruit count / carton (3.50 kg net wt.) 9 Numbers packed per carton: 350-400gms</td>\n",
       "      <td>0.000000</td>\n",
       "    </tr>\n",
       "    <tr>\n",
       "      <th>24</th>\n",
       "      <td>24</td>\n",
       "      <td>A Dictionary in Python is an unordered collection of data values, used to store data values like a map, which, unlike other Data Types that hold only a single value as an element, Dictionary holds key:value pair.</td>\n",
       "      <td>0.000000</td>\n",
       "    </tr>\n",
       "    <tr>\n",
       "      <th>19</th>\n",
       "      <td>19</td>\n",
       "      <td>Anushka Avni International (AAI) takes pleasure in presenting itself as one of the renowned Suppliers and Exporter. We have huge assortment of agro products available with us. We feel proud when buyers come to us recognizing the standard quality which we offer in the world wide market.</td>\n",
       "      <td>0.000000</td>\n",
       "    </tr>\n",
       "  </tbody>\n",
       "</table>\n",
       "</div>"
      ],
      "text/plain": [
       "    document_id  \\\n",
       "6             6   \n",
       "10           10   \n",
       "0             0   \n",
       "24           24   \n",
       "19           19   \n",
       "\n",
       "                                                                                                                                                                                                                                                                                                                                                                                                                                                                                                                                                                                                                                                                                                                                      text  \\\n",
       "6                                                                                                                                                                                                                                                                                                                                                                                                                                                       To a botanist, a fruit is an entity that develops from the fertilized ovary of a flower. This means that tomatoes, squash, pumpkins, cucumbers, peppers, eggplants, corn kernels, and bean and pea pods are all fruits; so are apples, pears, peaches, apricots, melons and mangos   \n",
       "10  Canada's Food Guide is a nutrition guide produced by Health Canada to promote Healthy behaviours and habits, and lifestyles in Canada - this is to increase the number of healthy people in Canada. In 2007, it was reported to be the second most requested Canadian government publication, behind the Income Tax Forms. The Health Canada website states: Food guides are basic education tools that are designed to help people follow a healthy diet. The Guide recommends eating a variety of healthy foods each day including plenty of vegetables and fruits, protein foods, and whole grain foods. It recommends choosing protein foods that come from plants more often. It also recommends limiting highly processed foods.   \n",
       "0                                                                                                                                                                                      Fresh Pomegranate from Anushka Avni International Bhagwa is a premium Pomegranate variety from India. The Deep Red arils & the pleasing Red but rugged skin enhances the appearance whilst promoting shelf life of the fruit. Bhagwa is widely known for its soft seed, Dark red color and extremely delicious. Packaging: Net weight of box 2.5kg, 3.00kg, 3.5kg. Details: Minimum Weight 180gm, maximum weight 400gm Color of arils: Dark Cherry red. Taste: Sweet Fruit count / carton (3.50 kg net wt.) 9 Numbers packed per carton: 350-400gms   \n",
       "24                                                                                                                                                                                                                                                                                                                                                                                                                                                                                                                    A Dictionary in Python is an unordered collection of data values, used to store data values like a map, which, unlike other Data Types that hold only a single value as an element, Dictionary holds key:value pair.   \n",
       "19                                                                                                                                                                                                                                                                                                                                                                                                                                          Anushka Avni International (AAI) takes pleasure in presenting itself as one of the renowned Suppliers and Exporter. We have huge assortment of agro products available with us. We feel proud when buyers come to us recognizing the standard quality which we offer in the world wide market.   \n",
       "\n",
       "    similarity  \n",
       "6     0.165043  \n",
       "10    0.076021  \n",
       "0     0.000000  \n",
       "24    0.000000  \n",
       "19    0.000000  "
      ]
     },
     "metadata": {},
     "output_type": "display_data"
    },
    {
     "name": "stdout",
     "output_type": "stream",
     "text": [
      "Query: vegetables\n"
     ]
    },
    {
     "data": {
      "text/html": [
       "<div>\n",
       "<style scoped>\n",
       "    .dataframe tbody tr th:only-of-type {\n",
       "        vertical-align: middle;\n",
       "    }\n",
       "\n",
       "    .dataframe tbody tr th {\n",
       "        vertical-align: top;\n",
       "    }\n",
       "\n",
       "    .dataframe thead th {\n",
       "        text-align: right;\n",
       "    }\n",
       "</style>\n",
       "<table border=\"1\" class=\"dataframe\">\n",
       "  <thead>\n",
       "    <tr style=\"text-align: right;\">\n",
       "      <th></th>\n",
       "      <th>document_id</th>\n",
       "      <th>text</th>\n",
       "      <th>similarity</th>\n",
       "    </tr>\n",
       "  </thead>\n",
       "  <tbody>\n",
       "    <tr>\n",
       "      <th>10</th>\n",
       "      <td>10</td>\n",
       "      <td>Canada's Food Guide is a nutrition guide produced by Health Canada to promote Healthy behaviours and habits, and lifestyles in Canada - this is to increase the number of healthy people in Canada. In 2007, it was reported to be the second most requested Canadian government publication, behind the Income Tax Forms. The Health Canada website states: Food guides are basic education tools that are designed to help people follow a healthy diet. The Guide recommends eating a variety of healthy foods each day including plenty of vegetables and fruits, protein foods, and whole grain foods. It recommends choosing protein foods that come from plants more often. It also recommends limiting highly processed foods.</td>\n",
       "      <td>0.082861</td>\n",
       "    </tr>\n",
       "    <tr>\n",
       "      <th>0</th>\n",
       "      <td>0</td>\n",
       "      <td>Fresh Pomegranate from Anushka Avni International Bhagwa is a premium Pomegranate variety from India. The Deep Red arils &amp; the pleasing Red but rugged skin enhances the appearance whilst promoting shelf life of the fruit. Bhagwa is widely known for its soft seed, Dark red color and extremely delicious. Packaging: Net weight of box 2.5kg, 3.00kg, 3.5kg. Details: Minimum Weight 180gm, maximum weight 400gm Color of arils: Dark Cherry red. Taste: Sweet Fruit count / carton (3.50 kg net wt.) 9 Numbers packed per carton: 350-400gms</td>\n",
       "      <td>0.000000</td>\n",
       "    </tr>\n",
       "    <tr>\n",
       "      <th>17</th>\n",
       "      <td>17</td>\n",
       "      <td>We are one of the leading organizations engaged in delivering our customers with Fresh Onions. We manufacture this in bulk requirements for our clients. Malaysia, Singapore, Philippines, Vietnam Quality Product Details:</td>\n",
       "      <td>0.000000</td>\n",
       "    </tr>\n",
       "    <tr>\n",
       "      <th>30</th>\n",
       "      <td>30</td>\n",
       "      <td>Neuro linguistic programming (NLP) is a pseudoscientific approach to communication, personal development, and psychotherapy created by Richard Bandler and John Grinder in California, United States, in the 1970s.</td>\n",
       "      <td>0.000000</td>\n",
       "    </tr>\n",
       "    <tr>\n",
       "      <th>29</th>\n",
       "      <td>29</td>\n",
       "      <td>Fruit dishes are those that use fruit as a primary ingredient. Condiments prepared with fruit as a primary ingredient are also included in this list.</td>\n",
       "      <td>0.000000</td>\n",
       "    </tr>\n",
       "  </tbody>\n",
       "</table>\n",
       "</div>"
      ],
      "text/plain": [
       "    document_id  \\\n",
       "10           10   \n",
       "0             0   \n",
       "17           17   \n",
       "30           30   \n",
       "29           29   \n",
       "\n",
       "                                                                                                                                                                                                                                                                                                                                                                                                                                                                                                                                                                                                                                                                                                                                      text  \\\n",
       "10  Canada's Food Guide is a nutrition guide produced by Health Canada to promote Healthy behaviours and habits, and lifestyles in Canada - this is to increase the number of healthy people in Canada. In 2007, it was reported to be the second most requested Canadian government publication, behind the Income Tax Forms. The Health Canada website states: Food guides are basic education tools that are designed to help people follow a healthy diet. The Guide recommends eating a variety of healthy foods each day including plenty of vegetables and fruits, protein foods, and whole grain foods. It recommends choosing protein foods that come from plants more often. It also recommends limiting highly processed foods.   \n",
       "0                                                                                                                                                                                      Fresh Pomegranate from Anushka Avni International Bhagwa is a premium Pomegranate variety from India. The Deep Red arils & the pleasing Red but rugged skin enhances the appearance whilst promoting shelf life of the fruit. Bhagwa is widely known for its soft seed, Dark red color and extremely delicious. Packaging: Net weight of box 2.5kg, 3.00kg, 3.5kg. Details: Minimum Weight 180gm, maximum weight 400gm Color of arils: Dark Cherry red. Taste: Sweet Fruit count / carton (3.50 kg net wt.) 9 Numbers packed per carton: 350-400gms   \n",
       "17                                                                                                                                                                                                                                                                                                                                                                                                                                                                                                             We are one of the leading organizations engaged in delivering our customers with Fresh Onions. We manufacture this in bulk requirements for our clients. Malaysia, Singapore, Philippines, Vietnam Quality Product Details:   \n",
       "30                                                                                                                                                                                                                                                                                                                                                                                                                                                                                                                     Neuro linguistic programming (NLP) is a pseudoscientific approach to communication, personal development, and psychotherapy created by Richard Bandler and John Grinder in California, United States, in the 1970s.   \n",
       "29                                                                                                                                                                                                                                                                                                                                                                                                                                                                                                                                                                                   Fruit dishes are those that use fruit as a primary ingredient. Condiments prepared with fruit as a primary ingredient are also included in this list.   \n",
       "\n",
       "    similarity  \n",
       "10    0.082861  \n",
       "0     0.000000  \n",
       "17    0.000000  \n",
       "30    0.000000  \n",
       "29    0.000000  "
      ]
     },
     "metadata": {},
     "output_type": "display_data"
    },
    {
     "name": "stdout",
     "output_type": "stream",
     "text": [
      "Query: healthy foods in Canada\n"
     ]
    },
    {
     "data": {
      "text/html": [
       "<div>\n",
       "<style scoped>\n",
       "    .dataframe tbody tr th:only-of-type {\n",
       "        vertical-align: middle;\n",
       "    }\n",
       "\n",
       "    .dataframe tbody tr th {\n",
       "        vertical-align: top;\n",
       "    }\n",
       "\n",
       "    .dataframe thead th {\n",
       "        text-align: right;\n",
       "    }\n",
       "</style>\n",
       "<table border=\"1\" class=\"dataframe\">\n",
       "  <thead>\n",
       "    <tr style=\"text-align: right;\">\n",
       "      <th></th>\n",
       "      <th>document_id</th>\n",
       "      <th>text</th>\n",
       "      <th>similarity</th>\n",
       "    </tr>\n",
       "  </thead>\n",
       "  <tbody>\n",
       "    <tr>\n",
       "      <th>10</th>\n",
       "      <td>10</td>\n",
       "      <td>Canada's Food Guide is a nutrition guide produced by Health Canada to promote Healthy behaviours and habits, and lifestyles in Canada - this is to increase the number of healthy people in Canada. In 2007, it was reported to be the second most requested Canadian government publication, behind the Income Tax Forms. The Health Canada website states: Food guides are basic education tools that are designed to help people follow a healthy diet. The Guide recommends eating a variety of healthy foods each day including plenty of vegetables and fruits, protein foods, and whole grain foods. It recommends choosing protein foods that come from plants more often. It also recommends limiting highly processed foods.</td>\n",
       "      <td>0.600329</td>\n",
       "    </tr>\n",
       "    <tr>\n",
       "      <th>9</th>\n",
       "      <td>9</td>\n",
       "      <td>In nutrition, the diet of an organism is the sum of foods it eats, which is largely determined by the availability and palatability of foods.</td>\n",
       "      <td>0.296162</td>\n",
       "    </tr>\n",
       "    <tr>\n",
       "      <th>12</th>\n",
       "      <td>12</td>\n",
       "      <td>Canadian Industry Statistics (CIS) analyses industry data on many economic indicators in Canada</td>\n",
       "      <td>0.104784</td>\n",
       "    </tr>\n",
       "    <tr>\n",
       "      <th>11</th>\n",
       "      <td>11</td>\n",
       "      <td>UK, Nether Land, Russia, Canada, HongKong, Malaysia, Singapore, Oman, UAE, Qatar, Bahrain, Saudi Arabia, Mauritius, Maldives, Sri Lanka, Bangladesh</td>\n",
       "      <td>0.085697</td>\n",
       "    </tr>\n",
       "    <tr>\n",
       "      <th>28</th>\n",
       "      <td>28</td>\n",
       "      <td>The Ford Bronco is a model line of sport utility vehicles manufactured and marketed by Ford. ... The first SUV model developed by the company, five generations of the Bronco were sold from the 1966 to 1996 model years. A sixth generation of the model line is sold from the 2021 model year. the Ford Bronco will be available in Canada, with first deliveries beginning in spring of 2021. The Bronco will come in six versions in Canada: Base, Big Bend, Black Diamond, Outer Banks, Wildtrak and Badlands.</td>\n",
       "      <td>0.073825</td>\n",
       "    </tr>\n",
       "  </tbody>\n",
       "</table>\n",
       "</div>"
      ],
      "text/plain": [
       "    document_id  \\\n",
       "10           10   \n",
       "9             9   \n",
       "12           12   \n",
       "11           11   \n",
       "28           28   \n",
       "\n",
       "                                                                                                                                                                                                                                                                                                                                                                                                                                                                                                                                                                                                                                                                                                                                      text  \\\n",
       "10  Canada's Food Guide is a nutrition guide produced by Health Canada to promote Healthy behaviours and habits, and lifestyles in Canada - this is to increase the number of healthy people in Canada. In 2007, it was reported to be the second most requested Canadian government publication, behind the Income Tax Forms. The Health Canada website states: Food guides are basic education tools that are designed to help people follow a healthy diet. The Guide recommends eating a variety of healthy foods each day including plenty of vegetables and fruits, protein foods, and whole grain foods. It recommends choosing protein foods that come from plants more often. It also recommends limiting highly processed foods.   \n",
       "9                                                                                                                                                                                                                                                                                                                                                                                                                                                                                                                                                                                            In nutrition, the diet of an organism is the sum of foods it eats, which is largely determined by the availability and palatability of foods.   \n",
       "12                                                                                                                                                                                                                                                                                                                                                                                                                                                                                                                                                                                                                                         Canadian Industry Statistics (CIS) analyses industry data on many economic indicators in Canada   \n",
       "11                                                                                                                                                                                                                                                                                                                                                                                                                                                                                                                                                                                     UK, Nether Land, Russia, Canada, HongKong, Malaysia, Singapore, Oman, UAE, Qatar, Bahrain, Saudi Arabia, Mauritius, Maldives, Sri Lanka, Bangladesh   \n",
       "28                                                                                                                                                                                                                   The Ford Bronco is a model line of sport utility vehicles manufactured and marketed by Ford. ... The first SUV model developed by the company, five generations of the Bronco were sold from the 1966 to 1996 model years. A sixth generation of the model line is sold from the 2021 model year. the Ford Bronco will be available in Canada, with first deliveries beginning in spring of 2021. The Bronco will come in six versions in Canada: Base, Big Bend, Black Diamond, Outer Banks, Wildtrak and Badlands.    \n",
       "\n",
       "    similarity  \n",
       "10    0.600329  \n",
       "9     0.296162  \n",
       "12    0.104784  \n",
       "11    0.085697  \n",
       "28    0.073825  "
      ]
     },
     "metadata": {},
     "output_type": "display_data"
    }
   ],
   "source": [
    "# Display top 5 results for each query\n",
    "for query_num, results_df in top_5_dfs.items():\n",
    "    print(f'Query: {queries[query_num]}')\n",
    "    display(results_df)"
   ]
  },
  {
   "cell_type": "code",
   "execution_count": 19,
   "metadata": {
    "id": "Lw2XoB9c2ELc"
   },
   "outputs": [],
   "source": [
    "# The Mean Reciprocal Rank is a statistic measure for evaluating any process that produces\n",
    "# a list of possible responses to a sample of queries, ordered by probability of correctness.\n",
    "# The reciprocal rank of a query response is the multiplicative inverse of the rank of the first correct answer.\n",
    "def compute_mrr(top_docs, query_num):\n",
    "    ranks = [i + 1 for i, doc_id in enumerate(top_docs) if is_highest_rated_in_top_5([doc_id], query_num)]\n",
    "    return 1 / ranks[0] if ranks else 0"
   ]
  },
  {
   "cell_type": "code",
   "execution_count": 20,
   "metadata": {
    "colab": {
     "base_uri": "https://localhost:8080/",
     "height": 173
    },
    "id": "XfsYcdRCXe8B",
    "outputId": "c4ee0190-981e-43b8-e1d9-c5a4a5fc71f4"
   },
   "outputs": [
    {
     "data": {
      "text/html": [
       "<div>\n",
       "<style scoped>\n",
       "    .dataframe tbody tr th:only-of-type {\n",
       "        vertical-align: middle;\n",
       "    }\n",
       "\n",
       "    .dataframe tbody tr th {\n",
       "        vertical-align: top;\n",
       "    }\n",
       "\n",
       "    .dataframe thead th {\n",
       "        text-align: right;\n",
       "    }\n",
       "</style>\n",
       "<table border=\"1\" class=\"dataframe\">\n",
       "  <thead>\n",
       "    <tr style=\"text-align: right;\">\n",
       "      <th></th>\n",
       "      <th>query</th>\n",
       "      <th>discovered_top_doc</th>\n",
       "      <th>top_5_percent_score</th>\n",
       "      <th>MRR</th>\n",
       "    </tr>\n",
       "  </thead>\n",
       "  <tbody>\n",
       "    <tr>\n",
       "      <th>0</th>\n",
       "      <td>fruits</td>\n",
       "      <td>1</td>\n",
       "      <td>60.000000</td>\n",
       "      <td>1.000000</td>\n",
       "    </tr>\n",
       "    <tr>\n",
       "      <th>1</th>\n",
       "      <td>vegetables</td>\n",
       "      <td>1</td>\n",
       "      <td>57.140000</td>\n",
       "      <td>0.500000</td>\n",
       "    </tr>\n",
       "    <tr>\n",
       "      <th>2</th>\n",
       "      <td>healthy foods in Canada</td>\n",
       "      <td>1</td>\n",
       "      <td>55.560000</td>\n",
       "      <td>1.000000</td>\n",
       "    </tr>\n",
       "    <tr>\n",
       "      <th>3</th>\n",
       "      <td>Mean Performance Metrics</td>\n",
       "      <td>1</td>\n",
       "      <td>57.566667</td>\n",
       "      <td>0.833333</td>\n",
       "    </tr>\n",
       "  </tbody>\n",
       "</table>\n",
       "</div>"
      ],
      "text/plain": [
       "                      query  discovered_top_doc  top_5_percent_score       MRR\n",
       "0                    fruits                   1            60.000000  1.000000\n",
       "1                vegetables                   1            57.140000  0.500000\n",
       "2   healthy foods in Canada                   1            55.560000  1.000000\n",
       "3  Mean Performance Metrics                   1            57.566667  0.833333"
      ]
     },
     "metadata": {},
     "output_type": "display_data"
    }
   ],
   "source": [
    "from statistics import mean\n",
    "\n",
    "def evaluate_performance(top_5_dfs, queries):\n",
    "    performance_metrics = [(is_highest_rated_in_top_5(list(top_5_dfs[query_num]['document_id'].values), query_num),\n",
    "                            calculate_top_5_score_percentage(list(top_5_dfs[query_num]['document_id'].values), query_num),\n",
    "                            compute_mrr(list(top_5_dfs[query_num]['document_id'].values), query_num))\n",
    "                           for query_num in queries]\n",
    "\n",
    "    # Unzipping the list of tuples\n",
    "    discovered_top_doc, top_5_percent_scores, mrr_scores = zip(*performance_metrics)\n",
    "\n",
    "    discovered_top_doc_mean = mean(discovered_top_doc)\n",
    "    top_5_percent_scores_mean = mean(top_5_percent_scores)\n",
    "    mrr_scores_mean = mean(mrr_scores)\n",
    "\n",
    "    queries_extended = [*queries.values(), 'Mean Performance Metrics']\n",
    "    discovered_top_doc += (discovered_top_doc_mean,)\n",
    "    top_5_percent_scores += (top_5_percent_scores_mean,)\n",
    "    mrr_scores += (mrr_scores_mean,)\n",
    "\n",
    "    df_performance = pd.DataFrame({\n",
    "        'query': queries_extended,\n",
    "        'discovered_top_doc': discovered_top_doc,\n",
    "        'top_5_percent_score': top_5_percent_scores,\n",
    "        'MRR': mrr_scores,\n",
    "    })\n",
    "\n",
    "    return df_performance\n",
    "\n",
    "search_metrics = {}\n",
    "search_metrics['tf_idf_uncleaned'] = evaluate_performance(top_5_dfs, queries)\n",
    "display(search_metrics['tf_idf_uncleaned'])"
   ]
  },
  {
   "cell_type": "markdown",
   "metadata": {
    "id": "WFIOQ-thfdbN"
   },
   "source": [
    "<p><strong>Fruits</strong>: Perfectly finds the top document, with moderate relevance (60%) and perfect MRR, indicating optimal ranking.</p>\n",
    "<p><strong>Vegetables</strong>: Successfully identifies the top document, slightly lower relevance (57.14%), and a moderate MRR (0.5), suggesting varied document ranking.</p>\n",
    "<p><strong>Healthy Foods in Canada</strong>: Achieves perfect identification and the lowest relevance (55.56%) among queries but maintains perfect MRR.</p>\n",
    "<p><strong>Overall</strong>: Consistently locates the top document with an average relevance score of 57.57% and high MRR (0.833), indicating good ranking precision.</p>"
   ]
  },
  {
   "cell_type": "code",
   "execution_count": 22,
   "metadata": {
    "colab": {
     "base_uri": "https://localhost:8080/"
    },
    "id": "n5KsNHx28e4p",
    "outputId": "49e4e065-8c31-4a2e-f5e6-9dcc16d091c0",
    "tags": []
   },
   "outputs": [
    {
     "name": "stderr",
     "output_type": "stream",
     "text": [
      "[nltk_data] Downloading package wordnet to\n",
      "[nltk_data]     /Users/alinakurliantseva/nltk_data...\n",
      "[nltk_data] Downloading package omw-1.4 to\n",
      "[nltk_data]     /Users/alinakurliantseva/nltk_data...\n"
     ]
    },
    {
     "data": {
      "text/plain": [
       "True"
      ]
     },
     "execution_count": 22,
     "metadata": {},
     "output_type": "execute_result"
    }
   ],
   "source": [
    "from re import sub\n",
    "import string\n",
    "from nltk.stem import WordNetLemmatizer\n",
    "from nltk.stem.porter import PorterStemmer\n",
    "\n",
    "# Download necessary NLTK data\n",
    "nltk.download('wordnet')\n",
    "nltk.download('omw-1.4')"
   ]
  },
  {
   "cell_type": "code",
   "execution_count": 23,
   "metadata": {
    "id": "ubifHH4-8fAs"
   },
   "outputs": [],
   "source": [
    "def clean_text(documents, remove_stopwords=True, lemmatize=True, stem=True, tokenize=False):\n",
    "    wnl = WordNetLemmatizer() if lemmatize else None\n",
    "    stemmer = PorterStemmer() if stem else None\n",
    "    stop_words_set = set(stopwords.words('english')) if remove_stopwords else set()\n",
    "\n",
    "    # Define a translation table for removing punctuation\n",
    "    remove_punct = str.maketrans(\"\", \"\", string.punctuation)\n",
    "\n",
    "    processed_docs = []\n",
    "    for doc in documents:\n",
    "        doc = doc.lower().translate(remove_punct)\n",
    "        tokens = doc.split()\n",
    "        if remove_stopwords:\n",
    "          tokens = [token for token in tokens if token not in stop_words_set]\n",
    "        if lemmatize:\n",
    "            tokens = [wnl.lemmatize(token) for token in tokens]\n",
    "        if stem:\n",
    "            tokens = [stemmer.stem(token) for token in tokens]\n",
    "        processed_doc = ' '.join(tokens) if not tokenize else tokens\n",
    "        processed_docs.append(processed_doc)\n",
    "\n",
    "    return processed_docs\n",
    "\n",
    "documents_cleaned = clean_text(documents)"
   ]
  },
  {
   "cell_type": "code",
   "execution_count": 24,
   "metadata": {
    "colab": {
     "base_uri": "https://localhost:8080/",
     "height": 52
    },
    "id": "rcDRF7y2DP0y",
    "outputId": "33e8f29f-e38a-406c-9c5f-543464bef7f6"
   },
   "outputs": [
    {
     "data": {
      "text/plain": [
       "'To a botanist, a fruit is an entity that develops from the fertilized ovary of a flower. This means that tomatoes, squash, pumpkins, cucumbers, peppers, eggplants, corn kernels, and bean and pea pods are all fruits; so are apples, pears, peaches, apricots, melons and mangos'"
      ]
     },
     "execution_count": 24,
     "metadata": {},
     "output_type": "execute_result"
    }
   ],
   "source": [
    "documents[6]"
   ]
  },
  {
   "cell_type": "code",
   "execution_count": 25,
   "metadata": {
    "colab": {
     "base_uri": "https://localhost:8080/",
     "height": 52
    },
    "id": "lSPwvR_CCgFH",
    "outputId": "2ee50083-a640-427d-ff19-ca23084e8f5a"
   },
   "outputs": [
    {
     "data": {
      "text/plain": [
       "'botanist fruit entiti develop fertil ovari flower mean tomato squash pumpkin cucumb pepper eggplant corn kernel bean pea pod fruit appl pear peach apricot melon mango'"
      ]
     },
     "execution_count": 25,
     "metadata": {},
     "output_type": "execute_result"
    }
   ],
   "source": [
    "documents_cleaned[6]"
   ]
  },
  {
   "cell_type": "code",
   "execution_count": 26,
   "metadata": {
    "colab": {
     "base_uri": "https://localhost:8080/",
     "height": 103
    },
    "id": "Czw5kO89DaEx",
    "outputId": "09295930-9f25-40a5-93b8-63846e70c857"
   },
   "outputs": [
    {
     "data": {
      "text/plain": [
       "\"Canada's Food Guide is a nutrition guide produced by Health Canada to promote Healthy behaviours and habits, and lifestyles in Canada - this is to increase the number of healthy people in Canada. In 2007, it was reported to be the second most requested Canadian government publication, behind the Income Tax Forms. The Health Canada website states: Food guides are basic education tools that are designed to help people follow a healthy diet. The Guide recommends eating a variety of healthy foods each day including plenty of vegetables and fruits, protein foods, and whole grain foods. It recommends choosing protein foods that come from plants more often. It also recommends limiting highly processed foods.\""
      ]
     },
     "execution_count": 26,
     "metadata": {},
     "output_type": "execute_result"
    }
   ],
   "source": [
    "documents[10]"
   ]
  },
  {
   "cell_type": "code",
   "execution_count": 27,
   "metadata": {
    "colab": {
     "base_uri": "https://localhost:8080/",
     "height": 86
    },
    "id": "qvv_7wJXCgME",
    "outputId": "be32982f-9b64-4c1b-bad9-84a5086decd8"
   },
   "outputs": [
    {
     "data": {
      "text/plain": [
       "'canada food guid nutrit guid produc health canada promot healthi behaviour habit lifestyl canada increas number healthi peopl canada 2007 report second request canadian govern public behind incom tax form health canada websit state food guid basic educ tool design help peopl follow healthi diet guid recommend eat varieti healthi food day includ plenti veget fruit protein food whole grain food recommend choos protein food come plant often also recommend limit highli process food'"
      ]
     },
     "execution_count": 27,
     "metadata": {},
     "output_type": "execute_result"
    }
   ],
   "source": [
    "documents_cleaned[10]"
   ]
  },
  {
   "cell_type": "code",
   "execution_count": 28,
   "metadata": {
    "colab": {
     "base_uri": "https://localhost:8080/"
    },
    "id": "n5XYIHK4DlpI",
    "outputId": "dcb634b1-fc33-4234-f8f5-0e7eccb9d454"
   },
   "outputs": [
    {
     "name": "stdout",
     "output_type": "stream",
     "text": [
      "Query 1: fruit\n",
      "Query 2: veget\n",
      "Query 3: healthi food canada\n"
     ]
    }
   ],
   "source": [
    "queries_cleaned = clean_text([value for _, value in queries.items()])\n",
    "queries_cleaned = {id: queries_cleaned[id-1] for id in queries}\n",
    "\n",
    "for query_num, cleaned_query in queries_cleaned.items():\n",
    "    print(f'Query {query_num}: {cleaned_query}')"
   ]
  },
  {
   "cell_type": "code",
   "execution_count": 29,
   "metadata": {
    "colab": {
     "base_uri": "https://localhost:8080/",
     "height": 159
    },
    "id": "lhvmkqAKPXH5",
    "outputId": "22c13ecc-6fde-441c-84ea-3b2eddccc4e0"
   },
   "outputs": [
    {
     "data": {
      "text/html": [
       "<style>#sk-container-id-2 {color: black;}#sk-container-id-2 pre{padding: 0;}#sk-container-id-2 div.sk-toggleable {background-color: white;}#sk-container-id-2 label.sk-toggleable__label {cursor: pointer;display: block;width: 100%;margin-bottom: 0;padding: 0.3em;box-sizing: border-box;text-align: center;}#sk-container-id-2 label.sk-toggleable__label-arrow:before {content: \"▸\";float: left;margin-right: 0.25em;color: #696969;}#sk-container-id-2 label.sk-toggleable__label-arrow:hover:before {color: black;}#sk-container-id-2 div.sk-estimator:hover label.sk-toggleable__label-arrow:before {color: black;}#sk-container-id-2 div.sk-toggleable__content {max-height: 0;max-width: 0;overflow: hidden;text-align: left;background-color: #f0f8ff;}#sk-container-id-2 div.sk-toggleable__content pre {margin: 0.2em;color: black;border-radius: 0.25em;background-color: #f0f8ff;}#sk-container-id-2 input.sk-toggleable__control:checked~div.sk-toggleable__content {max-height: 200px;max-width: 100%;overflow: auto;}#sk-container-id-2 input.sk-toggleable__control:checked~label.sk-toggleable__label-arrow:before {content: \"▾\";}#sk-container-id-2 div.sk-estimator input.sk-toggleable__control:checked~label.sk-toggleable__label {background-color: #d4ebff;}#sk-container-id-2 div.sk-label input.sk-toggleable__control:checked~label.sk-toggleable__label {background-color: #d4ebff;}#sk-container-id-2 input.sk-hidden--visually {border: 0;clip: rect(1px 1px 1px 1px);clip: rect(1px, 1px, 1px, 1px);height: 1px;margin: -1px;overflow: hidden;padding: 0;position: absolute;width: 1px;}#sk-container-id-2 div.sk-estimator {font-family: monospace;background-color: #f0f8ff;border: 1px dotted black;border-radius: 0.25em;box-sizing: border-box;margin-bottom: 0.5em;}#sk-container-id-2 div.sk-estimator:hover {background-color: #d4ebff;}#sk-container-id-2 div.sk-parallel-item::after {content: \"\";width: 100%;border-bottom: 1px solid gray;flex-grow: 1;}#sk-container-id-2 div.sk-label:hover label.sk-toggleable__label {background-color: #d4ebff;}#sk-container-id-2 div.sk-serial::before {content: \"\";position: absolute;border-left: 1px solid gray;box-sizing: border-box;top: 0;bottom: 0;left: 50%;z-index: 0;}#sk-container-id-2 div.sk-serial {display: flex;flex-direction: column;align-items: center;background-color: white;padding-right: 0.2em;padding-left: 0.2em;position: relative;}#sk-container-id-2 div.sk-item {position: relative;z-index: 1;}#sk-container-id-2 div.sk-parallel {display: flex;align-items: stretch;justify-content: center;background-color: white;position: relative;}#sk-container-id-2 div.sk-item::before, #sk-container-id-2 div.sk-parallel-item::before {content: \"\";position: absolute;border-left: 1px solid gray;box-sizing: border-box;top: 0;bottom: 0;left: 50%;z-index: -1;}#sk-container-id-2 div.sk-parallel-item {display: flex;flex-direction: column;z-index: 1;position: relative;background-color: white;}#sk-container-id-2 div.sk-parallel-item:first-child::after {align-self: flex-end;width: 50%;}#sk-container-id-2 div.sk-parallel-item:last-child::after {align-self: flex-start;width: 50%;}#sk-container-id-2 div.sk-parallel-item:only-child::after {width: 0;}#sk-container-id-2 div.sk-dashed-wrapped {border: 1px dashed gray;margin: 0 0.4em 0.5em 0.4em;box-sizing: border-box;padding-bottom: 0.4em;background-color: white;}#sk-container-id-2 div.sk-label label {font-family: monospace;font-weight: bold;display: inline-block;line-height: 1.2em;}#sk-container-id-2 div.sk-label-container {text-align: center;}#sk-container-id-2 div.sk-container {/* jupyter's `normalize.less` sets `[hidden] { display: none; }` but bootstrap.min.css set `[hidden] { display: none !important; }` so we also need the `!important` here to be able to override the default hidden behavior on the sphinx rendered scikit-learn.org. See: https://github.com/scikit-learn/scikit-learn/issues/21755 */display: inline-block !important;position: relative;}#sk-container-id-2 div.sk-text-repr-fallback {display: none;}</style><div id=\"sk-container-id-2\" class=\"sk-top-container\"><div class=\"sk-text-repr-fallback\"><pre>TfidfVectorizer(stop_words=[&#x27;i&#x27;, &#x27;me&#x27;, &#x27;my&#x27;, &#x27;myself&#x27;, &#x27;we&#x27;, &#x27;our&#x27;, &#x27;ours&#x27;,\n",
       "                            &#x27;ourselves&#x27;, &#x27;you&#x27;, &quot;you&#x27;re&quot;, &quot;you&#x27;ve&quot;, &quot;you&#x27;ll&quot;,\n",
       "                            &quot;you&#x27;d&quot;, &#x27;your&#x27;, &#x27;yours&#x27;, &#x27;yourself&#x27;, &#x27;yourselves&#x27;,\n",
       "                            &#x27;he&#x27;, &#x27;him&#x27;, &#x27;his&#x27;, &#x27;himself&#x27;, &#x27;she&#x27;, &quot;she&#x27;s&quot;,\n",
       "                            &#x27;her&#x27;, &#x27;hers&#x27;, &#x27;herself&#x27;, &#x27;it&#x27;, &quot;it&#x27;s&quot;, &#x27;its&#x27;,\n",
       "                            &#x27;itself&#x27;, ...])</pre><b>In a Jupyter environment, please rerun this cell to show the HTML representation or trust the notebook. <br />On GitHub, the HTML representation is unable to render, please try loading this page with nbviewer.org.</b></div><div class=\"sk-container\" hidden><div class=\"sk-item\"><div class=\"sk-estimator sk-toggleable\"><input class=\"sk-toggleable__control sk-hidden--visually\" id=\"sk-estimator-id-2\" type=\"checkbox\" checked><label for=\"sk-estimator-id-2\" class=\"sk-toggleable__label sk-toggleable__label-arrow\">TfidfVectorizer</label><div class=\"sk-toggleable__content\"><pre>TfidfVectorizer(stop_words=[&#x27;i&#x27;, &#x27;me&#x27;, &#x27;my&#x27;, &#x27;myself&#x27;, &#x27;we&#x27;, &#x27;our&#x27;, &#x27;ours&#x27;,\n",
       "                            &#x27;ourselves&#x27;, &#x27;you&#x27;, &quot;you&#x27;re&quot;, &quot;you&#x27;ve&quot;, &quot;you&#x27;ll&quot;,\n",
       "                            &quot;you&#x27;d&quot;, &#x27;your&#x27;, &#x27;yours&#x27;, &#x27;yourself&#x27;, &#x27;yourselves&#x27;,\n",
       "                            &#x27;he&#x27;, &#x27;him&#x27;, &#x27;his&#x27;, &#x27;himself&#x27;, &#x27;she&#x27;, &quot;she&#x27;s&quot;,\n",
       "                            &#x27;her&#x27;, &#x27;hers&#x27;, &#x27;herself&#x27;, &#x27;it&#x27;, &quot;it&#x27;s&quot;, &#x27;its&#x27;,\n",
       "                            &#x27;itself&#x27;, ...])</pre></div></div></div></div></div>"
      ],
      "text/plain": [
       "TfidfVectorizer(stop_words=['i', 'me', 'my', 'myself', 'we', 'our', 'ours',\n",
       "                            'ourselves', 'you', \"you're\", \"you've\", \"you'll\",\n",
       "                            \"you'd\", 'your', 'yours', 'yourself', 'yourselves',\n",
       "                            'he', 'him', 'his', 'himself', 'she', \"she's\",\n",
       "                            'her', 'hers', 'herself', 'it', \"it's\", 'its',\n",
       "                            'itself', ...])"
      ]
     },
     "execution_count": 29,
     "metadata": {},
     "output_type": "execute_result"
    }
   ],
   "source": [
    "# Setting up and fitting the TF-IDF vectorizer with preprocessed texts\n",
    "vectorizer = TfidfVectorizer(stop_words=stop_words)\n",
    "vectorizer.fit([queries_cleaned[1], queries_cleaned[2], queries_cleaned[3]] + documents_cleaned)"
   ]
  },
  {
   "cell_type": "code",
   "execution_count": 30,
   "metadata": {
    "id": "pHAw2lU6Dl6B"
   },
   "outputs": [],
   "source": [
    "# Re-calculating similarities with cleaned data\n",
    "top_5_dfs_cleaned = {}\n",
    "for query_num in queries:\n",
    "    similarities = compute_tfidf_similarities(\n",
    "        queries_cleaned[query_num], documents_cleaned, vectorizer)\n",
    "    top_5_dfs_cleaned[query_num] = return_top_5_docs(df_documents, similarities)"
   ]
  },
  {
   "cell_type": "code",
   "execution_count": 31,
   "metadata": {
    "colab": {
     "base_uri": "https://localhost:8080/",
     "height": 1000
    },
    "id": "-DBwP0vsRDQt",
    "outputId": "ee765f13-e302-4ef8-a81d-ea97b01df60a"
   },
   "outputs": [
    {
     "name": "stdout",
     "output_type": "stream",
     "text": [
      "Query: fruits\n"
     ]
    },
    {
     "data": {
      "text/html": [
       "<div>\n",
       "<style scoped>\n",
       "    .dataframe tbody tr th:only-of-type {\n",
       "        vertical-align: middle;\n",
       "    }\n",
       "\n",
       "    .dataframe tbody tr th {\n",
       "        vertical-align: top;\n",
       "    }\n",
       "\n",
       "    .dataframe thead th {\n",
       "        text-align: right;\n",
       "    }\n",
       "</style>\n",
       "<table border=\"1\" class=\"dataframe\">\n",
       "  <thead>\n",
       "    <tr style=\"text-align: right;\">\n",
       "      <th></th>\n",
       "      <th>document_id</th>\n",
       "      <th>text</th>\n",
       "      <th>similarity</th>\n",
       "    </tr>\n",
       "  </thead>\n",
       "  <tbody>\n",
       "    <tr>\n",
       "      <th>29</th>\n",
       "      <td>29</td>\n",
       "      <td>Fruit dishes are those that use fruit as a primary ingredient. Condiments prepared with fruit as a primary ingredient are also included in this list.</td>\n",
       "      <td>0.470983</td>\n",
       "    </tr>\n",
       "    <tr>\n",
       "      <th>6</th>\n",
       "      <td>6</td>\n",
       "      <td>To a botanist, a fruit is an entity that develops from the fertilized ovary of a flower. This means that tomatoes, squash, pumpkins, cucumbers, peppers, eggplants, corn kernels, and bean and pea pods are all fruits; so are apples, pears, peaches, apricots, melons and mangos</td>\n",
       "      <td>0.258814</td>\n",
       "    </tr>\n",
       "    <tr>\n",
       "      <th>0</th>\n",
       "      <td>0</td>\n",
       "      <td>Fresh Pomegranate from Anushka Avni International Bhagwa is a premium Pomegranate variety from India. The Deep Red arils &amp; the pleasing Red but rugged skin enhances the appearance whilst promoting shelf life of the fruit. Bhagwa is widely known for its soft seed, Dark red color and extremely delicious. Packaging: Net weight of box 2.5kg, 3.00kg, 3.5kg. Details: Minimum Weight 180gm, maximum weight 400gm Color of arils: Dark Cherry red. Taste: Sweet Fruit count / carton (3.50 kg net wt.) 9 Numbers packed per carton: 350-400gms</td>\n",
       "      <td>0.152994</td>\n",
       "    </tr>\n",
       "    <tr>\n",
       "      <th>31</th>\n",
       "      <td>31</td>\n",
       "      <td>A fruit serving bowl is a round dish or container typically used to prepare and serve food. The interior of a bowl is characteristically shaped like a spherical cap, with the edges and the bottom forming a seamless curve. This makes bowls especially suited for holding liquids and loose food, as the contents of the bowl are naturally concentrated in its center by the force of gravity.</td>\n",
       "      <td>0.092657</td>\n",
       "    </tr>\n",
       "    <tr>\n",
       "      <th>10</th>\n",
       "      <td>10</td>\n",
       "      <td>Canada's Food Guide is a nutrition guide produced by Health Canada to promote Healthy behaviours and habits, and lifestyles in Canada - this is to increase the number of healthy people in Canada. In 2007, it was reported to be the second most requested Canadian government publication, behind the Income Tax Forms. The Health Canada website states: Food guides are basic education tools that are designed to help people follow a healthy diet. The Guide recommends eating a variety of healthy foods each day including plenty of vegetables and fruits, protein foods, and whole grain foods. It recommends choosing protein foods that come from plants more often. It also recommends limiting highly processed foods.</td>\n",
       "      <td>0.056721</td>\n",
       "    </tr>\n",
       "  </tbody>\n",
       "</table>\n",
       "</div>"
      ],
      "text/plain": [
       "    document_id  \\\n",
       "29           29   \n",
       "6             6   \n",
       "0             0   \n",
       "31           31   \n",
       "10           10   \n",
       "\n",
       "                                                                                                                                                                                                                                                                                                                                                                                                                                                                                                                                                                                                                                                                                                                                      text  \\\n",
       "29                                                                                                                                                                                                                                                                                                                                                                                                                                                                                                                                                                                   Fruit dishes are those that use fruit as a primary ingredient. Condiments prepared with fruit as a primary ingredient are also included in this list.   \n",
       "6                                                                                                                                                                                                                                                                                                                                                                                                                                                       To a botanist, a fruit is an entity that develops from the fertilized ovary of a flower. This means that tomatoes, squash, pumpkins, cucumbers, peppers, eggplants, corn kernels, and bean and pea pods are all fruits; so are apples, pears, peaches, apricots, melons and mangos   \n",
       "0                                                                                                                                                                                      Fresh Pomegranate from Anushka Avni International Bhagwa is a premium Pomegranate variety from India. The Deep Red arils & the pleasing Red but rugged skin enhances the appearance whilst promoting shelf life of the fruit. Bhagwa is widely known for its soft seed, Dark red color and extremely delicious. Packaging: Net weight of box 2.5kg, 3.00kg, 3.5kg. Details: Minimum Weight 180gm, maximum weight 400gm Color of arils: Dark Cherry red. Taste: Sweet Fruit count / carton (3.50 kg net wt.) 9 Numbers packed per carton: 350-400gms   \n",
       "31                                                                                                                                                                                                                                                                                                                                      A fruit serving bowl is a round dish or container typically used to prepare and serve food. The interior of a bowl is characteristically shaped like a spherical cap, with the edges and the bottom forming a seamless curve. This makes bowls especially suited for holding liquids and loose food, as the contents of the bowl are naturally concentrated in its center by the force of gravity.   \n",
       "10  Canada's Food Guide is a nutrition guide produced by Health Canada to promote Healthy behaviours and habits, and lifestyles in Canada - this is to increase the number of healthy people in Canada. In 2007, it was reported to be the second most requested Canadian government publication, behind the Income Tax Forms. The Health Canada website states: Food guides are basic education tools that are designed to help people follow a healthy diet. The Guide recommends eating a variety of healthy foods each day including plenty of vegetables and fruits, protein foods, and whole grain foods. It recommends choosing protein foods that come from plants more often. It also recommends limiting highly processed foods.   \n",
       "\n",
       "    similarity  \n",
       "29    0.470983  \n",
       "6     0.258814  \n",
       "0     0.152994  \n",
       "31    0.092657  \n",
       "10    0.056721  "
      ]
     },
     "metadata": {},
     "output_type": "display_data"
    },
    {
     "name": "stdout",
     "output_type": "stream",
     "text": [
      "Query: vegetables\n"
     ]
    },
    {
     "data": {
      "text/html": [
       "<div>\n",
       "<style scoped>\n",
       "    .dataframe tbody tr th:only-of-type {\n",
       "        vertical-align: middle;\n",
       "    }\n",
       "\n",
       "    .dataframe tbody tr th {\n",
       "        vertical-align: top;\n",
       "    }\n",
       "\n",
       "    .dataframe thead th {\n",
       "        text-align: right;\n",
       "    }\n",
       "</style>\n",
       "<table border=\"1\" class=\"dataframe\">\n",
       "  <thead>\n",
       "    <tr style=\"text-align: right;\">\n",
       "      <th></th>\n",
       "      <th>document_id</th>\n",
       "      <th>text</th>\n",
       "      <th>similarity</th>\n",
       "    </tr>\n",
       "  </thead>\n",
       "  <tbody>\n",
       "    <tr>\n",
       "      <th>10</th>\n",
       "      <td>10</td>\n",
       "      <td>Canada's Food Guide is a nutrition guide produced by Health Canada to promote Healthy behaviours and habits, and lifestyles in Canada - this is to increase the number of healthy people in Canada. In 2007, it was reported to be the second most requested Canadian government publication, behind the Income Tax Forms. The Health Canada website states: Food guides are basic education tools that are designed to help people follow a healthy diet. The Guide recommends eating a variety of healthy foods each day including plenty of vegetables and fruits, protein foods, and whole grain foods. It recommends choosing protein foods that come from plants more often. It also recommends limiting highly processed foods.</td>\n",
       "      <td>0.078939</td>\n",
       "    </tr>\n",
       "    <tr>\n",
       "      <th>0</th>\n",
       "      <td>0</td>\n",
       "      <td>Fresh Pomegranate from Anushka Avni International Bhagwa is a premium Pomegranate variety from India. The Deep Red arils &amp; the pleasing Red but rugged skin enhances the appearance whilst promoting shelf life of the fruit. Bhagwa is widely known for its soft seed, Dark red color and extremely delicious. Packaging: Net weight of box 2.5kg, 3.00kg, 3.5kg. Details: Minimum Weight 180gm, maximum weight 400gm Color of arils: Dark Cherry red. Taste: Sweet Fruit count / carton (3.50 kg net wt.) 9 Numbers packed per carton: 350-400gms</td>\n",
       "      <td>0.000000</td>\n",
       "    </tr>\n",
       "    <tr>\n",
       "      <th>17</th>\n",
       "      <td>17</td>\n",
       "      <td>We are one of the leading organizations engaged in delivering our customers with Fresh Onions. We manufacture this in bulk requirements for our clients. Malaysia, Singapore, Philippines, Vietnam Quality Product Details:</td>\n",
       "      <td>0.000000</td>\n",
       "    </tr>\n",
       "    <tr>\n",
       "      <th>30</th>\n",
       "      <td>30</td>\n",
       "      <td>Neuro linguistic programming (NLP) is a pseudoscientific approach to communication, personal development, and psychotherapy created by Richard Bandler and John Grinder in California, United States, in the 1970s.</td>\n",
       "      <td>0.000000</td>\n",
       "    </tr>\n",
       "    <tr>\n",
       "      <th>29</th>\n",
       "      <td>29</td>\n",
       "      <td>Fruit dishes are those that use fruit as a primary ingredient. Condiments prepared with fruit as a primary ingredient are also included in this list.</td>\n",
       "      <td>0.000000</td>\n",
       "    </tr>\n",
       "  </tbody>\n",
       "</table>\n",
       "</div>"
      ],
      "text/plain": [
       "    document_id  \\\n",
       "10           10   \n",
       "0             0   \n",
       "17           17   \n",
       "30           30   \n",
       "29           29   \n",
       "\n",
       "                                                                                                                                                                                                                                                                                                                                                                                                                                                                                                                                                                                                                                                                                                                                      text  \\\n",
       "10  Canada's Food Guide is a nutrition guide produced by Health Canada to promote Healthy behaviours and habits, and lifestyles in Canada - this is to increase the number of healthy people in Canada. In 2007, it was reported to be the second most requested Canadian government publication, behind the Income Tax Forms. The Health Canada website states: Food guides are basic education tools that are designed to help people follow a healthy diet. The Guide recommends eating a variety of healthy foods each day including plenty of vegetables and fruits, protein foods, and whole grain foods. It recommends choosing protein foods that come from plants more often. It also recommends limiting highly processed foods.   \n",
       "0                                                                                                                                                                                      Fresh Pomegranate from Anushka Avni International Bhagwa is a premium Pomegranate variety from India. The Deep Red arils & the pleasing Red but rugged skin enhances the appearance whilst promoting shelf life of the fruit. Bhagwa is widely known for its soft seed, Dark red color and extremely delicious. Packaging: Net weight of box 2.5kg, 3.00kg, 3.5kg. Details: Minimum Weight 180gm, maximum weight 400gm Color of arils: Dark Cherry red. Taste: Sweet Fruit count / carton (3.50 kg net wt.) 9 Numbers packed per carton: 350-400gms   \n",
       "17                                                                                                                                                                                                                                                                                                                                                                                                                                                                                                             We are one of the leading organizations engaged in delivering our customers with Fresh Onions. We manufacture this in bulk requirements for our clients. Malaysia, Singapore, Philippines, Vietnam Quality Product Details:   \n",
       "30                                                                                                                                                                                                                                                                                                                                                                                                                                                                                                                     Neuro linguistic programming (NLP) is a pseudoscientific approach to communication, personal development, and psychotherapy created by Richard Bandler and John Grinder in California, United States, in the 1970s.   \n",
       "29                                                                                                                                                                                                                                                                                                                                                                                                                                                                                                                                                                                   Fruit dishes are those that use fruit as a primary ingredient. Condiments prepared with fruit as a primary ingredient are also included in this list.   \n",
       "\n",
       "    similarity  \n",
       "10    0.078939  \n",
       "0     0.000000  \n",
       "17    0.000000  \n",
       "30    0.000000  \n",
       "29    0.000000  "
      ]
     },
     "metadata": {},
     "output_type": "display_data"
    },
    {
     "name": "stdout",
     "output_type": "stream",
     "text": [
      "Query: healthy foods in Canada\n"
     ]
    },
    {
     "data": {
      "text/html": [
       "<div>\n",
       "<style scoped>\n",
       "    .dataframe tbody tr th:only-of-type {\n",
       "        vertical-align: middle;\n",
       "    }\n",
       "\n",
       "    .dataframe tbody tr th {\n",
       "        vertical-align: top;\n",
       "    }\n",
       "\n",
       "    .dataframe thead th {\n",
       "        text-align: right;\n",
       "    }\n",
       "</style>\n",
       "<table border=\"1\" class=\"dataframe\">\n",
       "  <thead>\n",
       "    <tr style=\"text-align: right;\">\n",
       "      <th></th>\n",
       "      <th>document_id</th>\n",
       "      <th>text</th>\n",
       "      <th>similarity</th>\n",
       "    </tr>\n",
       "  </thead>\n",
       "  <tbody>\n",
       "    <tr>\n",
       "      <th>10</th>\n",
       "      <td>10</td>\n",
       "      <td>Canada's Food Guide is a nutrition guide produced by Health Canada to promote Healthy behaviours and habits, and lifestyles in Canada - this is to increase the number of healthy people in Canada. In 2007, it was reported to be the second most requested Canadian government publication, behind the Income Tax Forms. The Health Canada website states: Food guides are basic education tools that are designed to help people follow a healthy diet. The Guide recommends eating a variety of healthy foods each day including plenty of vegetables and fruits, protein foods, and whole grain foods. It recommends choosing protein foods that come from plants more often. It also recommends limiting highly processed foods.</td>\n",
       "      <td>0.631050</td>\n",
       "    </tr>\n",
       "    <tr>\n",
       "      <th>9</th>\n",
       "      <td>9</td>\n",
       "      <td>In nutrition, the diet of an organism is the sum of foods it eats, which is largely determined by the availability and palatability of foods.</td>\n",
       "      <td>0.276094</td>\n",
       "    </tr>\n",
       "    <tr>\n",
       "      <th>31</th>\n",
       "      <td>31</td>\n",
       "      <td>A fruit serving bowl is a round dish or container typically used to prepare and serve food. The interior of a bowl is characteristically shaped like a spherical cap, with the edges and the bottom forming a seamless curve. This makes bowls especially suited for holding liquids and loose food, as the contents of the bowl are naturally concentrated in its center by the force of gravity.</td>\n",
       "      <td>0.122010</td>\n",
       "    </tr>\n",
       "    <tr>\n",
       "      <th>12</th>\n",
       "      <td>12</td>\n",
       "      <td>Canadian Industry Statistics (CIS) analyses industry data on many economic indicators in Canada</td>\n",
       "      <td>0.107262</td>\n",
       "    </tr>\n",
       "    <tr>\n",
       "      <th>11</th>\n",
       "      <td>11</td>\n",
       "      <td>UK, Nether Land, Russia, Canada, HongKong, Malaysia, Singapore, Oman, UAE, Qatar, Bahrain, Saudi Arabia, Mauritius, Maldives, Sri Lanka, Bangladesh</td>\n",
       "      <td>0.087723</td>\n",
       "    </tr>\n",
       "  </tbody>\n",
       "</table>\n",
       "</div>"
      ],
      "text/plain": [
       "    document_id  \\\n",
       "10           10   \n",
       "9             9   \n",
       "31           31   \n",
       "12           12   \n",
       "11           11   \n",
       "\n",
       "                                                                                                                                                                                                                                                                                                                                                                                                                                                                                                                                                                                                                                                                                                                                      text  \\\n",
       "10  Canada's Food Guide is a nutrition guide produced by Health Canada to promote Healthy behaviours and habits, and lifestyles in Canada - this is to increase the number of healthy people in Canada. In 2007, it was reported to be the second most requested Canadian government publication, behind the Income Tax Forms. The Health Canada website states: Food guides are basic education tools that are designed to help people follow a healthy diet. The Guide recommends eating a variety of healthy foods each day including plenty of vegetables and fruits, protein foods, and whole grain foods. It recommends choosing protein foods that come from plants more often. It also recommends limiting highly processed foods.   \n",
       "9                                                                                                                                                                                                                                                                                                                                                                                                                                                                                                                                                                                            In nutrition, the diet of an organism is the sum of foods it eats, which is largely determined by the availability and palatability of foods.   \n",
       "31                                                                                                                                                                                                                                                                                                                                      A fruit serving bowl is a round dish or container typically used to prepare and serve food. The interior of a bowl is characteristically shaped like a spherical cap, with the edges and the bottom forming a seamless curve. This makes bowls especially suited for holding liquids and loose food, as the contents of the bowl are naturally concentrated in its center by the force of gravity.   \n",
       "12                                                                                                                                                                                                                                                                                                                                                                                                                                                                                                                                                                                                                                         Canadian Industry Statistics (CIS) analyses industry data on many economic indicators in Canada   \n",
       "11                                                                                                                                                                                                                                                                                                                                                                                                                                                                                                                                                                                     UK, Nether Land, Russia, Canada, HongKong, Malaysia, Singapore, Oman, UAE, Qatar, Bahrain, Saudi Arabia, Mauritius, Maldives, Sri Lanka, Bangladesh   \n",
       "\n",
       "    similarity  \n",
       "10    0.631050  \n",
       "9     0.276094  \n",
       "31    0.122010  \n",
       "12    0.107262  \n",
       "11    0.087723  "
      ]
     },
     "metadata": {},
     "output_type": "display_data"
    }
   ],
   "source": [
    "# Displaying results for each query\n",
    "for query_num, results_df in top_5_dfs_cleaned.items():\n",
    "    print(f'Query: {queries[query_num]}')\n",
    "    display(results_df)"
   ]
  },
  {
   "cell_type": "code",
   "execution_count": 32,
   "metadata": {
    "colab": {
     "base_uri": "https://localhost:8080/",
     "height": 173
    },
    "id": "FOkxmRn08fEW",
    "outputId": "b64d9cfc-17ee-45d9-8217-5c13c57a9fa7"
   },
   "outputs": [
    {
     "data": {
      "text/html": [
       "<div>\n",
       "<style scoped>\n",
       "    .dataframe tbody tr th:only-of-type {\n",
       "        vertical-align: middle;\n",
       "    }\n",
       "\n",
       "    .dataframe tbody tr th {\n",
       "        vertical-align: top;\n",
       "    }\n",
       "\n",
       "    .dataframe thead th {\n",
       "        text-align: right;\n",
       "    }\n",
       "</style>\n",
       "<table border=\"1\" class=\"dataframe\">\n",
       "  <thead>\n",
       "    <tr style=\"text-align: right;\">\n",
       "      <th></th>\n",
       "      <th>query</th>\n",
       "      <th>discovered_top_doc</th>\n",
       "      <th>top_5_percent_score</th>\n",
       "      <th>MRR</th>\n",
       "    </tr>\n",
       "  </thead>\n",
       "  <tbody>\n",
       "    <tr>\n",
       "      <th>0</th>\n",
       "      <td>fruits</td>\n",
       "      <td>1</td>\n",
       "      <td>95.000000</td>\n",
       "      <td>0.500000</td>\n",
       "    </tr>\n",
       "    <tr>\n",
       "      <th>1</th>\n",
       "      <td>vegetables</td>\n",
       "      <td>1</td>\n",
       "      <td>57.140000</td>\n",
       "      <td>0.500000</td>\n",
       "    </tr>\n",
       "    <tr>\n",
       "      <th>2</th>\n",
       "      <td>healthy foods in Canada</td>\n",
       "      <td>1</td>\n",
       "      <td>61.110000</td>\n",
       "      <td>1.000000</td>\n",
       "    </tr>\n",
       "    <tr>\n",
       "      <th>3</th>\n",
       "      <td>Mean Performance Metrics</td>\n",
       "      <td>1</td>\n",
       "      <td>71.083333</td>\n",
       "      <td>0.666667</td>\n",
       "    </tr>\n",
       "  </tbody>\n",
       "</table>\n",
       "</div>"
      ],
      "text/plain": [
       "                      query  discovered_top_doc  top_5_percent_score       MRR\n",
       "0                    fruits                   1            95.000000  0.500000\n",
       "1                vegetables                   1            57.140000  0.500000\n",
       "2   healthy foods in Canada                   1            61.110000  1.000000\n",
       "3  Mean Performance Metrics                   1            71.083333  0.666667"
      ]
     },
     "metadata": {},
     "output_type": "display_data"
    }
   ],
   "source": [
    "search_metrics['tf_idf_cleaned'] = evaluate_performance(top_5_dfs_cleaned, queries)\n",
    "display(search_metrics['tf_idf_cleaned'])"
   ]
  },
  {
   "cell_type": "markdown",
   "metadata": {
    "id": "LVXummNxcbwk"
   },
   "source": [
    "<p><strong>Fruits</strong>: Shows significant improvement in relevance (95%) with a decrease in MRR (0.5), indicating that the top document might not always rank first.</p>\n",
    "<p><strong>Vegetables</strong>: Identifies the top document with unchanged relevance and MRR from the uncleaned version, indicating consistent performance.</p>\n",
    "<p><strong>Healthy Foods in Canada</strong>: Slight increase in relevance (61.11%) and maintains perfect MRR.</p>\n",
    "<p><strong>Overall</strong>: Text cleaning led to an enhanced average relevance (71.08%) but reduced overall MRR (0.667), suggesting improved document relevance but with variable ranking success.</p>"
   ]
  },
  {
   "cell_type": "markdown",
   "metadata": {
    "id": "eg7AQ9wGy1BA"
   },
   "source": [
    "*What impact did the text cleaning / preprocessing have on your results?*"
   ]
  },
  {
   "cell_type": "markdown",
   "metadata": {
    "id": "ipUnPgQDcdom"
   },
   "source": [
    "\n",
    "<p><strong>Relevance Scores Increased</strong>: The top 5 percent score for \"fruits\" notably rose from 60% to 95% after cleaning, indicating enhanced identification of relevant documents by focusing on key content.</p>\n",
    "<p><strong>Mixed Effects on MRR</strong>: Text cleaning led to mixed effects on MRR. While it remained perfect for some queries like \"healthy foods in Canada,\" it decreased for \"fruits,\" suggesting variability in ranking the most relevant documents.</p>\n",
    "<p><strong>Overall Performance Improved</strong>: The mean top 5 percent score improved (from 57.57% to 71.08%), indicating better document relevance detection. However, the overall MRR slightly decreased, showing that cleaning can introduce ranking variability.</p>\n",
    "<p><strong>Conclusion</strong>: Text cleaning generally improves relevance detection but can affect document ranking variably, underscoring its importance for enhancing search system effectiveness.</p>"
   ]
  },
  {
   "cell_type": "markdown",
   "metadata": {
    "id": "H8V2kx6Epnxq"
   },
   "source": [
    "## Experiment 2: Semantic matching using GloVe embeddings"
   ]
  },
  {
   "cell_type": "code",
   "execution_count": 37,
   "metadata": {
    "colab": {
     "base_uri": "https://localhost:8080/"
    },
    "id": "Z-1T288TmXgQ",
    "outputId": "790f189b-7415-4c35-ec48-1ce59e911311"
   },
   "outputs": [
    {
     "name": "stdout",
     "output_type": "stream",
     "text": [
      "Gensim Version: 4.3.0\n"
     ]
    }
   ],
   "source": [
    "# !pip install gensim\n",
    "\n",
    "import gensim\n",
    "import logging\n",
    "import numpy as np\n",
    "import gensim.downloader as api\n",
    "from gensim.utils import simple_preprocess\n",
    "from gensim.corpora import Dictionary\n",
    "from gensim.models import TfidfModel\n",
    "from gensim.similarities import WordEmbeddingSimilarityIndex, SparseTermSimilarityMatrix, SoftCosineSimilarity\n",
    "\n",
    "# Check gensim version\n",
    "print(f'Gensim Version: {gensim.__version__}')"
   ]
  },
  {
   "cell_type": "code",
   "execution_count": 38,
   "metadata": {
    "id": "afFXbVA26yte"
   },
   "outputs": [],
   "source": [
    "# Configure logging to display only warnings or more severe levels\n",
    "logging.basicConfig(format='%(asctime)s : %(levelname)s : %(message)s', level=logging.WARNING)"
   ]
  },
  {
   "cell_type": "code",
   "execution_count": 39,
   "metadata": {
    "id": "MgiiYlQY68i7"
   },
   "outputs": [],
   "source": [
    "# Preprocess documents and queries, turning off stemming and enabling tokenization for GloVe compatibility\n",
    "documents_cleaned = clean_text(documents, remove_stopwords=True, lemmatize=True, stem=False, tokenize=True)\n",
    "queries_cleaned = clean_text([value for _, value in queries.items()], remove_stopwords=True, lemmatize=True, stem=False, tokenize=True)\n",
    "queries_cleaned = {id: queries_cleaned[id-1] for id in queries}"
   ]
  },
  {
   "cell_type": "code",
   "execution_count": 40,
   "metadata": {
    "colab": {
     "base_uri": "https://localhost:8080/"
    },
    "id": "2CZLMJBo7HkL",
    "outputId": "e6d3f8fa-6e7b-4610-da9b-4dc18ef46967"
   },
   "outputs": [
    {
     "name": "stdout",
     "output_type": "stream",
     "text": [
      "Document sample (tokenized): ['botanist', 'fruit', 'entity', 'develops', 'fertilized', 'ovary', 'flower', 'mean', 'tomato', 'squash', 'pumpkin', 'cucumber', 'pepper', 'eggplant', 'corn', 'kernel', 'bean', 'pea', 'pod', 'fruit', 'apple', 'pear', 'peach', 'apricot', 'melon', 'mango']\n",
      "Document sample (tokenized): ['canada', 'food', 'guide', 'nutrition', 'guide', 'produced', 'health', 'canada', 'promote', 'healthy', 'behaviour', 'habit', 'lifestyle', 'canada', 'increase', 'number', 'healthy', 'people', 'canada', '2007', 'reported', 'second', 'requested', 'canadian', 'government', 'publication', 'behind', 'income', 'tax', 'form', 'health', 'canada', 'website', 'state', 'food', 'guide', 'basic', 'education', 'tool', 'designed', 'help', 'people', 'follow', 'healthy', 'diet', 'guide', 'recommends', 'eating', 'variety', 'healthy', 'food', 'day', 'including', 'plenty', 'vegetable', 'fruit', 'protein', 'food', 'whole', 'grain', 'food', 'recommends', 'choosing', 'protein', 'food', 'come', 'plant', 'often', 'also', 'recommends', 'limiting', 'highly', 'processed', 'food']\n",
      "Query 1 (tokenized): ['fruit']\n",
      "Query 2 (tokenized): ['vegetable']\n",
      "Query 3 (tokenized): ['healthy', 'food', 'canada']\n"
     ]
    }
   ],
   "source": [
    "# Display a sample of the cleaned and tokenized documents and queries\n",
    "print(f'Document sample (tokenized): {documents_cleaned[6]}')\n",
    "print(f'Document sample (tokenized): {documents_cleaned[10]}')\n",
    "print(f'Query 1 (tokenized): {queries_cleaned[1]}')\n",
    "print(f'Query 2 (tokenized): {queries_cleaned[2]}')\n",
    "print(f'Query 3 (tokenized): {queries_cleaned[3]}')"
   ]
  },
  {
   "cell_type": "code",
   "execution_count": 41,
   "metadata": {
    "id": "WSMMPDRc7Ht_"
   },
   "outputs": [
    {
     "name": "stdout",
     "output_type": "stream",
     "text": [
      "[=================---------------------------------] 35.5% 23.4/66.0MB downloaded"
     ]
    },
    {
     "name": "stderr",
     "output_type": "stream",
     "text": [
      "IOPub message rate exceeded.\n",
      "The Jupyter server will temporarily stop sending output\n",
      "to the client in order to avoid crashing it.\n",
      "To change this limit, set the config variable\n",
      "`--ServerApp.iopub_msg_rate_limit`.\n",
      "\n",
      "Current values:\n",
      "ServerApp.iopub_msg_rate_limit=1000.0 (msgs/sec)\n",
      "ServerApp.rate_limit_window=3.0 (secs)\n",
      "\n"
     ]
    },
    {
     "name": "stdout",
     "output_type": "stream",
     "text": [
      "[==================================================] 100.0% 66.0/66.0MB downloaded\n"
     ]
    }
   ],
   "source": [
    "# Download and load GloVe word vector embeddings if not already in memory\n",
    "if 'glove' not in locals():\n",
    "    glove = api.load(\"glove-wiki-gigaword-50\")"
   ]
  },
  {
   "cell_type": "code",
   "execution_count": 42,
   "metadata": {
    "id": "hl_e3b5a64Ps"
   },
   "outputs": [],
   "source": [
    "# Set up the similarity index, dictionary, and TF-IDF model\n",
    "similarity_index = WordEmbeddingSimilarityIndex(glove)\n",
    "dictionary = Dictionary([queries_cleaned[1], queries_cleaned[2], queries_cleaned[3]] + documents_cleaned)\n",
    "tfidf = TfidfModel(dictionary=dictionary)"
   ]
  },
  {
   "cell_type": "code",
   "execution_count": 43,
   "metadata": {
    "colab": {
     "base_uri": "https://localhost:8080/"
    },
    "id": "b5U_6JyCAnJC",
    "outputId": "e30aac92-1bfb-4e85-eab8-84532b80d4d6"
   },
   "outputs": [
    {
     "name": "stderr",
     "output_type": "stream",
     "text": [
      "100%|█████████████████████████████████████████| 590/590 [00:05<00:00, 99.91it/s]\n"
     ]
    }
   ],
   "source": [
    "# Create the term similarity matrix for soft cosine similarity calculation\n",
    "similarity_matrix = SparseTermSimilarityMatrix(similarity_index, dictionary, tfidf)"
   ]
  },
  {
   "cell_type": "code",
   "execution_count": 44,
   "metadata": {
    "id": "p_y28BBsA8mk"
   },
   "outputs": [],
   "source": [
    "# Function to compute GloVe-based soft cosine similarities between a query and documents\n",
    "def compute_glove_similarities(query, documents):\n",
    "    query_tf = tfidf[dictionary.doc2bow(query)]\n",
    "    index = SoftCosineSimilarity(\n",
    "        tfidf[[dictionary.doc2bow(doc) for doc in documents]],\n",
    "        similarity_matrix,\n",
    "    )\n",
    "    doc_similarity_scores = index[query_tf]\n",
    "    return doc_similarity_scores"
   ]
  },
  {
   "cell_type": "code",
   "execution_count": 45,
   "metadata": {
    "colab": {
     "base_uri": "https://localhost:8080/"
    },
    "id": "rQZgYrP-ELEn",
    "outputId": "53b70ec6-5b77-47fc-e86b-ed493527ca17"
   },
   "outputs": [
    {
     "name": "stderr",
     "output_type": "stream",
     "text": [
      "/Users/alinakurliantseva/anaconda3/lib/python3.11/site-packages/gensim/similarities/termsim.py:382: RuntimeWarning: divide by zero encountered in divide\n",
      "  normalized_corpus = np.multiply(corpus, 1.0 / corpus_norm)\n",
      "/Users/alinakurliantseva/anaconda3/lib/python3.11/site-packages/gensim/similarities/termsim.py:382: RuntimeWarning: invalid value encountered in multiply\n",
      "  normalized_corpus = np.multiply(corpus, 1.0 / corpus_norm)\n",
      "/Users/alinakurliantseva/anaconda3/lib/python3.11/site-packages/gensim/similarities/termsim.py:382: RuntimeWarning: divide by zero encountered in divide\n",
      "  normalized_corpus = np.multiply(corpus, 1.0 / corpus_norm)\n",
      "/Users/alinakurliantseva/anaconda3/lib/python3.11/site-packages/gensim/similarities/termsim.py:382: RuntimeWarning: invalid value encountered in multiply\n",
      "  normalized_corpus = np.multiply(corpus, 1.0 / corpus_norm)\n"
     ]
    }
   ],
   "source": [
    "# Compute similarities for each query and retrieve top 5 matching documents\n",
    "top_5_dfs_glove = {}\n",
    "for query_num in queries:\n",
    "    similarities = compute_glove_similarities(queries_cleaned[query_num], documents_cleaned)\n",
    "    top_5_dfs_glove[query_num] = return_top_5_docs(df_documents, similarities)"
   ]
  },
  {
   "cell_type": "code",
   "execution_count": 46,
   "metadata": {
    "colab": {
     "base_uri": "https://localhost:8080/",
     "height": 1000
    },
    "id": "846e8LG2Eas2",
    "outputId": "11e4ea62-0cb0-489c-d418-351737542be3"
   },
   "outputs": [
    {
     "name": "stdout",
     "output_type": "stream",
     "text": [
      "Query: fruits\n"
     ]
    },
    {
     "data": {
      "text/html": [
       "<div>\n",
       "<style scoped>\n",
       "    .dataframe tbody tr th:only-of-type {\n",
       "        vertical-align: middle;\n",
       "    }\n",
       "\n",
       "    .dataframe tbody tr th {\n",
       "        vertical-align: top;\n",
       "    }\n",
       "\n",
       "    .dataframe thead th {\n",
       "        text-align: right;\n",
       "    }\n",
       "</style>\n",
       "<table border=\"1\" class=\"dataframe\">\n",
       "  <thead>\n",
       "    <tr style=\"text-align: right;\">\n",
       "      <th></th>\n",
       "      <th>document_id</th>\n",
       "      <th>text</th>\n",
       "      <th>similarity</th>\n",
       "    </tr>\n",
       "  </thead>\n",
       "  <tbody>\n",
       "    <tr>\n",
       "      <th>0</th>\n",
       "      <td>0</td>\n",
       "      <td>Fresh Pomegranate from Anushka Avni International Bhagwa is a premium Pomegranate variety from India. The Deep Red arils &amp; the pleasing Red but rugged skin enhances the appearance whilst promoting shelf life of the fruit. Bhagwa is widely known for its soft seed, Dark red color and extremely delicious. Packaging: Net weight of box 2.5kg, 3.00kg, 3.5kg. Details: Minimum Weight 180gm, maximum weight 400gm Color of arils: Dark Cherry red. Taste: Sweet Fruit count / carton (3.50 kg net wt.) 9 Numbers packed per carton: 350-400gms</td>\n",
       "      <td>0.913621</td>\n",
       "    </tr>\n",
       "    <tr>\n",
       "      <th>6</th>\n",
       "      <td>6</td>\n",
       "      <td>To a botanist, a fruit is an entity that develops from the fertilized ovary of a flower. This means that tomatoes, squash, pumpkins, cucumbers, peppers, eggplants, corn kernels, and bean and pea pods are all fruits; so are apples, pears, peaches, apricots, melons and mangos</td>\n",
       "      <td>0.837077</td>\n",
       "    </tr>\n",
       "    <tr>\n",
       "      <th>1</th>\n",
       "      <td>1</td>\n",
       "      <td>Fresh Pomegranate Arakta from Anushka Avni International This Pomegranate are bigger in size, sweet with soft seeds, bold red arils. It also possess glossy, attractive, dark red skin. Packaging: Net weight of box 2.5kg, 3.00kg, 3.5kg. Details: Minimum Weight 180gm, maximum weight 400gm Taste: Sweet Fruit count / carton (3.50 kg net wt.) 9 Numbers packed per carton: 350-400gms 10 Numbers packed per carton :290-320gms 12 Numbers packed per carton: 275-325gms 15 Numbers packed per carton: 225-275gms Load ability: 4400 cartons per container 20 pallets with 220 cartons per pallet Load ability: 5500 cartons per container Loading with No pallets Availability: January | February | March | April | July | August | September | October | Nov | Dec READ MORE</td>\n",
       "      <td>0.827097</td>\n",
       "    </tr>\n",
       "    <tr>\n",
       "      <th>29</th>\n",
       "      <td>29</td>\n",
       "      <td>Fruit dishes are those that use fruit as a primary ingredient. Condiments prepared with fruit as a primary ingredient are also included in this list.</td>\n",
       "      <td>0.772928</td>\n",
       "    </tr>\n",
       "    <tr>\n",
       "      <th>18</th>\n",
       "      <td>18</td>\n",
       "      <td>Fresh Tomatoes from Anushka Avni International We have emerged as one of the reputed organization actively participating in exporting and suppling Red Tomatoes. Product Details: Taste enhancer Free from preservatives Pure Useful for chutney Packing : 6.5 kg, 7.00 kg Cartons.</td>\n",
       "      <td>0.690709</td>\n",
       "    </tr>\n",
       "  </tbody>\n",
       "</table>\n",
       "</div>"
      ],
      "text/plain": [
       "    document_id  \\\n",
       "0             0   \n",
       "6             6   \n",
       "1             1   \n",
       "29           29   \n",
       "18           18   \n",
       "\n",
       "                                                                                                                                                                                                                                                                                                                                                                                                                                                                                                                                                                                                                                                                                                                                                                                   text  \\\n",
       "0                                                                                                                                                                                                                                   Fresh Pomegranate from Anushka Avni International Bhagwa is a premium Pomegranate variety from India. The Deep Red arils & the pleasing Red but rugged skin enhances the appearance whilst promoting shelf life of the fruit. Bhagwa is widely known for its soft seed, Dark red color and extremely delicious. Packaging: Net weight of box 2.5kg, 3.00kg, 3.5kg. Details: Minimum Weight 180gm, maximum weight 400gm Color of arils: Dark Cherry red. Taste: Sweet Fruit count / carton (3.50 kg net wt.) 9 Numbers packed per carton: 350-400gms   \n",
       "6                                                                                                                                                                                                                                                                                                                                                                                                                                                                                                    To a botanist, a fruit is an entity that develops from the fertilized ovary of a flower. This means that tomatoes, squash, pumpkins, cucumbers, peppers, eggplants, corn kernels, and bean and pea pods are all fruits; so are apples, pears, peaches, apricots, melons and mangos   \n",
       "1   Fresh Pomegranate Arakta from Anushka Avni International This Pomegranate are bigger in size, sweet with soft seeds, bold red arils. It also possess glossy, attractive, dark red skin. Packaging: Net weight of box 2.5kg, 3.00kg, 3.5kg. Details: Minimum Weight 180gm, maximum weight 400gm Taste: Sweet Fruit count / carton (3.50 kg net wt.) 9 Numbers packed per carton: 350-400gms 10 Numbers packed per carton :290-320gms 12 Numbers packed per carton: 275-325gms 15 Numbers packed per carton: 225-275gms Load ability: 4400 cartons per container 20 pallets with 220 cartons per pallet Load ability: 5500 cartons per container Loading with No pallets Availability: January | February | March | April | July | August | September | October | Nov | Dec READ MORE   \n",
       "29                                                                                                                                                                                                                                                                                                                                                                                                                                                                                                                                                                                                                                Fruit dishes are those that use fruit as a primary ingredient. Condiments prepared with fruit as a primary ingredient are also included in this list.   \n",
       "18                                                                                                                                                                                                                                                                                                                                                                                                                                                                                                  Fresh Tomatoes from Anushka Avni International We have emerged as one of the reputed organization actively participating in exporting and suppling Red Tomatoes. Product Details: Taste enhancer Free from preservatives Pure Useful for chutney Packing : 6.5 kg, 7.00 kg Cartons.   \n",
       "\n",
       "    similarity  \n",
       "0     0.913621  \n",
       "6     0.837077  \n",
       "1     0.827097  \n",
       "29    0.772928  \n",
       "18    0.690709  "
      ]
     },
     "metadata": {},
     "output_type": "display_data"
    },
    {
     "name": "stdout",
     "output_type": "stream",
     "text": [
      "Query: vegetables\n"
     ]
    },
    {
     "data": {
      "text/html": [
       "<div>\n",
       "<style scoped>\n",
       "    .dataframe tbody tr th:only-of-type {\n",
       "        vertical-align: middle;\n",
       "    }\n",
       "\n",
       "    .dataframe tbody tr th {\n",
       "        vertical-align: top;\n",
       "    }\n",
       "\n",
       "    .dataframe thead th {\n",
       "        text-align: right;\n",
       "    }\n",
       "</style>\n",
       "<table border=\"1\" class=\"dataframe\">\n",
       "  <thead>\n",
       "    <tr style=\"text-align: right;\">\n",
       "      <th></th>\n",
       "      <th>document_id</th>\n",
       "      <th>text</th>\n",
       "      <th>similarity</th>\n",
       "    </tr>\n",
       "  </thead>\n",
       "  <tbody>\n",
       "    <tr>\n",
       "      <th>6</th>\n",
       "      <td>6</td>\n",
       "      <td>To a botanist, a fruit is an entity that develops from the fertilized ovary of a flower. This means that tomatoes, squash, pumpkins, cucumbers, peppers, eggplants, corn kernels, and bean and pea pods are all fruits; so are apples, pears, peaches, apricots, melons and mangos</td>\n",
       "      <td>0.730219</td>\n",
       "    </tr>\n",
       "    <tr>\n",
       "      <th>0</th>\n",
       "      <td>0</td>\n",
       "      <td>Fresh Pomegranate from Anushka Avni International Bhagwa is a premium Pomegranate variety from India. The Deep Red arils &amp; the pleasing Red but rugged skin enhances the appearance whilst promoting shelf life of the fruit. Bhagwa is widely known for its soft seed, Dark red color and extremely delicious. Packaging: Net weight of box 2.5kg, 3.00kg, 3.5kg. Details: Minimum Weight 180gm, maximum weight 400gm Color of arils: Dark Cherry red. Taste: Sweet Fruit count / carton (3.50 kg net wt.) 9 Numbers packed per carton: 350-400gms</td>\n",
       "      <td>0.680675</td>\n",
       "    </tr>\n",
       "    <tr>\n",
       "      <th>1</th>\n",
       "      <td>1</td>\n",
       "      <td>Fresh Pomegranate Arakta from Anushka Avni International This Pomegranate are bigger in size, sweet with soft seeds, bold red arils. It also possess glossy, attractive, dark red skin. Packaging: Net weight of box 2.5kg, 3.00kg, 3.5kg. Details: Minimum Weight 180gm, maximum weight 400gm Taste: Sweet Fruit count / carton (3.50 kg net wt.) 9 Numbers packed per carton: 350-400gms 10 Numbers packed per carton :290-320gms 12 Numbers packed per carton: 275-325gms 15 Numbers packed per carton: 225-275gms Load ability: 4400 cartons per container 20 pallets with 220 cartons per pallet Load ability: 5500 cartons per container Loading with No pallets Availability: January | February | March | April | July | August | September | October | Nov | Dec READ MORE</td>\n",
       "      <td>0.680675</td>\n",
       "    </tr>\n",
       "    <tr>\n",
       "      <th>10</th>\n",
       "      <td>10</td>\n",
       "      <td>Canada's Food Guide is a nutrition guide produced by Health Canada to promote Healthy behaviours and habits, and lifestyles in Canada - this is to increase the number of healthy people in Canada. In 2007, it was reported to be the second most requested Canadian government publication, behind the Income Tax Forms. The Health Canada website states: Food guides are basic education tools that are designed to help people follow a healthy diet. The Guide recommends eating a variety of healthy foods each day including plenty of vegetables and fruits, protein foods, and whole grain foods. It recommends choosing protein foods that come from plants more often. It also recommends limiting highly processed foods.</td>\n",
       "      <td>0.675303</td>\n",
       "    </tr>\n",
       "    <tr>\n",
       "      <th>29</th>\n",
       "      <td>29</td>\n",
       "      <td>Fruit dishes are those that use fruit as a primary ingredient. Condiments prepared with fruit as a primary ingredient are also included in this list.</td>\n",
       "      <td>0.661857</td>\n",
       "    </tr>\n",
       "  </tbody>\n",
       "</table>\n",
       "</div>"
      ],
      "text/plain": [
       "    document_id  \\\n",
       "6             6   \n",
       "0             0   \n",
       "1             1   \n",
       "10           10   \n",
       "29           29   \n",
       "\n",
       "                                                                                                                                                                                                                                                                                                                                                                                                                                                                                                                                                                                                                                                                                                                                                                                   text  \\\n",
       "6                                                                                                                                                                                                                                                                                                                                                                                                                                                                                                    To a botanist, a fruit is an entity that develops from the fertilized ovary of a flower. This means that tomatoes, squash, pumpkins, cucumbers, peppers, eggplants, corn kernels, and bean and pea pods are all fruits; so are apples, pears, peaches, apricots, melons and mangos   \n",
       "0                                                                                                                                                                                                                                   Fresh Pomegranate from Anushka Avni International Bhagwa is a premium Pomegranate variety from India. The Deep Red arils & the pleasing Red but rugged skin enhances the appearance whilst promoting shelf life of the fruit. Bhagwa is widely known for its soft seed, Dark red color and extremely delicious. Packaging: Net weight of box 2.5kg, 3.00kg, 3.5kg. Details: Minimum Weight 180gm, maximum weight 400gm Color of arils: Dark Cherry red. Taste: Sweet Fruit count / carton (3.50 kg net wt.) 9 Numbers packed per carton: 350-400gms   \n",
       "1   Fresh Pomegranate Arakta from Anushka Avni International This Pomegranate are bigger in size, sweet with soft seeds, bold red arils. It also possess glossy, attractive, dark red skin. Packaging: Net weight of box 2.5kg, 3.00kg, 3.5kg. Details: Minimum Weight 180gm, maximum weight 400gm Taste: Sweet Fruit count / carton (3.50 kg net wt.) 9 Numbers packed per carton: 350-400gms 10 Numbers packed per carton :290-320gms 12 Numbers packed per carton: 275-325gms 15 Numbers packed per carton: 225-275gms Load ability: 4400 cartons per container 20 pallets with 220 cartons per pallet Load ability: 5500 cartons per container Loading with No pallets Availability: January | February | March | April | July | August | September | October | Nov | Dec READ MORE   \n",
       "10                                               Canada's Food Guide is a nutrition guide produced by Health Canada to promote Healthy behaviours and habits, and lifestyles in Canada - this is to increase the number of healthy people in Canada. In 2007, it was reported to be the second most requested Canadian government publication, behind the Income Tax Forms. The Health Canada website states: Food guides are basic education tools that are designed to help people follow a healthy diet. The Guide recommends eating a variety of healthy foods each day including plenty of vegetables and fruits, protein foods, and whole grain foods. It recommends choosing protein foods that come from plants more often. It also recommends limiting highly processed foods.   \n",
       "29                                                                                                                                                                                                                                                                                                                                                                                                                                                                                                                                                                                                                                Fruit dishes are those that use fruit as a primary ingredient. Condiments prepared with fruit as a primary ingredient are also included in this list.   \n",
       "\n",
       "    similarity  \n",
       "6     0.730219  \n",
       "0     0.680675  \n",
       "1     0.680675  \n",
       "10    0.675303  \n",
       "29    0.661857  "
      ]
     },
     "metadata": {},
     "output_type": "display_data"
    },
    {
     "name": "stdout",
     "output_type": "stream",
     "text": [
      "Query: healthy foods in Canada\n"
     ]
    },
    {
     "data": {
      "text/html": [
       "<div>\n",
       "<style scoped>\n",
       "    .dataframe tbody tr th:only-of-type {\n",
       "        vertical-align: middle;\n",
       "    }\n",
       "\n",
       "    .dataframe tbody tr th {\n",
       "        vertical-align: top;\n",
       "    }\n",
       "\n",
       "    .dataframe thead th {\n",
       "        text-align: right;\n",
       "    }\n",
       "</style>\n",
       "<table border=\"1\" class=\"dataframe\">\n",
       "  <thead>\n",
       "    <tr style=\"text-align: right;\">\n",
       "      <th></th>\n",
       "      <th>document_id</th>\n",
       "      <th>text</th>\n",
       "      <th>similarity</th>\n",
       "    </tr>\n",
       "  </thead>\n",
       "  <tbody>\n",
       "    <tr>\n",
       "      <th>10</th>\n",
       "      <td>10</td>\n",
       "      <td>Canada's Food Guide is a nutrition guide produced by Health Canada to promote Healthy behaviours and habits, and lifestyles in Canada - this is to increase the number of healthy people in Canada. In 2007, it was reported to be the second most requested Canadian government publication, behind the Income Tax Forms. The Health Canada website states: Food guides are basic education tools that are designed to help people follow a healthy diet. The Guide recommends eating a variety of healthy foods each day including plenty of vegetables and fruits, protein foods, and whole grain foods. It recommends choosing protein foods that come from plants more often. It also recommends limiting highly processed foods.</td>\n",
       "      <td>0.905110</td>\n",
       "    </tr>\n",
       "    <tr>\n",
       "      <th>9</th>\n",
       "      <td>9</td>\n",
       "      <td>In nutrition, the diet of an organism is the sum of foods it eats, which is largely determined by the availability and palatability of foods.</td>\n",
       "      <td>0.707092</td>\n",
       "    </tr>\n",
       "    <tr>\n",
       "      <th>31</th>\n",
       "      <td>31</td>\n",
       "      <td>A fruit serving bowl is a round dish or container typically used to prepare and serve food. The interior of a bowl is characteristically shaped like a spherical cap, with the edges and the bottom forming a seamless curve. This makes bowls especially suited for holding liquids and loose food, as the contents of the bowl are naturally concentrated in its center by the force of gravity.</td>\n",
       "      <td>0.666732</td>\n",
       "    </tr>\n",
       "    <tr>\n",
       "      <th>16</th>\n",
       "      <td>16</td>\n",
       "      <td>Anushka Avni International (AAI) takes pleasure in presenting itself as one of the renowned Suppliers and Exporter. We have huge assortment of agro products available with us. We feel proud when buyers come to us recognizing the standard quality which we offer in the world wide market. We follow the best practices while supplying and exportingAgro Products. We thoroughly consider the demand and requirement ofthe client till the final destination. The company professionals are aware of the fact that demands of thecustomers keep evolving. We do have strong background in Horticultureand Harvest handling of perishables. Company takes initiatives to deliver the best quality to thecustomers. Moreover, we have established ourselves in the market forproviding the best quality all across the domestic and Internationalmarket.</td>\n",
       "      <td>0.634195</td>\n",
       "    </tr>\n",
       "    <tr>\n",
       "      <th>4</th>\n",
       "      <td>4</td>\n",
       "      <td>White Onions from Anushka Avni International Fresh White Onion, which is widely acclaimed for its health benefits and is used for different cuisines. We are a major exporters and suppliers of all kinds of fresh onions like red onions, pink onions and white onions. Sizes: 30-45 mm 45-55 mm 50 mm and above 55-70 mm 60 and above Packaging: 2.5kg, 3kg, 5kg, 9kg, 10kg, 15kg, 17kg, 18kg, 20kg, 25kg, 30kg Red Mesh Bag or Jute Bag Load ability: 12.5 MT per 20ft container ODO 28 MT per 40ft Refer container.</td>\n",
       "      <td>0.532280</td>\n",
       "    </tr>\n",
       "  </tbody>\n",
       "</table>\n",
       "</div>"
      ],
      "text/plain": [
       "    document_id  \\\n",
       "10           10   \n",
       "9             9   \n",
       "31           31   \n",
       "16           16   \n",
       "4             4   \n",
       "\n",
       "                                                                                                                                                                                                                                                                                                                                                                                                                                                                                                                                                                                                                                                                                                                                                                                                                                                           text  \\\n",
       "10                                                                                                                       Canada's Food Guide is a nutrition guide produced by Health Canada to promote Healthy behaviours and habits, and lifestyles in Canada - this is to increase the number of healthy people in Canada. In 2007, it was reported to be the second most requested Canadian government publication, behind the Income Tax Forms. The Health Canada website states: Food guides are basic education tools that are designed to help people follow a healthy diet. The Guide recommends eating a variety of healthy foods each day including plenty of vegetables and fruits, protein foods, and whole grain foods. It recommends choosing protein foods that come from plants more often. It also recommends limiting highly processed foods.   \n",
       "9                                                                                                                                                                                                                                                                                                                                                                                                                                                                                                                                                                                                                                                                                                                 In nutrition, the diet of an organism is the sum of foods it eats, which is largely determined by the availability and palatability of foods.   \n",
       "31                                                                                                                                                                                                                                                                                                                                                                                                                                                           A fruit serving bowl is a round dish or container typically used to prepare and serve food. The interior of a bowl is characteristically shaped like a spherical cap, with the edges and the bottom forming a seamless curve. This makes bowls especially suited for holding liquids and loose food, as the contents of the bowl are naturally concentrated in its center by the force of gravity.   \n",
       "16  Anushka Avni International (AAI) takes pleasure in presenting itself as one of the renowned Suppliers and Exporter. We have huge assortment of agro products available with us. We feel proud when buyers come to us recognizing the standard quality which we offer in the world wide market. We follow the best practices while supplying and exportingAgro Products. We thoroughly consider the demand and requirement ofthe client till the final destination. The company professionals are aware of the fact that demands of thecustomers keep evolving. We do have strong background in Horticultureand Harvest handling of perishables. Company takes initiatives to deliver the best quality to thecustomers. Moreover, we have established ourselves in the market forproviding the best quality all across the domestic and Internationalmarket.   \n",
       "4                                                                                                                                                                                                                                                                                                                                       White Onions from Anushka Avni International Fresh White Onion, which is widely acclaimed for its health benefits and is used for different cuisines. We are a major exporters and suppliers of all kinds of fresh onions like red onions, pink onions and white onions. Sizes: 30-45 mm 45-55 mm 50 mm and above 55-70 mm 60 and above Packaging: 2.5kg, 3kg, 5kg, 9kg, 10kg, 15kg, 17kg, 18kg, 20kg, 25kg, 30kg Red Mesh Bag or Jute Bag Load ability: 12.5 MT per 20ft container ODO 28 MT per 40ft Refer container.   \n",
       "\n",
       "    similarity  \n",
       "10    0.905110  \n",
       "9     0.707092  \n",
       "31    0.666732  \n",
       "16    0.634195  \n",
       "4     0.532280  "
      ]
     },
     "metadata": {},
     "output_type": "display_data"
    }
   ],
   "source": [
    "# Display results for each query\n",
    "for query_num in queries:\n",
    "    print(f'Query: {queries[query_num]}')\n",
    "    display(top_5_dfs_glove[query_num])"
   ]
  },
  {
   "cell_type": "code",
   "execution_count": 47,
   "metadata": {
    "colab": {
     "base_uri": "https://localhost:8080/",
     "height": 173
    },
    "id": "VnU3UOI8mXs-",
    "outputId": "1ffe6de4-0b50-4070-cdf4-6c09e21ecf54"
   },
   "outputs": [
    {
     "data": {
      "text/html": [
       "<div>\n",
       "<style scoped>\n",
       "    .dataframe tbody tr th:only-of-type {\n",
       "        vertical-align: middle;\n",
       "    }\n",
       "\n",
       "    .dataframe tbody tr th {\n",
       "        vertical-align: top;\n",
       "    }\n",
       "\n",
       "    .dataframe thead th {\n",
       "        text-align: right;\n",
       "    }\n",
       "</style>\n",
       "<table border=\"1\" class=\"dataframe\">\n",
       "  <thead>\n",
       "    <tr style=\"text-align: right;\">\n",
       "      <th></th>\n",
       "      <th>query</th>\n",
       "      <th>discovered_top_doc</th>\n",
       "      <th>top_5_percent_score</th>\n",
       "      <th>MRR</th>\n",
       "    </tr>\n",
       "  </thead>\n",
       "  <tbody>\n",
       "    <tr>\n",
       "      <th>0</th>\n",
       "      <td>fruits</td>\n",
       "      <td>1</td>\n",
       "      <td>95.000000</td>\n",
       "      <td>0.500000</td>\n",
       "    </tr>\n",
       "    <tr>\n",
       "      <th>1</th>\n",
       "      <td>vegetables</td>\n",
       "      <td>1</td>\n",
       "      <td>71.430000</td>\n",
       "      <td>0.500000</td>\n",
       "    </tr>\n",
       "    <tr>\n",
       "      <th>2</th>\n",
       "      <td>healthy foods in Canada</td>\n",
       "      <td>1</td>\n",
       "      <td>61.110000</td>\n",
       "      <td>1.000000</td>\n",
       "    </tr>\n",
       "    <tr>\n",
       "      <th>3</th>\n",
       "      <td>Mean Performance Metrics</td>\n",
       "      <td>1</td>\n",
       "      <td>75.846667</td>\n",
       "      <td>0.666667</td>\n",
       "    </tr>\n",
       "  </tbody>\n",
       "</table>\n",
       "</div>"
      ],
      "text/plain": [
       "                      query  discovered_top_doc  top_5_percent_score       MRR\n",
       "0                    fruits                   1            95.000000  0.500000\n",
       "1                vegetables                   1            71.430000  0.500000\n",
       "2   healthy foods in Canada                   1            61.110000  1.000000\n",
       "3  Mean Performance Metrics                   1            75.846667  0.666667"
      ]
     },
     "metadata": {},
     "output_type": "display_data"
    }
   ],
   "source": [
    "search_metrics['glove'] = evaluate_performance(top_5_dfs_glove, queries)\n",
    "display(search_metrics['glove'])"
   ]
  },
  {
   "cell_type": "markdown",
   "metadata": {
    "id": "Aid7sH1FiEC9"
   },
   "source": [
    "<p><strong>Fruits</strong>: Identical top document discovery and relevance to cleaned TF-IDF, with similar MRR (0.5), showing high relevance scoring.</p>\n",
    "<p><strong>Vegetables</strong>: Improved relevance (71.43%) with consistent MRR (0.5), indicating better matching but similar ranking to TF-IDF.</p>\n",
    "<p><strong>Healthy Foods in Canada</strong>: Matches cleaned TF-IDF in top document discovery and relevance, with perfect MRR.</p>\n",
    "<p><strong>Overall</strong>: Exhibits the highest mean relevance (75.85%) with a MRR (0.667) similar to cleaned TF-IDF, underscoring its effective semantic understanding.</p>"
   ]
  },
  {
   "cell_type": "markdown",
   "metadata": {
    "id": "8at07gGAI-MH",
    "tags": []
   },
   "source": [
    "## Experiment 3: BERT Model"
   ]
  },
  {
   "cell_type": "code",
   "execution_count": 50,
   "metadata": {
    "colab": {
     "base_uri": "https://localhost:8080/"
    },
    "id": "aBSozs_tYFjg",
    "outputId": "9381c1d1-b857-49c0-b5f9-d06f2f93fe39"
   },
   "outputs": [
    {
     "name": "stdout",
     "output_type": "stream",
     "text": [
      "Collecting sentence-transformers\n",
      "  Downloading sentence_transformers-3.3.1-py3-none-any.whl.metadata (10 kB)\n",
      "Collecting transformers<5.0.0,>=4.41.0 (from sentence-transformers)\n",
      "  Downloading transformers-4.46.3-py3-none-any.whl.metadata (44 kB)\n",
      "Requirement already satisfied: tqdm in /Users/alinakurliantseva/anaconda3/lib/python3.11/site-packages (from sentence-transformers) (4.65.0)\n",
      "Requirement already satisfied: torch>=1.11.0 in /Users/alinakurliantseva/anaconda3/lib/python3.11/site-packages (from sentence-transformers) (2.3.1)\n",
      "Requirement already satisfied: scikit-learn in /Users/alinakurliantseva/anaconda3/lib/python3.11/site-packages (from sentence-transformers) (1.3.0)\n",
      "Requirement already satisfied: scipy in /Users/alinakurliantseva/anaconda3/lib/python3.11/site-packages (from sentence-transformers) (1.11.1)\n",
      "Collecting huggingface-hub>=0.20.0 (from sentence-transformers)\n",
      "  Downloading huggingface_hub-0.26.2-py3-none-any.whl.metadata (13 kB)\n",
      "Requirement already satisfied: Pillow in /Users/alinakurliantseva/anaconda3/lib/python3.11/site-packages (from sentence-transformers) (10.0.1)\n",
      "Requirement already satisfied: filelock in /Users/alinakurliantseva/anaconda3/lib/python3.11/site-packages (from huggingface-hub>=0.20.0->sentence-transformers) (3.15.4)\n",
      "Collecting fsspec>=2023.5.0 (from huggingface-hub>=0.20.0->sentence-transformers)\n",
      "  Downloading fsspec-2024.10.0-py3-none-any.whl.metadata (11 kB)\n",
      "Requirement already satisfied: packaging>=20.9 in /Users/alinakurliantseva/anaconda3/lib/python3.11/site-packages (from huggingface-hub>=0.20.0->sentence-transformers) (23.2)\n",
      "Requirement already satisfied: pyyaml>=5.1 in /Users/alinakurliantseva/anaconda3/lib/python3.11/site-packages (from huggingface-hub>=0.20.0->sentence-transformers) (6.0)\n",
      "Requirement already satisfied: requests in /Users/alinakurliantseva/anaconda3/lib/python3.11/site-packages (from huggingface-hub>=0.20.0->sentence-transformers) (2.31.0)\n",
      "Requirement already satisfied: typing-extensions>=3.7.4.3 in /Users/alinakurliantseva/anaconda3/lib/python3.11/site-packages (from huggingface-hub>=0.20.0->sentence-transformers) (4.12.2)\n",
      "Requirement already satisfied: sympy in /Users/alinakurliantseva/anaconda3/lib/python3.11/site-packages (from torch>=1.11.0->sentence-transformers) (1.11.1)\n",
      "Requirement already satisfied: networkx in /Users/alinakurliantseva/anaconda3/lib/python3.11/site-packages (from torch>=1.11.0->sentence-transformers) (3.1)\n",
      "Requirement already satisfied: jinja2 in /Users/alinakurliantseva/anaconda3/lib/python3.11/site-packages (from torch>=1.11.0->sentence-transformers) (3.1.2)\n",
      "Requirement already satisfied: numpy>=1.17 in /Users/alinakurliantseva/anaconda3/lib/python3.11/site-packages (from transformers<5.0.0,>=4.41.0->sentence-transformers) (1.23.5)\n",
      "Requirement already satisfied: regex!=2019.12.17 in /Users/alinakurliantseva/anaconda3/lib/python3.11/site-packages (from transformers<5.0.0,>=4.41.0->sentence-transformers) (2022.7.9)\n",
      "Collecting tokenizers<0.21,>=0.20 (from transformers<5.0.0,>=4.41.0->sentence-transformers)\n",
      "  Downloading tokenizers-0.20.3-cp311-cp311-macosx_11_0_arm64.whl.metadata (6.7 kB)\n",
      "Collecting safetensors>=0.4.1 (from transformers<5.0.0,>=4.41.0->sentence-transformers)\n",
      "  Downloading safetensors-0.4.5-cp311-cp311-macosx_11_0_arm64.whl.metadata (3.8 kB)\n",
      "Requirement already satisfied: joblib>=1.1.1 in /Users/alinakurliantseva/anaconda3/lib/python3.11/site-packages (from scikit-learn->sentence-transformers) (1.2.0)\n",
      "Requirement already satisfied: threadpoolctl>=2.0.0 in /Users/alinakurliantseva/anaconda3/lib/python3.11/site-packages (from scikit-learn->sentence-transformers) (2.2.0)\n",
      "Requirement already satisfied: MarkupSafe>=2.0 in /Users/alinakurliantseva/anaconda3/lib/python3.11/site-packages (from jinja2->torch>=1.11.0->sentence-transformers) (2.1.1)\n",
      "Requirement already satisfied: charset-normalizer<4,>=2 in /Users/alinakurliantseva/anaconda3/lib/python3.11/site-packages (from requests->huggingface-hub>=0.20.0->sentence-transformers) (2.0.4)\n",
      "Requirement already satisfied: idna<4,>=2.5 in /Users/alinakurliantseva/anaconda3/lib/python3.11/site-packages (from requests->huggingface-hub>=0.20.0->sentence-transformers) (3.4)\n",
      "Requirement already satisfied: urllib3<3,>=1.21.1 in /Users/alinakurliantseva/anaconda3/lib/python3.11/site-packages (from requests->huggingface-hub>=0.20.0->sentence-transformers) (1.26.16)\n",
      "Requirement already satisfied: certifi>=2017.4.17 in /Users/alinakurliantseva/anaconda3/lib/python3.11/site-packages (from requests->huggingface-hub>=0.20.0->sentence-transformers) (2024.2.2)\n",
      "Requirement already satisfied: mpmath>=0.19 in /Users/alinakurliantseva/anaconda3/lib/python3.11/site-packages (from sympy->torch>=1.11.0->sentence-transformers) (1.3.0)\n",
      "Downloading sentence_transformers-3.3.1-py3-none-any.whl (268 kB)\n",
      "Downloading huggingface_hub-0.26.2-py3-none-any.whl (447 kB)\n",
      "Downloading transformers-4.46.3-py3-none-any.whl (10.0 MB)\n",
      "\u001b[2K   \u001b[90m━━━━━━━━━━━━━━━━━━━━━━━━━━━━━━━━━━━━━━━━\u001b[0m \u001b[32m10.0/10.0 MB\u001b[0m \u001b[31m21.0 MB/s\u001b[0m eta \u001b[36m0:00:00\u001b[0m \u001b[36m0:00:01\u001b[0m\n",
      "\u001b[?25hDownloading fsspec-2024.10.0-py3-none-any.whl (179 kB)\n",
      "Downloading safetensors-0.4.5-cp311-cp311-macosx_11_0_arm64.whl (381 kB)\n",
      "Downloading tokenizers-0.20.3-cp311-cp311-macosx_11_0_arm64.whl (2.6 MB)\n",
      "\u001b[2K   \u001b[90m━━━━━━━━━━━━━━━━━━━━━━━━━━━━━━━━━━━━━━━━\u001b[0m \u001b[32m2.6/2.6 MB\u001b[0m \u001b[31m15.3 MB/s\u001b[0m eta \u001b[36m0:00:00\u001b[0m\n",
      "\u001b[?25hInstalling collected packages: safetensors, fsspec, huggingface-hub, tokenizers, transformers, sentence-transformers\n",
      "  Attempting uninstall: safetensors\n",
      "    Found existing installation: safetensors 0.3.2\n",
      "    Uninstalling safetensors-0.3.2:\n",
      "      Successfully uninstalled safetensors-0.3.2\n",
      "  Attempting uninstall: fsspec\n",
      "    Found existing installation: fsspec 2023.4.0\n",
      "    Uninstalling fsspec-2023.4.0:\n",
      "      Successfully uninstalled fsspec-2023.4.0\n",
      "  Attempting uninstall: huggingface-hub\n",
      "    Found existing installation: huggingface-hub 0.15.1\n",
      "    Uninstalling huggingface-hub-0.15.1:\n",
      "      Successfully uninstalled huggingface-hub-0.15.1\n",
      "  Attempting uninstall: tokenizers\n",
      "    Found existing installation: tokenizers 0.13.2\n",
      "    Uninstalling tokenizers-0.13.2:\n",
      "      Successfully uninstalled tokenizers-0.13.2\n",
      "  Attempting uninstall: transformers\n",
      "    Found existing installation: transformers 4.32.1\n",
      "    Uninstalling transformers-4.32.1:\n",
      "      Successfully uninstalled transformers-4.32.1\n",
      "\u001b[31mERROR: pip's dependency resolver does not currently take into account all the packages that are installed. This behaviour is the source of the following dependency conflicts.\n",
      "s3fs 2023.4.0 requires fsspec==2023.4.0, but you have fsspec 2024.10.0 which is incompatible.\u001b[0m\u001b[31m\n",
      "\u001b[0mSuccessfully installed fsspec-2024.10.0 huggingface-hub-0.26.2 safetensors-0.4.5 sentence-transformers-3.3.1 tokenizers-0.20.3 transformers-4.46.3\n"
     ]
    }
   ],
   "source": [
    "!pip install -U sentence-transformers\n",
    "\n",
    "from sentence_transformers import SentenceTransformer\n",
    "from sklearn.metrics.pairwise import cosine_similarity"
   ]
  },
  {
   "cell_type": "code",
   "execution_count": 51,
   "metadata": {
    "colab": {
     "base_uri": "https://localhost:8080/"
    },
    "id": "raaQrNXUKL2o",
    "outputId": "52b5bd72-ce82-45b1-f730-003deecc01a7"
   },
   "outputs": [
    {
     "data": {
      "application/vnd.jupyter.widget-view+json": {
       "model_id": "6888a70cb57040b0a8c67994a968de60",
       "version_major": 2,
       "version_minor": 0
      },
      "text/plain": [
       "modules.json:   0%|          | 0.00/229 [00:00<?, ?B/s]"
      ]
     },
     "metadata": {},
     "output_type": "display_data"
    },
    {
     "data": {
      "application/vnd.jupyter.widget-view+json": {
       "model_id": "52288ca3b9884a79b71eaf1246fa6511",
       "version_major": 2,
       "version_minor": 0
      },
      "text/plain": [
       "config_sentence_transformers.json:   0%|          | 0.00/122 [00:00<?, ?B/s]"
      ]
     },
     "metadata": {},
     "output_type": "display_data"
    },
    {
     "data": {
      "application/vnd.jupyter.widget-view+json": {
       "model_id": "79cf82d2fea0452187eaf205b1fe7d0c",
       "version_major": 2,
       "version_minor": 0
      },
      "text/plain": [
       "README.md:   0%|          | 0.00/3.99k [00:00<?, ?B/s]"
      ]
     },
     "metadata": {},
     "output_type": "display_data"
    },
    {
     "data": {
      "application/vnd.jupyter.widget-view+json": {
       "model_id": "88d16d9e302e4022bf7a2ca8549a9fb8",
       "version_major": 2,
       "version_minor": 0
      },
      "text/plain": [
       "sentence_bert_config.json:   0%|          | 0.00/53.0 [00:00<?, ?B/s]"
      ]
     },
     "metadata": {},
     "output_type": "display_data"
    },
    {
     "data": {
      "application/vnd.jupyter.widget-view+json": {
       "model_id": "09471ad3af7d4cf995ce3d143c21b87f",
       "version_major": 2,
       "version_minor": 0
      },
      "text/plain": [
       "config.json:   0%|          | 0.00/625 [00:00<?, ?B/s]"
      ]
     },
     "metadata": {},
     "output_type": "display_data"
    },
    {
     "data": {
      "application/vnd.jupyter.widget-view+json": {
       "model_id": "255058bc80504e36b2d6519c72be343b",
       "version_major": 2,
       "version_minor": 0
      },
      "text/plain": [
       "model.safetensors:   0%|          | 0.00/438M [00:00<?, ?B/s]"
      ]
     },
     "metadata": {},
     "output_type": "display_data"
    },
    {
     "data": {
      "application/vnd.jupyter.widget-view+json": {
       "model_id": "ffe75065c6b34647b3d4c2f740861bb9",
       "version_major": 2,
       "version_minor": 0
      },
      "text/plain": [
       "tokenizer_config.json:   0%|          | 0.00/399 [00:00<?, ?B/s]"
      ]
     },
     "metadata": {},
     "output_type": "display_data"
    },
    {
     "data": {
      "application/vnd.jupyter.widget-view+json": {
       "model_id": "f34e7d857f1844169d004efd772c2b68",
       "version_major": 2,
       "version_minor": 0
      },
      "text/plain": [
       "vocab.txt:   0%|          | 0.00/232k [00:00<?, ?B/s]"
      ]
     },
     "metadata": {},
     "output_type": "display_data"
    },
    {
     "data": {
      "application/vnd.jupyter.widget-view+json": {
       "model_id": "b6f033d04fa149749349cc27e908b737",
       "version_major": 2,
       "version_minor": 0
      },
      "text/plain": [
       "tokenizer.json:   0%|          | 0.00/466k [00:00<?, ?B/s]"
      ]
     },
     "metadata": {},
     "output_type": "display_data"
    },
    {
     "data": {
      "application/vnd.jupyter.widget-view+json": {
       "model_id": "2ab79c53afbf412dbfe96fe4ff76c9e9",
       "version_major": 2,
       "version_minor": 0
      },
      "text/plain": [
       "added_tokens.json:   0%|          | 0.00/2.00 [00:00<?, ?B/s]"
      ]
     },
     "metadata": {},
     "output_type": "display_data"
    },
    {
     "data": {
      "application/vnd.jupyter.widget-view+json": {
       "model_id": "6c1379c2ea2141a9bf40a3cb42fa6f26",
       "version_major": 2,
       "version_minor": 0
      },
      "text/plain": [
       "special_tokens_map.json:   0%|          | 0.00/112 [00:00<?, ?B/s]"
      ]
     },
     "metadata": {},
     "output_type": "display_data"
    },
    {
     "data": {
      "application/vnd.jupyter.widget-view+json": {
       "model_id": "67cf4bed8a7b471c9e47c848ff587cfe",
       "version_major": 2,
       "version_minor": 0
      },
      "text/plain": [
       "1_Pooling/config.json:   0%|          | 0.00/190 [00:00<?, ?B/s]"
      ]
     },
     "metadata": {},
     "output_type": "display_data"
    }
   ],
   "source": [
    "# Initialize the BERT model for generating sentence embeddings\n",
    "bert_model = SentenceTransformer('bert-base-nli-mean-tokens')\n",
    "\n",
    "# Encode the documents to obtain their embeddings\n",
    "document_embeddings = bert_model.encode(documents_cleaned)"
   ]
  },
  {
   "cell_type": "code",
   "execution_count": 52,
   "metadata": {
    "id": "7IpF0Bhq9D3W"
   },
   "outputs": [],
   "source": [
    "def compute_bert_similarities(query, documents_embeddings):\n",
    "  query_embeddings = bert_model.encode(query)\n",
    "  bert_cosine_similarity = cosine_similarity(\n",
    "      [query_embeddings[0]],\n",
    "      document_embeddings[:]\n",
    "  )\n",
    "  document_similarities = bert_cosine_similarity.flatten().tolist()\n",
    "\n",
    "  return document_similarities"
   ]
  },
  {
   "cell_type": "code",
   "execution_count": 53,
   "metadata": {
    "id": "px8jmjsa-Jp2"
   },
   "outputs": [],
   "source": [
    "# Apply the similarity computation to each query and retrieve the top 5 matching documents\n",
    "top_5_dfs_bert = {}\n",
    "for query_num in queries:\n",
    "    similarities = compute_bert_similarities(\n",
    "        queries_cleaned[query_num],\n",
    "        document_embeddings\n",
    "    )\n",
    "    top_5_dfs_bert[query_num] = return_top_5_docs(df_documents, similarities)"
   ]
  },
  {
   "cell_type": "code",
   "execution_count": 54,
   "metadata": {
    "colab": {
     "base_uri": "https://localhost:8080/",
     "height": 1000
    },
    "id": "9rNv23hT_KZi",
    "outputId": "e7669f0b-d08a-4db9-e565-836e652c26ce"
   },
   "outputs": [
    {
     "name": "stdout",
     "output_type": "stream",
     "text": [
      "Query: fruits\n"
     ]
    },
    {
     "data": {
      "text/html": [
       "<div>\n",
       "<style scoped>\n",
       "    .dataframe tbody tr th:only-of-type {\n",
       "        vertical-align: middle;\n",
       "    }\n",
       "\n",
       "    .dataframe tbody tr th {\n",
       "        vertical-align: top;\n",
       "    }\n",
       "\n",
       "    .dataframe thead th {\n",
       "        text-align: right;\n",
       "    }\n",
       "</style>\n",
       "<table border=\"1\" class=\"dataframe\">\n",
       "  <thead>\n",
       "    <tr style=\"text-align: right;\">\n",
       "      <th></th>\n",
       "      <th>document_id</th>\n",
       "      <th>text</th>\n",
       "      <th>similarity</th>\n",
       "    </tr>\n",
       "  </thead>\n",
       "  <tbody>\n",
       "    <tr>\n",
       "      <th>31</th>\n",
       "      <td>31</td>\n",
       "      <td>A fruit serving bowl is a round dish or container typically used to prepare and serve food. The interior of a bowl is characteristically shaped like a spherical cap, with the edges and the bottom forming a seamless curve. This makes bowls especially suited for holding liquids and loose food, as the contents of the bowl are naturally concentrated in its center by the force of gravity.</td>\n",
       "      <td>0.898758</td>\n",
       "    </tr>\n",
       "    <tr>\n",
       "      <th>29</th>\n",
       "      <td>29</td>\n",
       "      <td>Fruit dishes are those that use fruit as a primary ingredient. Condiments prepared with fruit as a primary ingredient are also included in this list.</td>\n",
       "      <td>0.883572</td>\n",
       "    </tr>\n",
       "    <tr>\n",
       "      <th>6</th>\n",
       "      <td>6</td>\n",
       "      <td>To a botanist, a fruit is an entity that develops from the fertilized ovary of a flower. This means that tomatoes, squash, pumpkins, cucumbers, peppers, eggplants, corn kernels, and bean and pea pods are all fruits; so are apples, pears, peaches, apricots, melons and mangos</td>\n",
       "      <td>0.837697</td>\n",
       "    </tr>\n",
       "    <tr>\n",
       "      <th>1</th>\n",
       "      <td>1</td>\n",
       "      <td>Fresh Pomegranate Arakta from Anushka Avni International This Pomegranate are bigger in size, sweet with soft seeds, bold red arils. It also possess glossy, attractive, dark red skin. Packaging: Net weight of box 2.5kg, 3.00kg, 3.5kg. Details: Minimum Weight 180gm, maximum weight 400gm Taste: Sweet Fruit count / carton (3.50 kg net wt.) 9 Numbers packed per carton: 350-400gms 10 Numbers packed per carton :290-320gms 12 Numbers packed per carton: 275-325gms 15 Numbers packed per carton: 225-275gms Load ability: 4400 cartons per container 20 pallets with 220 cartons per pallet Load ability: 5500 cartons per container Loading with No pallets Availability: January | February | March | April | July | August | September | October | Nov | Dec READ MORE</td>\n",
       "      <td>0.693890</td>\n",
       "    </tr>\n",
       "    <tr>\n",
       "      <th>0</th>\n",
       "      <td>0</td>\n",
       "      <td>Fresh Pomegranate from Anushka Avni International Bhagwa is a premium Pomegranate variety from India. The Deep Red arils &amp; the pleasing Red but rugged skin enhances the appearance whilst promoting shelf life of the fruit. Bhagwa is widely known for its soft seed, Dark red color and extremely delicious. Packaging: Net weight of box 2.5kg, 3.00kg, 3.5kg. Details: Minimum Weight 180gm, maximum weight 400gm Color of arils: Dark Cherry red. Taste: Sweet Fruit count / carton (3.50 kg net wt.) 9 Numbers packed per carton: 350-400gms</td>\n",
       "      <td>0.693890</td>\n",
       "    </tr>\n",
       "  </tbody>\n",
       "</table>\n",
       "</div>"
      ],
      "text/plain": [
       "    document_id  \\\n",
       "31           31   \n",
       "29           29   \n",
       "6             6   \n",
       "1             1   \n",
       "0             0   \n",
       "\n",
       "                                                                                                                                                                                                                                                                                                                                                                                                                                                                                                                                                                                                                                                                                                                                                                                   text  \\\n",
       "31                                                                                                                                                                                                                                                                                                                                                                                   A fruit serving bowl is a round dish or container typically used to prepare and serve food. The interior of a bowl is characteristically shaped like a spherical cap, with the edges and the bottom forming a seamless curve. This makes bowls especially suited for holding liquids and loose food, as the contents of the bowl are naturally concentrated in its center by the force of gravity.   \n",
       "29                                                                                                                                                                                                                                                                                                                                                                                                                                                                                                                                                                                                                                Fruit dishes are those that use fruit as a primary ingredient. Condiments prepared with fruit as a primary ingredient are also included in this list.   \n",
       "6                                                                                                                                                                                                                                                                                                                                                                                                                                                                                                    To a botanist, a fruit is an entity that develops from the fertilized ovary of a flower. This means that tomatoes, squash, pumpkins, cucumbers, peppers, eggplants, corn kernels, and bean and pea pods are all fruits; so are apples, pears, peaches, apricots, melons and mangos   \n",
       "1   Fresh Pomegranate Arakta from Anushka Avni International This Pomegranate are bigger in size, sweet with soft seeds, bold red arils. It also possess glossy, attractive, dark red skin. Packaging: Net weight of box 2.5kg, 3.00kg, 3.5kg. Details: Minimum Weight 180gm, maximum weight 400gm Taste: Sweet Fruit count / carton (3.50 kg net wt.) 9 Numbers packed per carton: 350-400gms 10 Numbers packed per carton :290-320gms 12 Numbers packed per carton: 275-325gms 15 Numbers packed per carton: 225-275gms Load ability: 4400 cartons per container 20 pallets with 220 cartons per pallet Load ability: 5500 cartons per container Loading with No pallets Availability: January | February | March | April | July | August | September | October | Nov | Dec READ MORE   \n",
       "0                                                                                                                                                                                                                                   Fresh Pomegranate from Anushka Avni International Bhagwa is a premium Pomegranate variety from India. The Deep Red arils & the pleasing Red but rugged skin enhances the appearance whilst promoting shelf life of the fruit. Bhagwa is widely known for its soft seed, Dark red color and extremely delicious. Packaging: Net weight of box 2.5kg, 3.00kg, 3.5kg. Details: Minimum Weight 180gm, maximum weight 400gm Color of arils: Dark Cherry red. Taste: Sweet Fruit count / carton (3.50 kg net wt.) 9 Numbers packed per carton: 350-400gms   \n",
       "\n",
       "    similarity  \n",
       "31    0.898758  \n",
       "29    0.883572  \n",
       "6     0.837697  \n",
       "1     0.693890  \n",
       "0     0.693890  "
      ]
     },
     "metadata": {},
     "output_type": "display_data"
    },
    {
     "name": "stdout",
     "output_type": "stream",
     "text": [
      "Query: vegetables\n"
     ]
    },
    {
     "data": {
      "text/html": [
       "<div>\n",
       "<style scoped>\n",
       "    .dataframe tbody tr th:only-of-type {\n",
       "        vertical-align: middle;\n",
       "    }\n",
       "\n",
       "    .dataframe tbody tr th {\n",
       "        vertical-align: top;\n",
       "    }\n",
       "\n",
       "    .dataframe thead th {\n",
       "        text-align: right;\n",
       "    }\n",
       "</style>\n",
       "<table border=\"1\" class=\"dataframe\">\n",
       "  <thead>\n",
       "    <tr style=\"text-align: right;\">\n",
       "      <th></th>\n",
       "      <th>document_id</th>\n",
       "      <th>text</th>\n",
       "      <th>similarity</th>\n",
       "    </tr>\n",
       "  </thead>\n",
       "  <tbody>\n",
       "    <tr>\n",
       "      <th>18</th>\n",
       "      <td>18</td>\n",
       "      <td>Fresh Tomatoes from Anushka Avni International We have emerged as one of the reputed organization actively participating in exporting and suppling Red Tomatoes. Product Details: Taste enhancer Free from preservatives Pure Useful for chutney Packing : 6.5 kg, 7.00 kg Cartons.</td>\n",
       "      <td>0.764832</td>\n",
       "    </tr>\n",
       "    <tr>\n",
       "      <th>4</th>\n",
       "      <td>4</td>\n",
       "      <td>White Onions from Anushka Avni International Fresh White Onion, which is widely acclaimed for its health benefits and is used for different cuisines. We are a major exporters and suppliers of all kinds of fresh onions like red onions, pink onions and white onions. Sizes: 30-45 mm 45-55 mm 50 mm and above 55-70 mm 60 and above Packaging: 2.5kg, 3kg, 5kg, 9kg, 10kg, 15kg, 17kg, 18kg, 20kg, 25kg, 30kg Red Mesh Bag or Jute Bag Load ability: 12.5 MT per 20ft container ODO 28 MT per 40ft Refer container.</td>\n",
       "      <td>0.688935</td>\n",
       "    </tr>\n",
       "    <tr>\n",
       "      <th>25</th>\n",
       "      <td>25</td>\n",
       "      <td>Botany originated in prehistory as herbalism with the efforts of early humans to identify – and later cultivate – edible, medicinal and poisonous plants, making it one of the oldest branches of science. Medieval physic gardens, often attached to monasteries, contained plants of medical importance. They were forerunners of the first botanical gardens attached to universities, founded from the 1540s onwards. One of the earliest was the Padua botanical garden. These gardens facilitated the academic study of plants. Efforts to catalogue and describe their collections were the beginnings of plant taxonomy, and led in 1753 to the binomial system of nomenclature of Carl Linnaeus that remains in use to this day for the naming of all biological species.</td>\n",
       "      <td>0.687899</td>\n",
       "    </tr>\n",
       "    <tr>\n",
       "      <th>27</th>\n",
       "      <td>27</td>\n",
       "      <td>Botany, also called plant science(s), plant biology or phytology, is the science of plant life and a branch of biology. A botanist, plant scientist or phytologist is a scientist who specialises in this field.</td>\n",
       "      <td>0.687362</td>\n",
       "    </tr>\n",
       "    <tr>\n",
       "      <th>29</th>\n",
       "      <td>29</td>\n",
       "      <td>Fruit dishes are those that use fruit as a primary ingredient. Condiments prepared with fruit as a primary ingredient are also included in this list.</td>\n",
       "      <td>0.672486</td>\n",
       "    </tr>\n",
       "  </tbody>\n",
       "</table>\n",
       "</div>"
      ],
      "text/plain": [
       "    document_id  \\\n",
       "18           18   \n",
       "4             4   \n",
       "25           25   \n",
       "27           27   \n",
       "29           29   \n",
       "\n",
       "                                                                                                                                                                                                                                                                                                                                                                                                                                                                                                                                                                                                                                                                                                                                                                                  text  \\\n",
       "18                                                                                                                                                                                                                                                                                                                                                                                                                                                                                                 Fresh Tomatoes from Anushka Avni International We have emerged as one of the reputed organization actively participating in exporting and suppling Red Tomatoes. Product Details: Taste enhancer Free from preservatives Pure Useful for chutney Packing : 6.5 kg, 7.00 kg Cartons.   \n",
       "4                                                                                                                                                                                                                                                              White Onions from Anushka Avni International Fresh White Onion, which is widely acclaimed for its health benefits and is used for different cuisines. We are a major exporters and suppliers of all kinds of fresh onions like red onions, pink onions and white onions. Sizes: 30-45 mm 45-55 mm 50 mm and above 55-70 mm 60 and above Packaging: 2.5kg, 3kg, 5kg, 9kg, 10kg, 15kg, 17kg, 18kg, 20kg, 25kg, 30kg Red Mesh Bag or Jute Bag Load ability: 12.5 MT per 20ft container ODO 28 MT per 40ft Refer container.   \n",
       "25  Botany originated in prehistory as herbalism with the efforts of early humans to identify – and later cultivate – edible, medicinal and poisonous plants, making it one of the oldest branches of science. Medieval physic gardens, often attached to monasteries, contained plants of medical importance. They were forerunners of the first botanical gardens attached to universities, founded from the 1540s onwards. One of the earliest was the Padua botanical garden. These gardens facilitated the academic study of plants. Efforts to catalogue and describe their collections were the beginnings of plant taxonomy, and led in 1753 to the binomial system of nomenclature of Carl Linnaeus that remains in use to this day for the naming of all biological species.   \n",
       "27                                                                                                                                                                                                                                                                                                                                                                                                                                                                                                                                                                   Botany, also called plant science(s), plant biology or phytology, is the science of plant life and a branch of biology. A botanist, plant scientist or phytologist is a scientist who specialises in this field.    \n",
       "29                                                                                                                                                                                                                                                                                                                                                                                                                                                                                                                                                                                                                               Fruit dishes are those that use fruit as a primary ingredient. Condiments prepared with fruit as a primary ingredient are also included in this list.   \n",
       "\n",
       "    similarity  \n",
       "18    0.764832  \n",
       "4     0.688935  \n",
       "25    0.687899  \n",
       "27    0.687362  \n",
       "29    0.672486  "
      ]
     },
     "metadata": {},
     "output_type": "display_data"
    },
    {
     "name": "stdout",
     "output_type": "stream",
     "text": [
      "Query: healthy foods in Canada\n"
     ]
    },
    {
     "data": {
      "text/html": [
       "<div>\n",
       "<style scoped>\n",
       "    .dataframe tbody tr th:only-of-type {\n",
       "        vertical-align: middle;\n",
       "    }\n",
       "\n",
       "    .dataframe tbody tr th {\n",
       "        vertical-align: top;\n",
       "    }\n",
       "\n",
       "    .dataframe thead th {\n",
       "        text-align: right;\n",
       "    }\n",
       "</style>\n",
       "<table border=\"1\" class=\"dataframe\">\n",
       "  <thead>\n",
       "    <tr style=\"text-align: right;\">\n",
       "      <th></th>\n",
       "      <th>document_id</th>\n",
       "      <th>text</th>\n",
       "      <th>similarity</th>\n",
       "    </tr>\n",
       "  </thead>\n",
       "  <tbody>\n",
       "    <tr>\n",
       "      <th>8</th>\n",
       "      <td>8</td>\n",
       "      <td>Nutrients are substances used by an organism to survive, grow, and reproduce. The seven major classes of relevant nutrients for animals (including humans) are carbohydrates, dietary fiber, fats, proteins, minerals, vitamins, and water. Nutrients can be grouped as either macronutrients (carbohydrates, dietary fiber, fats, proteins, and water needed in gram quantities) or micronutrients (vitamins and minerals needed in milligram or microgram quantities).</td>\n",
       "      <td>0.587645</td>\n",
       "    </tr>\n",
       "    <tr>\n",
       "      <th>26</th>\n",
       "      <td>26</td>\n",
       "      <td>Semantic similarity is a metric defined over a set of documents or terms, where the idea of distance between items is based on the likeness of their meaning or semantic content as opposed to lexicographical similarity. These are mathematical tools used to estimate the strength of the semantic relationship between units of language, concepts or instances, through a numerical description obtained according to the comparison of information supporting their meaning or describing their nature.</td>\n",
       "      <td>0.569873</td>\n",
       "    </tr>\n",
       "    <tr>\n",
       "      <th>18</th>\n",
       "      <td>18</td>\n",
       "      <td>Fresh Tomatoes from Anushka Avni International We have emerged as one of the reputed organization actively participating in exporting and suppling Red Tomatoes. Product Details: Taste enhancer Free from preservatives Pure Useful for chutney Packing : 6.5 kg, 7.00 kg Cartons.</td>\n",
       "      <td>0.569216</td>\n",
       "    </tr>\n",
       "    <tr>\n",
       "      <th>4</th>\n",
       "      <td>4</td>\n",
       "      <td>White Onions from Anushka Avni International Fresh White Onion, which is widely acclaimed for its health benefits and is used for different cuisines. We are a major exporters and suppliers of all kinds of fresh onions like red onions, pink onions and white onions. Sizes: 30-45 mm 45-55 mm 50 mm and above 55-70 mm 60 and above Packaging: 2.5kg, 3kg, 5kg, 9kg, 10kg, 15kg, 17kg, 18kg, 20kg, 25kg, 30kg Red Mesh Bag or Jute Bag Load ability: 12.5 MT per 20ft container ODO 28 MT per 40ft Refer container.</td>\n",
       "      <td>0.555008</td>\n",
       "    </tr>\n",
       "    <tr>\n",
       "      <th>9</th>\n",
       "      <td>9</td>\n",
       "      <td>In nutrition, the diet of an organism is the sum of foods it eats, which is largely determined by the availability and palatability of foods.</td>\n",
       "      <td>0.515456</td>\n",
       "    </tr>\n",
       "  </tbody>\n",
       "</table>\n",
       "</div>"
      ],
      "text/plain": [
       "    document_id  \\\n",
       "8             8   \n",
       "26           26   \n",
       "18           18   \n",
       "4             4   \n",
       "9             9   \n",
       "\n",
       "                                                                                                                                                                                                                                                                                                                                                                                                                                                                                                                       text  \\\n",
       "8                                                  Nutrients are substances used by an organism to survive, grow, and reproduce. The seven major classes of relevant nutrients for animals (including humans) are carbohydrates, dietary fiber, fats, proteins, minerals, vitamins, and water. Nutrients can be grouped as either macronutrients (carbohydrates, dietary fiber, fats, proteins, and water needed in gram quantities) or micronutrients (vitamins and minerals needed in milligram or microgram quantities).   \n",
       "26           Semantic similarity is a metric defined over a set of documents or terms, where the idea of distance between items is based on the likeness of their meaning or semantic content as opposed to lexicographical similarity. These are mathematical tools used to estimate the strength of the semantic relationship between units of language, concepts or instances, through a numerical description obtained according to the comparison of information supporting their meaning or describing their nature.    \n",
       "18                                                                                                                                                                                                                                      Fresh Tomatoes from Anushka Avni International We have emerged as one of the reputed organization actively participating in exporting and suppling Red Tomatoes. Product Details: Taste enhancer Free from preservatives Pure Useful for chutney Packing : 6.5 kg, 7.00 kg Cartons.   \n",
       "4   White Onions from Anushka Avni International Fresh White Onion, which is widely acclaimed for its health benefits and is used for different cuisines. We are a major exporters and suppliers of all kinds of fresh onions like red onions, pink onions and white onions. Sizes: 30-45 mm 45-55 mm 50 mm and above 55-70 mm 60 and above Packaging: 2.5kg, 3kg, 5kg, 9kg, 10kg, 15kg, 17kg, 18kg, 20kg, 25kg, 30kg Red Mesh Bag or Jute Bag Load ability: 12.5 MT per 20ft container ODO 28 MT per 40ft Refer container.   \n",
       "9                                                                                                                                                                                                                                                                                                                                                                             In nutrition, the diet of an organism is the sum of foods it eats, which is largely determined by the availability and palatability of foods.   \n",
       "\n",
       "    similarity  \n",
       "8     0.587645  \n",
       "26    0.569873  \n",
       "18    0.569216  \n",
       "4     0.555008  \n",
       "9     0.515456  "
      ]
     },
     "metadata": {},
     "output_type": "display_data"
    }
   ],
   "source": [
    "# Display results for each query\n",
    "for query_num in queries:\n",
    "    print(f'Query: {queries[query_num]}')\n",
    "    display(top_5_dfs_bert[query_num])"
   ]
  },
  {
   "cell_type": "code",
   "execution_count": 55,
   "metadata": {
    "colab": {
     "base_uri": "https://localhost:8080/",
     "height": 173
    },
    "id": "7dJKDHV39-g2",
    "outputId": "4f19236b-6b31-4440-9d8f-270bcbbaaff8"
   },
   "outputs": [
    {
     "data": {
      "text/html": [
       "<div>\n",
       "<style scoped>\n",
       "    .dataframe tbody tr th:only-of-type {\n",
       "        vertical-align: middle;\n",
       "    }\n",
       "\n",
       "    .dataframe tbody tr th {\n",
       "        vertical-align: top;\n",
       "    }\n",
       "\n",
       "    .dataframe thead th {\n",
       "        text-align: right;\n",
       "    }\n",
       "</style>\n",
       "<table border=\"1\" class=\"dataframe\">\n",
       "  <thead>\n",
       "    <tr style=\"text-align: right;\">\n",
       "      <th></th>\n",
       "      <th>query</th>\n",
       "      <th>discovered_top_doc</th>\n",
       "      <th>top_5_percent_score</th>\n",
       "      <th>MRR</th>\n",
       "    </tr>\n",
       "  </thead>\n",
       "  <tbody>\n",
       "    <tr>\n",
       "      <th>0</th>\n",
       "      <td>fruits</td>\n",
       "      <td>1.000000</td>\n",
       "      <td>100.00</td>\n",
       "      <td>0.333333</td>\n",
       "    </tr>\n",
       "    <tr>\n",
       "      <th>1</th>\n",
       "      <td>vegetables</td>\n",
       "      <td>1.000000</td>\n",
       "      <td>71.43</td>\n",
       "      <td>1.000000</td>\n",
       "    </tr>\n",
       "    <tr>\n",
       "      <th>2</th>\n",
       "      <td>healthy foods in Canada</td>\n",
       "      <td>0.000000</td>\n",
       "      <td>50.00</td>\n",
       "      <td>0.000000</td>\n",
       "    </tr>\n",
       "    <tr>\n",
       "      <th>3</th>\n",
       "      <td>Mean Performance Metrics</td>\n",
       "      <td>0.666667</td>\n",
       "      <td>73.81</td>\n",
       "      <td>0.444444</td>\n",
       "    </tr>\n",
       "  </tbody>\n",
       "</table>\n",
       "</div>"
      ],
      "text/plain": [
       "                      query  discovered_top_doc  top_5_percent_score       MRR\n",
       "0                    fruits            1.000000               100.00  0.333333\n",
       "1                vegetables            1.000000                71.43  1.000000\n",
       "2   healthy foods in Canada            0.000000                50.00  0.000000\n",
       "3  Mean Performance Metrics            0.666667                73.81  0.444444"
      ]
     },
     "metadata": {},
     "output_type": "display_data"
    }
   ],
   "source": [
    "search_metrics['bert'] = evaluate_performance(top_5_dfs_bert, queries)\n",
    "display(search_metrics['bert'])"
   ]
  },
  {
   "cell_type": "markdown",
   "metadata": {
    "id": "1kRLvCe0ipxS"
   },
   "source": [
    "<p><strong>Fruits</strong>: Perfect top document discovery with the highest relevance (100%) but lower MRR (0.333), indicating ranking challenges.</p>\n",
    "<p><strong>Vegetables</strong>: Perfect identification and high relevance (71.43%) with perfect MRR, showcasing strong performance.</p>\n",
    "<p><strong>Healthy Foods in Canada</strong>: Fails to identify the top document, lowest relevance (50%), and no ranking success (MRR 0.0), indicating a significant mismatch.</p>\n",
    "<p><strong>Overall</strong>: Mixed results with an average discovery rate (0.667), relatively high relevance (73.81%), but the lowest MRR (0.444), highlighting inconsistencies in performance across queries.</p>"
   ]
  },
  {
   "cell_type": "markdown",
   "metadata": {
    "id": "XpX8H6_TEPOM"
   },
   "source": [
    "## Technique Comparison"
   ]
  },
  {
   "cell_type": "code",
   "execution_count": 58,
   "metadata": {
    "colab": {
     "base_uri": "https://localhost:8080/"
    },
    "id": "jqdGmUwzLXbl",
    "outputId": "eac1aaa8-c3a5-4a9a-9fe3-e17458e4d64d",
    "tags": []
   },
   "outputs": [
    {
     "data": {
      "text/plain": [
       "{'tf_idf_uncleaned':                       query  discovered_top_doc  top_5_percent_score       MRR\n",
       " 0                    fruits                   1            60.000000  1.000000\n",
       " 1                vegetables                   1            57.140000  0.500000\n",
       " 2   healthy foods in Canada                   1            55.560000  1.000000\n",
       " 3  Mean Performance Metrics                   1            57.566667  0.833333,\n",
       " 'tf_idf_cleaned':                       query  discovered_top_doc  top_5_percent_score       MRR\n",
       " 0                    fruits                   1            95.000000  0.500000\n",
       " 1                vegetables                   1            57.140000  0.500000\n",
       " 2   healthy foods in Canada                   1            61.110000  1.000000\n",
       " 3  Mean Performance Metrics                   1            71.083333  0.666667,\n",
       " 'glove':                       query  discovered_top_doc  top_5_percent_score       MRR\n",
       " 0                    fruits                   1            95.000000  0.500000\n",
       " 1                vegetables                   1            71.430000  0.500000\n",
       " 2   healthy foods in Canada                   1            61.110000  1.000000\n",
       " 3  Mean Performance Metrics                   1            75.846667  0.666667,\n",
       " 'bert':                       query  discovered_top_doc  top_5_percent_score       MRR\n",
       " 0                    fruits            1.000000               100.00  0.333333\n",
       " 1                vegetables            1.000000                71.43  1.000000\n",
       " 2   healthy foods in Canada            0.000000                50.00  0.000000\n",
       " 3  Mean Performance Metrics            0.666667                73.81  0.444444}"
      ]
     },
     "execution_count": 58,
     "metadata": {},
     "output_type": "execute_result"
    }
   ],
   "source": [
    "search_metrics"
   ]
  },
  {
   "cell_type": "code",
   "execution_count": 59,
   "metadata": {
    "id": "14PN3OSCHv9d"
   },
   "outputs": [],
   "source": [
    "import matplotlib.pyplot as plt\n",
    "\n",
    "def compare_techniques(query_string, search_metrics):\n",
    "    discovered_top_doc = []\n",
    "    top_5_percent_score = []\n",
    "    mrr = []\n",
    "    techniques = [key for key in search_metrics.keys()]\n",
    "    for technique in techniques:\n",
    "        df = search_metrics[technique]\n",
    "        df_filtered = df[df['query'] == query_string]\n",
    "\n",
    "        discovered_top_doc.append(df_filtered['discovered_top_doc'].values[0])\n",
    "        top_5_percent_score.append(df_filtered['top_5_percent_score'].values[0])\n",
    "        mrr.append(df_filtered['MRR'].values[0])\n",
    "\n",
    "    df_final = pd.DataFrame({\n",
    "        'technique': techniques,\n",
    "        'discovered_top_doc': discovered_top_doc,\n",
    "        'top_5_percent_score': top_5_percent_score,\n",
    "        'mrr': mrr,\n",
    "    })\n",
    "\n",
    "    # Plotting the results\n",
    "    ax = df_final.plot.bar(x='technique', y='top_5_percent_score', legend=False)\n",
    "    plt.ylabel('Top 5 Percent Score')\n",
    "    plt.xlabel('Technique')\n",
    "    plt.title(f'Performance Metrics for \"{query_string}\" Query')\n",
    "    plt.xticks(rotation=45, ha='right')\n",
    "    plt.grid(axis='y', linestyle='--')\n",
    "    plt.tight_layout()\n",
    "\n",
    "    return df_final"
   ]
  },
  {
   "cell_type": "code",
   "execution_count": 60,
   "metadata": {
    "colab": {
     "base_uri": "https://localhost:8080/",
     "height": 1000
    },
    "id": "xU_sQcalH176",
    "outputId": "b7073c44-d139-4c48-a856-a654493d8cdc"
   },
   "outputs": [
    {
     "name": "stdout",
     "output_type": "stream",
     "text": [
      "Performance Metrics for \"fruits\" Query\n"
     ]
    },
    {
     "data": {
      "text/html": [
       "<div>\n",
       "<style scoped>\n",
       "    .dataframe tbody tr th:only-of-type {\n",
       "        vertical-align: middle;\n",
       "    }\n",
       "\n",
       "    .dataframe tbody tr th {\n",
       "        vertical-align: top;\n",
       "    }\n",
       "\n",
       "    .dataframe thead th {\n",
       "        text-align: right;\n",
       "    }\n",
       "</style>\n",
       "<table border=\"1\" class=\"dataframe\">\n",
       "  <thead>\n",
       "    <tr style=\"text-align: right;\">\n",
       "      <th></th>\n",
       "      <th>technique</th>\n",
       "      <th>discovered_top_doc</th>\n",
       "      <th>top_5_percent_score</th>\n",
       "      <th>mrr</th>\n",
       "    </tr>\n",
       "  </thead>\n",
       "  <tbody>\n",
       "    <tr>\n",
       "      <th>0</th>\n",
       "      <td>tf_idf_uncleaned</td>\n",
       "      <td>1.0</td>\n",
       "      <td>60.0</td>\n",
       "      <td>1.000000</td>\n",
       "    </tr>\n",
       "    <tr>\n",
       "      <th>1</th>\n",
       "      <td>tf_idf_cleaned</td>\n",
       "      <td>1.0</td>\n",
       "      <td>95.0</td>\n",
       "      <td>0.500000</td>\n",
       "    </tr>\n",
       "    <tr>\n",
       "      <th>2</th>\n",
       "      <td>glove</td>\n",
       "      <td>1.0</td>\n",
       "      <td>95.0</td>\n",
       "      <td>0.500000</td>\n",
       "    </tr>\n",
       "    <tr>\n",
       "      <th>3</th>\n",
       "      <td>bert</td>\n",
       "      <td>1.0</td>\n",
       "      <td>100.0</td>\n",
       "      <td>0.333333</td>\n",
       "    </tr>\n",
       "  </tbody>\n",
       "</table>\n",
       "</div>"
      ],
      "text/plain": [
       "          technique  discovered_top_doc  top_5_percent_score       mrr\n",
       "0  tf_idf_uncleaned                 1.0                 60.0  1.000000\n",
       "1    tf_idf_cleaned                 1.0                 95.0  0.500000\n",
       "2             glove                 1.0                 95.0  0.500000\n",
       "3              bert                 1.0                100.0  0.333333"
      ]
     },
     "metadata": {},
     "output_type": "display_data"
    },
    {
     "name": "stdout",
     "output_type": "stream",
     "text": [
      "Performance Metrics for \"vegetables\" Query\n"
     ]
    },
    {
     "data": {
      "text/html": [
       "<div>\n",
       "<style scoped>\n",
       "    .dataframe tbody tr th:only-of-type {\n",
       "        vertical-align: middle;\n",
       "    }\n",
       "\n",
       "    .dataframe tbody tr th {\n",
       "        vertical-align: top;\n",
       "    }\n",
       "\n",
       "    .dataframe thead th {\n",
       "        text-align: right;\n",
       "    }\n",
       "</style>\n",
       "<table border=\"1\" class=\"dataframe\">\n",
       "  <thead>\n",
       "    <tr style=\"text-align: right;\">\n",
       "      <th></th>\n",
       "      <th>technique</th>\n",
       "      <th>discovered_top_doc</th>\n",
       "      <th>top_5_percent_score</th>\n",
       "      <th>mrr</th>\n",
       "    </tr>\n",
       "  </thead>\n",
       "  <tbody>\n",
       "    <tr>\n",
       "      <th>0</th>\n",
       "      <td>tf_idf_uncleaned</td>\n",
       "      <td>1.0</td>\n",
       "      <td>57.14</td>\n",
       "      <td>0.5</td>\n",
       "    </tr>\n",
       "    <tr>\n",
       "      <th>1</th>\n",
       "      <td>tf_idf_cleaned</td>\n",
       "      <td>1.0</td>\n",
       "      <td>57.14</td>\n",
       "      <td>0.5</td>\n",
       "    </tr>\n",
       "    <tr>\n",
       "      <th>2</th>\n",
       "      <td>glove</td>\n",
       "      <td>1.0</td>\n",
       "      <td>71.43</td>\n",
       "      <td>0.5</td>\n",
       "    </tr>\n",
       "    <tr>\n",
       "      <th>3</th>\n",
       "      <td>bert</td>\n",
       "      <td>1.0</td>\n",
       "      <td>71.43</td>\n",
       "      <td>1.0</td>\n",
       "    </tr>\n",
       "  </tbody>\n",
       "</table>\n",
       "</div>"
      ],
      "text/plain": [
       "          technique  discovered_top_doc  top_5_percent_score  mrr\n",
       "0  tf_idf_uncleaned                 1.0                57.14  0.5\n",
       "1    tf_idf_cleaned                 1.0                57.14  0.5\n",
       "2             glove                 1.0                71.43  0.5\n",
       "3              bert                 1.0                71.43  1.0"
      ]
     },
     "metadata": {},
     "output_type": "display_data"
    },
    {
     "name": "stdout",
     "output_type": "stream",
     "text": [
      "Performance Metrics for \"healthy foods in Canada\" Query\n"
     ]
    },
    {
     "data": {
      "text/html": [
       "<div>\n",
       "<style scoped>\n",
       "    .dataframe tbody tr th:only-of-type {\n",
       "        vertical-align: middle;\n",
       "    }\n",
       "\n",
       "    .dataframe tbody tr th {\n",
       "        vertical-align: top;\n",
       "    }\n",
       "\n",
       "    .dataframe thead th {\n",
       "        text-align: right;\n",
       "    }\n",
       "</style>\n",
       "<table border=\"1\" class=\"dataframe\">\n",
       "  <thead>\n",
       "    <tr style=\"text-align: right;\">\n",
       "      <th></th>\n",
       "      <th>technique</th>\n",
       "      <th>discovered_top_doc</th>\n",
       "      <th>top_5_percent_score</th>\n",
       "      <th>mrr</th>\n",
       "    </tr>\n",
       "  </thead>\n",
       "  <tbody>\n",
       "    <tr>\n",
       "      <th>0</th>\n",
       "      <td>tf_idf_uncleaned</td>\n",
       "      <td>1.0</td>\n",
       "      <td>55.56</td>\n",
       "      <td>1.0</td>\n",
       "    </tr>\n",
       "    <tr>\n",
       "      <th>1</th>\n",
       "      <td>tf_idf_cleaned</td>\n",
       "      <td>1.0</td>\n",
       "      <td>61.11</td>\n",
       "      <td>1.0</td>\n",
       "    </tr>\n",
       "    <tr>\n",
       "      <th>2</th>\n",
       "      <td>glove</td>\n",
       "      <td>1.0</td>\n",
       "      <td>61.11</td>\n",
       "      <td>1.0</td>\n",
       "    </tr>\n",
       "    <tr>\n",
       "      <th>3</th>\n",
       "      <td>bert</td>\n",
       "      <td>0.0</td>\n",
       "      <td>50.00</td>\n",
       "      <td>0.0</td>\n",
       "    </tr>\n",
       "  </tbody>\n",
       "</table>\n",
       "</div>"
      ],
      "text/plain": [
       "          technique  discovered_top_doc  top_5_percent_score  mrr\n",
       "0  tf_idf_uncleaned                 1.0                55.56  1.0\n",
       "1    tf_idf_cleaned                 1.0                61.11  1.0\n",
       "2             glove                 1.0                61.11  1.0\n",
       "3              bert                 0.0                50.00  0.0"
      ]
     },
     "metadata": {},
     "output_type": "display_data"
    },
    {
     "data": {
      "image/png": "[encoded data removed]",
      "text/plain": [
       "<Figure size 640x480 with 1 Axes>"
      ]
     },
     "metadata": {},
     "output_type": "display_data"
    },
    {
     "data": {
      "image/png": "[encoded data removed]",
      "text/plain": [
       "<Figure size 640x480 with 1 Axes>"
      ]
     },
     "metadata": {},
     "output_type": "display_data"
    },
    {
     "data": {
      "image/png": "[encoded data removed]",
      "text/plain": [
       "<Figure size 640x480 with 1 Axes>"
      ]
     },
     "metadata": {},
     "output_type": "display_data"
    }
   ],
   "source": [
    "query_list = ['fruits', 'vegetables', 'healthy foods in Canada']\n",
    "df_results = {}\n",
    "\n",
    "for query in query_list:\n",
    "    df_results[query] = compare_techniques(query, search_metrics)\n",
    "\n",
    "# To display the result for each query\n",
    "for query, df in df_results.items():\n",
    "    print(f'Performance Metrics for \"{query}\" Query')\n",
    "    display(df)"
   ]
  },
  {
   "cell_type": "markdown",
   "metadata": {
    "id": "A1tDlOxlkdZ1"
   },
   "source": [
    "### For \"Fruits\" and \"Vegetables\":\n",
    "\n",
    "<p><strong>TF-IDF</strong>: Cleaning improves relevance for \"fruits\" but not \"vegetables,\" suggesting variable benefits from text preprocessing.\n",
    "<p><strong>GloVe</strong>: Matches cleaned TF-IDF in \"fruits\" and surpasses TF-IDF in \"vegetables,\" showing strong semantic understanding.</p>\n",
    "<p><strong>BERT</strong>: Tops relevance in \"fruits\" and matches GloVe in \"vegetables,\" with varying success in precise ranking, demonstrated by its MRR scores.</p>\n",
    "\n",
    "### For \"Healthy Foods in Canada\":\n",
    "<p><strong>TF-IDF and GloVe</strong>: Both show relevance improvement with cleaning, maintaining high MRR, indicating effective ranking.</p>\n",
    "<p><strong>BERT</strong>: Struggles with this query, missing the top document and showing a significant drop in relevance and MRR, pointing to potential misinterpretation of query context or semantics.</p>\n",
    "\n",
    "### Interpretation:\n",
    "\n",
    "<p><strong>Text Cleaning's Impact</strong>: Generally enhances TF-IDF's performance by focusing analysis on meaningful content, but may introduce ranking challenges.</p>\n",
    "<p><strong>Semantic Models' Strength</strong>: GloVe and BERT often outperform TF-IDF in detecting relevant documents, likely due to their ability to understand deeper semantic relationships. However, BERT's contextual analysis can lead to variable outcomes, particularly evident in its struggle with \"healthy foods in Canada.\"</p>\n",
    "<p><strong>Ranking vs. Relevance</strong>: There's a trade-off observed between improving relevance detection and maintaining accurate ranking. While semantic models excel in identifying relevant documents, their ability to rank the most relevant document first varies, with BERT showing particular variability.</p>"
   ]
  },
  {
   "cell_type": "code",
   "execution_count": null,
   "metadata": {},
   "outputs": [],
   "source": []
  }
 ],
 "metadata": {
  "colab": {
   "provenance": []
  },
  "kernelspec": {
   "display_name": "Python 3 (ipykernel)",
   "language": "python",
   "name": "python3"
  },
  "language_info": {
   "codemirror_mode": {
    "name": "ipython",
    "version": 3
   },
   "file_extension": ".py",
   "mimetype": "text/x-python",
   "name": "python",
   "nbconvert_exporter": "python",
   "pygments_lexer": "ipython3",
   "version": "3.11.5"
  }
 },
 "nbformat": 4,
 "nbformat_minor": 4
}
