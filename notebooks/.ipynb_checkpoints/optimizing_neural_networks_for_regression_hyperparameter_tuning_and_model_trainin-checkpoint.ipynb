{
 "cells": [
  {
   "cell_type": "markdown",
   "metadata": {
    "id": "9aHEi-CRlKBb"
   },
   "source": [
    "# Optimizing Neural Networks for Regression: Hyperparameter Tuning and Model Training\n",
    "\n",
    "## Introduction\n",
    "\n",
    "This project focuses on leveraging neural networks to solve a regression problem using Keras. The primary objective is to train a model that minimizes prediction error while experimenting with various hyperparameters and model architectures to optimize performance.\n",
    "\n",
    "Key aspects include:\n",
    "\n",
    "- **Data Preprocessing**: Applying sensible preprocessing steps to prepare data for neural network training.\n",
    "- **Hyperparameter Tuning**: Experimenting with important parameters like the number of hidden layers, neurons per layer, learning rate, activation functions, optimizers, and dropout rates. The goal is to identify the best combination that minimizes the Mean Squared Error (MSE), a metric crucial for understanding prediction error in real-world terms.\n",
    "- **Model Evaluation**: Using cross-validation to assess model performance across different configurations and ensure robust evaluation.\n",
    "\n",
    "This project highlights the importance of hyperparameter optimization in achieving high-quality neural networks and demonstrates practical techniques for fine-tuning models to solve regression problems effectively.\n",
    "\n",
    "## Data Import"
   ]
  },
  {
   "cell_type": "code",
   "execution_count": 1,
   "metadata": {
    "colab": {
     "base_uri": "https://localhost:8080/"
    },
    "executionInfo": {
     "elapsed": 1932,
     "status": "ok",
     "timestamp": 1707244848854,
     "user": {
      "displayName": "Alina Kurliantseva",
      "userId": "04888364118114866068"
     },
     "user_tz": 420
    },
    "id": "DuK-rb0uwqw0",
    "outputId": "6d5ab07e-0ce7-4866-a6b3-5528985fa086",
    "tags": []
   },
   "outputs": [],
   "source": [
    "import pandas as pd\n",
    "\n",
    "df_train_X = pd.read_csv('../data/X_train_optimizing_neural_networks_for_regression_hyperparameter_tuning_and_model_training.csv')\n",
    "df_test_X = pd.read_csv('../data/X_test_optimizing_neural_networks_for_regression_hyperparameter_tuning_and_model_training.csv')\n",
    "df_train_y = pd.read_csv('../data/y_train_optimizing_neural_networks_for_regression_hyperparameter_tuning_and_model_training.csv')\n",
    "df_test_y = pd.read_csv('../data/y_test_optimizing_neural_networks_for_regression_hyperparameter_tuning_and_model_training.csv')"
   ]
  },
  {
   "cell_type": "code",
   "execution_count": 3,
   "metadata": {
    "colab": {
     "base_uri": "https://localhost:8080/",
     "height": 204
    },
    "executionInfo": {
     "elapsed": 500,
     "status": "ok",
     "timestamp": 1707244849223,
     "user": {
      "displayName": "Alina Kurliantseva",
      "userId": "04888364118114866068"
     },
     "user_tz": 420
    },
    "id": "0LaeTr_pyi9M",
    "outputId": "368bf5b4-f2f0-4a69-bbf4-85e2a3b4e25e",
    "tags": []
   },
   "outputs": [
    {
     "data": {
      "text/html": [
       "<div>\n",
       "<style scoped>\n",
       "    .dataframe tbody tr th:only-of-type {\n",
       "        vertical-align: middle;\n",
       "    }\n",
       "\n",
       "    .dataframe tbody tr th {\n",
       "        vertical-align: top;\n",
       "    }\n",
       "\n",
       "    .dataframe thead th {\n",
       "        text-align: right;\n",
       "    }\n",
       "</style>\n",
       "<table border=\"1\" class=\"dataframe\">\n",
       "  <thead>\n",
       "    <tr style=\"text-align: right;\">\n",
       "      <th></th>\n",
       "      <th>Unnamed: 0</th>\n",
       "      <th>0</th>\n",
       "      <th>1</th>\n",
       "      <th>2</th>\n",
       "      <th>3</th>\n",
       "      <th>4</th>\n",
       "      <th>5</th>\n",
       "      <th>6</th>\n",
       "      <th>7</th>\n",
       "      <th>8</th>\n",
       "      <th>9</th>\n",
       "      <th>10</th>\n",
       "      <th>11</th>\n",
       "      <th>12</th>\n",
       "    </tr>\n",
       "  </thead>\n",
       "  <tbody>\n",
       "    <tr>\n",
       "      <th>0</th>\n",
       "      <td>0</td>\n",
       "      <td>1.23247</td>\n",
       "      <td>0.0</td>\n",
       "      <td>8.14</td>\n",
       "      <td>0.0</td>\n",
       "      <td>0.538</td>\n",
       "      <td>6.142</td>\n",
       "      <td>91.7</td>\n",
       "      <td>3.9769</td>\n",
       "      <td>4.0</td>\n",
       "      <td>307.0</td>\n",
       "      <td>21.0</td>\n",
       "      <td>396.90</td>\n",
       "      <td>18.72</td>\n",
       "    </tr>\n",
       "    <tr>\n",
       "      <th>1</th>\n",
       "      <td>1</td>\n",
       "      <td>0.02177</td>\n",
       "      <td>82.5</td>\n",
       "      <td>2.03</td>\n",
       "      <td>0.0</td>\n",
       "      <td>0.415</td>\n",
       "      <td>7.610</td>\n",
       "      <td>15.7</td>\n",
       "      <td>6.2700</td>\n",
       "      <td>2.0</td>\n",
       "      <td>348.0</td>\n",
       "      <td>14.7</td>\n",
       "      <td>395.38</td>\n",
       "      <td>3.11</td>\n",
       "    </tr>\n",
       "    <tr>\n",
       "      <th>2</th>\n",
       "      <td>2</td>\n",
       "      <td>4.89822</td>\n",
       "      <td>0.0</td>\n",
       "      <td>18.10</td>\n",
       "      <td>0.0</td>\n",
       "      <td>0.631</td>\n",
       "      <td>4.970</td>\n",
       "      <td>100.0</td>\n",
       "      <td>1.3325</td>\n",
       "      <td>24.0</td>\n",
       "      <td>666.0</td>\n",
       "      <td>20.2</td>\n",
       "      <td>375.52</td>\n",
       "      <td>3.26</td>\n",
       "    </tr>\n",
       "    <tr>\n",
       "      <th>3</th>\n",
       "      <td>3</td>\n",
       "      <td>0.03961</td>\n",
       "      <td>0.0</td>\n",
       "      <td>5.19</td>\n",
       "      <td>0.0</td>\n",
       "      <td>0.515</td>\n",
       "      <td>6.037</td>\n",
       "      <td>34.5</td>\n",
       "      <td>5.9853</td>\n",
       "      <td>5.0</td>\n",
       "      <td>224.0</td>\n",
       "      <td>20.2</td>\n",
       "      <td>396.90</td>\n",
       "      <td>8.01</td>\n",
       "    </tr>\n",
       "    <tr>\n",
       "      <th>4</th>\n",
       "      <td>4</td>\n",
       "      <td>3.69311</td>\n",
       "      <td>0.0</td>\n",
       "      <td>18.10</td>\n",
       "      <td>0.0</td>\n",
       "      <td>0.713</td>\n",
       "      <td>6.376</td>\n",
       "      <td>88.4</td>\n",
       "      <td>2.5671</td>\n",
       "      <td>24.0</td>\n",
       "      <td>666.0</td>\n",
       "      <td>20.2</td>\n",
       "      <td>391.43</td>\n",
       "      <td>14.65</td>\n",
       "    </tr>\n",
       "  </tbody>\n",
       "</table>\n",
       "</div>"
      ],
      "text/plain": [
       "   Unnamed: 0        0     1      2    3      4      5      6       7     8  \\\n",
       "0           0  1.23247   0.0   8.14  0.0  0.538  6.142   91.7  3.9769   4.0   \n",
       "1           1  0.02177  82.5   2.03  0.0  0.415  7.610   15.7  6.2700   2.0   \n",
       "2           2  4.89822   0.0  18.10  0.0  0.631  4.970  100.0  1.3325  24.0   \n",
       "3           3  0.03961   0.0   5.19  0.0  0.515  6.037   34.5  5.9853   5.0   \n",
       "4           4  3.69311   0.0  18.10  0.0  0.713  6.376   88.4  2.5671  24.0   \n",
       "\n",
       "       9    10      11     12  \n",
       "0  307.0  21.0  396.90  18.72  \n",
       "1  348.0  14.7  395.38   3.11  \n",
       "2  666.0  20.2  375.52   3.26  \n",
       "3  224.0  20.2  396.90   8.01  \n",
       "4  666.0  20.2  391.43  14.65  "
      ]
     },
     "execution_count": 3,
     "metadata": {},
     "output_type": "execute_result"
    }
   ],
   "source": [
    "df_train_X.head()"
   ]
  },
  {
   "cell_type": "code",
   "execution_count": 5,
   "metadata": {
    "colab": {
     "base_uri": "https://localhost:8080/",
     "height": 204
    },
    "executionInfo": {
     "elapsed": 288,
     "status": "ok",
     "timestamp": 1707244849224,
     "user": {
      "displayName": "Alina Kurliantseva",
      "userId": "04888364118114866068"
     },
     "user_tz": 420
    },
    "id": "GH_ufa6fK5em",
    "outputId": "109e7595-3c6a-4f1c-b002-41c05e97b1be",
    "tags": []
   },
   "outputs": [
    {
     "data": {
      "text/html": [
       "<div>\n",
       "<style scoped>\n",
       "    .dataframe tbody tr th:only-of-type {\n",
       "        vertical-align: middle;\n",
       "    }\n",
       "\n",
       "    .dataframe tbody tr th {\n",
       "        vertical-align: top;\n",
       "    }\n",
       "\n",
       "    .dataframe thead th {\n",
       "        text-align: right;\n",
       "    }\n",
       "</style>\n",
       "<table border=\"1\" class=\"dataframe\">\n",
       "  <thead>\n",
       "    <tr style=\"text-align: right;\">\n",
       "      <th></th>\n",
       "      <th>Unnamed: 0</th>\n",
       "      <th>0</th>\n",
       "    </tr>\n",
       "  </thead>\n",
       "  <tbody>\n",
       "    <tr>\n",
       "      <th>0</th>\n",
       "      <td>0</td>\n",
       "      <td>15.2</td>\n",
       "    </tr>\n",
       "    <tr>\n",
       "      <th>1</th>\n",
       "      <td>1</td>\n",
       "      <td>42.3</td>\n",
       "    </tr>\n",
       "    <tr>\n",
       "      <th>2</th>\n",
       "      <td>2</td>\n",
       "      <td>50.0</td>\n",
       "    </tr>\n",
       "    <tr>\n",
       "      <th>3</th>\n",
       "      <td>3</td>\n",
       "      <td>21.1</td>\n",
       "    </tr>\n",
       "    <tr>\n",
       "      <th>4</th>\n",
       "      <td>4</td>\n",
       "      <td>17.7</td>\n",
       "    </tr>\n",
       "  </tbody>\n",
       "</table>\n",
       "</div>"
      ],
      "text/plain": [
       "   Unnamed: 0     0\n",
       "0           0  15.2\n",
       "1           1  42.3\n",
       "2           2  50.0\n",
       "3           3  21.1\n",
       "4           4  17.7"
      ]
     },
     "execution_count": 5,
     "metadata": {},
     "output_type": "execute_result"
    }
   ],
   "source": [
    "df_train_y.head()"
   ]
  },
  {
   "cell_type": "code",
   "execution_count": 7,
   "metadata": {
    "id": "wh7woPKUK5em",
    "tags": []
   },
   "outputs": [],
   "source": [
    "df_train_X = df_train_X.drop(df_train_X.columns[0], axis=1)\n",
    "df_test_X = df_test_X.drop(df_test_X.columns[0], axis=1)\n",
    "df_train_y = df_train_y.drop(df_train_y.columns[0], axis=1)\n",
    "df_test_y = df_test_y.drop(df_test_y.columns[0], axis=1)"
   ]
  },
  {
   "cell_type": "code",
   "execution_count": 9,
   "metadata": {
    "colab": {
     "base_uri": "https://localhost:8080/",
     "height": 204
    },
    "executionInfo": {
     "elapsed": 287,
     "status": "ok",
     "timestamp": 1707244849224,
     "user": {
      "displayName": "Alina Kurliantseva",
      "userId": "04888364118114866068"
     },
     "user_tz": 420
    },
    "id": "aZyDPluEK5em",
    "outputId": "6d879edd-64e2-4be9-dedf-2e41e5e91156",
    "tags": []
   },
   "outputs": [
    {
     "data": {
      "text/html": [
       "<div>\n",
       "<style scoped>\n",
       "    .dataframe tbody tr th:only-of-type {\n",
       "        vertical-align: middle;\n",
       "    }\n",
       "\n",
       "    .dataframe tbody tr th {\n",
       "        vertical-align: top;\n",
       "    }\n",
       "\n",
       "    .dataframe thead th {\n",
       "        text-align: right;\n",
       "    }\n",
       "</style>\n",
       "<table border=\"1\" class=\"dataframe\">\n",
       "  <thead>\n",
       "    <tr style=\"text-align: right;\">\n",
       "      <th></th>\n",
       "      <th>0</th>\n",
       "      <th>1</th>\n",
       "      <th>2</th>\n",
       "      <th>3</th>\n",
       "      <th>4</th>\n",
       "      <th>5</th>\n",
       "      <th>6</th>\n",
       "      <th>7</th>\n",
       "      <th>8</th>\n",
       "      <th>9</th>\n",
       "      <th>10</th>\n",
       "      <th>11</th>\n",
       "      <th>12</th>\n",
       "    </tr>\n",
       "  </thead>\n",
       "  <tbody>\n",
       "    <tr>\n",
       "      <th>0</th>\n",
       "      <td>1.23247</td>\n",
       "      <td>0.0</td>\n",
       "      <td>8.14</td>\n",
       "      <td>0.0</td>\n",
       "      <td>0.538</td>\n",
       "      <td>6.142</td>\n",
       "      <td>91.7</td>\n",
       "      <td>3.9769</td>\n",
       "      <td>4.0</td>\n",
       "      <td>307.0</td>\n",
       "      <td>21.0</td>\n",
       "      <td>396.90</td>\n",
       "      <td>18.72</td>\n",
       "    </tr>\n",
       "    <tr>\n",
       "      <th>1</th>\n",
       "      <td>0.02177</td>\n",
       "      <td>82.5</td>\n",
       "      <td>2.03</td>\n",
       "      <td>0.0</td>\n",
       "      <td>0.415</td>\n",
       "      <td>7.610</td>\n",
       "      <td>15.7</td>\n",
       "      <td>6.2700</td>\n",
       "      <td>2.0</td>\n",
       "      <td>348.0</td>\n",
       "      <td>14.7</td>\n",
       "      <td>395.38</td>\n",
       "      <td>3.11</td>\n",
       "    </tr>\n",
       "    <tr>\n",
       "      <th>2</th>\n",
       "      <td>4.89822</td>\n",
       "      <td>0.0</td>\n",
       "      <td>18.10</td>\n",
       "      <td>0.0</td>\n",
       "      <td>0.631</td>\n",
       "      <td>4.970</td>\n",
       "      <td>100.0</td>\n",
       "      <td>1.3325</td>\n",
       "      <td>24.0</td>\n",
       "      <td>666.0</td>\n",
       "      <td>20.2</td>\n",
       "      <td>375.52</td>\n",
       "      <td>3.26</td>\n",
       "    </tr>\n",
       "    <tr>\n",
       "      <th>3</th>\n",
       "      <td>0.03961</td>\n",
       "      <td>0.0</td>\n",
       "      <td>5.19</td>\n",
       "      <td>0.0</td>\n",
       "      <td>0.515</td>\n",
       "      <td>6.037</td>\n",
       "      <td>34.5</td>\n",
       "      <td>5.9853</td>\n",
       "      <td>5.0</td>\n",
       "      <td>224.0</td>\n",
       "      <td>20.2</td>\n",
       "      <td>396.90</td>\n",
       "      <td>8.01</td>\n",
       "    </tr>\n",
       "    <tr>\n",
       "      <th>4</th>\n",
       "      <td>3.69311</td>\n",
       "      <td>0.0</td>\n",
       "      <td>18.10</td>\n",
       "      <td>0.0</td>\n",
       "      <td>0.713</td>\n",
       "      <td>6.376</td>\n",
       "      <td>88.4</td>\n",
       "      <td>2.5671</td>\n",
       "      <td>24.0</td>\n",
       "      <td>666.0</td>\n",
       "      <td>20.2</td>\n",
       "      <td>391.43</td>\n",
       "      <td>14.65</td>\n",
       "    </tr>\n",
       "  </tbody>\n",
       "</table>\n",
       "</div>"
      ],
      "text/plain": [
       "         0     1      2    3      4      5      6       7     8      9    10  \\\n",
       "0  1.23247   0.0   8.14  0.0  0.538  6.142   91.7  3.9769   4.0  307.0  21.0   \n",
       "1  0.02177  82.5   2.03  0.0  0.415  7.610   15.7  6.2700   2.0  348.0  14.7   \n",
       "2  4.89822   0.0  18.10  0.0  0.631  4.970  100.0  1.3325  24.0  666.0  20.2   \n",
       "3  0.03961   0.0   5.19  0.0  0.515  6.037   34.5  5.9853   5.0  224.0  20.2   \n",
       "4  3.69311   0.0  18.10  0.0  0.713  6.376   88.4  2.5671  24.0  666.0  20.2   \n",
       "\n",
       "       11     12  \n",
       "0  396.90  18.72  \n",
       "1  395.38   3.11  \n",
       "2  375.52   3.26  \n",
       "3  396.90   8.01  \n",
       "4  391.43  14.65  "
      ]
     },
     "execution_count": 9,
     "metadata": {},
     "output_type": "execute_result"
    }
   ],
   "source": [
    "df_train_X.head()"
   ]
  },
  {
   "cell_type": "code",
   "execution_count": null,
   "metadata": {
    "colab": {
     "base_uri": "https://localhost:8080/",
     "height": 204
    },
    "executionInfo": {
     "elapsed": 286,
     "status": "ok",
     "timestamp": 1707244849224,
     "user": {
      "displayName": "Alina Kurliantseva",
      "userId": "04888364118114866068"
     },
     "user_tz": 420
    },
    "id": "PbidjxL0K5en",
    "outputId": "ead88bed-8b59-4798-c546-56f4d7073159",
    "tags": []
   },
   "outputs": [
    {
     "data": {
      "text/html": [
       "\n",
       "  <div id=\"df-30fb4040-ced1-44e8-b2a7-25928c359163\" class=\"colab-df-container\">\n",
       "    <div>\n",
       "<style scoped>\n",
       "    .dataframe tbody tr th:only-of-type {\n",
       "        vertical-align: middle;\n",
       "    }\n",
       "\n",
       "    .dataframe tbody tr th {\n",
       "        vertical-align: top;\n",
       "    }\n",
       "\n",
       "    .dataframe thead th {\n",
       "        text-align: right;\n",
       "    }\n",
       "</style>\n",
       "<table border=\"1\" class=\"dataframe\">\n",
       "  <thead>\n",
       "    <tr style=\"text-align: right;\">\n",
       "      <th></th>\n",
       "      <th>0</th>\n",
       "    </tr>\n",
       "  </thead>\n",
       "  <tbody>\n",
       "    <tr>\n",
       "      <th>0</th>\n",
       "      <td>15.2</td>\n",
       "    </tr>\n",
       "    <tr>\n",
       "      <th>1</th>\n",
       "      <td>42.3</td>\n",
       "    </tr>\n",
       "    <tr>\n",
       "      <th>2</th>\n",
       "      <td>50.0</td>\n",
       "    </tr>\n",
       "    <tr>\n",
       "      <th>3</th>\n",
       "      <td>21.1</td>\n",
       "    </tr>\n",
       "    <tr>\n",
       "      <th>4</th>\n",
       "      <td>17.7</td>\n",
       "    </tr>\n",
       "  </tbody>\n",
       "</table>\n",
       "</div>\n",
       "    <div class=\"colab-df-buttons\">\n",
       "\n",
       "  <div class=\"colab-df-container\">\n",
       "    <button class=\"colab-df-convert\" onclick=\"convertToInteractive('df-30fb4040-ced1-44e8-b2a7-25928c359163')\"\n",
       "            title=\"Convert this dataframe to an interactive table.\"\n",
       "            style=\"display:none;\">\n",
       "\n",
       "  <svg xmlns=\"http://www.w3.org/2000/svg\" height=\"24px\" viewBox=\"0 -960 960 960\">\n",
       "    <path d=\"M120-120v-720h720v720H120Zm60-500h600v-160H180v160Zm220 220h160v-160H400v160Zm0 220h160v-160H400v160ZM180-400h160v-160H180v160Zm440 0h160v-160H620v160ZM180-180h160v-160H180v160Zm440 0h160v-160H620v160Z\"/>\n",
       "  </svg>\n",
       "    </button>\n",
       "\n",
       "  <style>\n",
       "    .colab-df-container {\n",
       "      display:flex;\n",
       "      gap: 12px;\n",
       "    }\n",
       "\n",
       "    .colab-df-convert {\n",
       "      background-color: #E8F0FE;\n",
       "      border: none;\n",
       "      border-radius: 50%;\n",
       "      cursor: pointer;\n",
       "      display: none;\n",
       "      fill: #1967D2;\n",
       "      height: 32px;\n",
       "      padding: 0 0 0 0;\n",
       "      width: 32px;\n",
       "    }\n",
       "\n",
       "    .colab-df-convert:hover {\n",
       "      background-color: #E2EBFA;\n",
       "      box-shadow: 0px 1px 2px rgba(60, 64, 67, 0.3), 0px 1px 3px 1px rgba(60, 64, 67, 0.15);\n",
       "      fill: #174EA6;\n",
       "    }\n",
       "\n",
       "    .colab-df-buttons div {\n",
       "      margin-bottom: 4px;\n",
       "    }\n",
       "\n",
       "    [theme=dark] .colab-df-convert {\n",
       "      background-color: #3B4455;\n",
       "      fill: #D2E3FC;\n",
       "    }\n",
       "\n",
       "    [theme=dark] .colab-df-convert:hover {\n",
       "      background-color: #434B5C;\n",
       "      box-shadow: 0px 1px 3px 1px rgba(0, 0, 0, 0.15);\n",
       "      filter: drop-shadow(0px 1px 2px rgba(0, 0, 0, 0.3));\n",
       "      fill: #FFFFFF;\n",
       "    }\n",
       "  </style>\n",
       "\n",
       "    <script>\n",
       "      const buttonEl =\n",
       "        document.querySelector('#df-30fb4040-ced1-44e8-b2a7-25928c359163 button.colab-df-convert');\n",
       "      buttonEl.style.display =\n",
       "        google.colab.kernel.accessAllowed ? 'block' : 'none';\n",
       "\n",
       "      async function convertToInteractive(key) {\n",
       "        const element = document.querySelector('#df-30fb4040-ced1-44e8-b2a7-25928c359163');\n",
       "        const dataTable =\n",
       "          await google.colab.kernel.invokeFunction('convertToInteractive',\n",
       "                                                    [key], {});\n",
       "        if (!dataTable) return;\n",
       "\n",
       "        const docLinkHtml = 'Like what you see? Visit the ' +\n",
       "          '<a target=\"_blank\" href=https://colab.research.google.com/notebooks/data_table.ipynb>data table notebook</a>'\n",
       "          + ' to learn more about interactive tables.';\n",
       "        element.innerHTML = '';\n",
       "        dataTable['output_type'] = 'display_data';\n",
       "        await google.colab.output.renderOutput(dataTable, element);\n",
       "        const docLink = document.createElement('div');\n",
       "        docLink.innerHTML = docLinkHtml;\n",
       "        element.appendChild(docLink);\n",
       "      }\n",
       "    </script>\n",
       "  </div>\n",
       "\n",
       "\n",
       "<div id=\"df-56cafa24-e6f8-43e2-9c79-5fb1e029c7b0\">\n",
       "  <button class=\"colab-df-quickchart\" onclick=\"quickchart('df-56cafa24-e6f8-43e2-9c79-5fb1e029c7b0')\"\n",
       "            title=\"Suggest charts\"\n",
       "            style=\"display:none;\">\n",
       "\n",
       "<svg xmlns=\"http://www.w3.org/2000/svg\" height=\"24px\"viewBox=\"0 0 24 24\"\n",
       "     width=\"24px\">\n",
       "    <g>\n",
       "        <path d=\"M19 3H5c-1.1 0-2 .9-2 2v14c0 1.1.9 2 2 2h14c1.1 0 2-.9 2-2V5c0-1.1-.9-2-2-2zM9 17H7v-7h2v7zm4 0h-2V7h2v10zm4 0h-2v-4h2v4z\"/>\n",
       "    </g>\n",
       "</svg>\n",
       "  </button>\n",
       "\n",
       "<style>\n",
       "  .colab-df-quickchart {\n",
       "      --bg-color: #E8F0FE;\n",
       "      --fill-color: #1967D2;\n",
       "      --hover-bg-color: #E2EBFA;\n",
       "      --hover-fill-color: #174EA6;\n",
       "      --disabled-fill-color: #AAA;\n",
       "      --disabled-bg-color: #DDD;\n",
       "  }\n",
       "\n",
       "  [theme=dark] .colab-df-quickchart {\n",
       "      --bg-color: #3B4455;\n",
       "      --fill-color: #D2E3FC;\n",
       "      --hover-bg-color: #434B5C;\n",
       "      --hover-fill-color: #FFFFFF;\n",
       "      --disabled-bg-color: #3B4455;\n",
       "      --disabled-fill-color: #666;\n",
       "  }\n",
       "\n",
       "  .colab-df-quickchart {\n",
       "    background-color: var(--bg-color);\n",
       "    border: none;\n",
       "    border-radius: 50%;\n",
       "    cursor: pointer;\n",
       "    display: none;\n",
       "    fill: var(--fill-color);\n",
       "    height: 32px;\n",
       "    padding: 0;\n",
       "    width: 32px;\n",
       "  }\n",
       "\n",
       "  .colab-df-quickchart:hover {\n",
       "    background-color: var(--hover-bg-color);\n",
       "    box-shadow: 0 1px 2px rgba(60, 64, 67, 0.3), 0 1px 3px 1px rgba(60, 64, 67, 0.15);\n",
       "    fill: var(--button-hover-fill-color);\n",
       "  }\n",
       "\n",
       "  .colab-df-quickchart-complete:disabled,\n",
       "  .colab-df-quickchart-complete:disabled:hover {\n",
       "    background-color: var(--disabled-bg-color);\n",
       "    fill: var(--disabled-fill-color);\n",
       "    box-shadow: none;\n",
       "  }\n",
       "\n",
       "  .colab-df-spinner {\n",
       "    border: 2px solid var(--fill-color);\n",
       "    border-color: transparent;\n",
       "    border-bottom-color: var(--fill-color);\n",
       "    animation:\n",
       "      spin 1s steps(1) infinite;\n",
       "  }\n",
       "\n",
       "  @keyframes spin {\n",
       "    0% {\n",
       "      border-color: transparent;\n",
       "      border-bottom-color: var(--fill-color);\n",
       "      border-left-color: var(--fill-color);\n",
       "    }\n",
       "    20% {\n",
       "      border-color: transparent;\n",
       "      border-left-color: var(--fill-color);\n",
       "      border-top-color: var(--fill-color);\n",
       "    }\n",
       "    30% {\n",
       "      border-color: transparent;\n",
       "      border-left-color: var(--fill-color);\n",
       "      border-top-color: var(--fill-color);\n",
       "      border-right-color: var(--fill-color);\n",
       "    }\n",
       "    40% {\n",
       "      border-color: transparent;\n",
       "      border-right-color: var(--fill-color);\n",
       "      border-top-color: var(--fill-color);\n",
       "    }\n",
       "    60% {\n",
       "      border-color: transparent;\n",
       "      border-right-color: var(--fill-color);\n",
       "    }\n",
       "    80% {\n",
       "      border-color: transparent;\n",
       "      border-right-color: var(--fill-color);\n",
       "      border-bottom-color: var(--fill-color);\n",
       "    }\n",
       "    90% {\n",
       "      border-color: transparent;\n",
       "      border-bottom-color: var(--fill-color);\n",
       "    }\n",
       "  }\n",
       "</style>\n",
       "\n",
       "  <script>\n",
       "    async function quickchart(key) {\n",
       "      const quickchartButtonEl =\n",
       "        document.querySelector('#' + key + ' button');\n",
       "      quickchartButtonEl.disabled = true;  // To prevent multiple clicks.\n",
       "      quickchartButtonEl.classList.add('colab-df-spinner');\n",
       "      try {\n",
       "        const charts = await google.colab.kernel.invokeFunction(\n",
       "            'suggestCharts', [key], {});\n",
       "      } catch (error) {\n",
       "        console.error('Error during call to suggestCharts:', error);\n",
       "      }\n",
       "      quickchartButtonEl.classList.remove('colab-df-spinner');\n",
       "      quickchartButtonEl.classList.add('colab-df-quickchart-complete');\n",
       "    }\n",
       "    (() => {\n",
       "      let quickchartButtonEl =\n",
       "        document.querySelector('#df-56cafa24-e6f8-43e2-9c79-5fb1e029c7b0 button');\n",
       "      quickchartButtonEl.style.display =\n",
       "        google.colab.kernel.accessAllowed ? 'block' : 'none';\n",
       "    })();\n",
       "  </script>\n",
       "</div>\n",
       "\n",
       "    </div>\n",
       "  </div>\n"
      ],
      "text/plain": [
       "      0\n",
       "0  15.2\n",
       "1  42.3\n",
       "2  50.0\n",
       "3  21.1\n",
       "4  17.7"
      ]
     },
     "execution_count": 6,
     "metadata": {},
     "output_type": "execute_result"
    }
   ],
   "source": [
    "df_train_y.head()"
   ]
  },
  {
   "cell_type": "code",
   "execution_count": null,
   "metadata": {
    "colab": {
     "base_uri": "https://localhost:8080/"
    },
    "executionInfo": {
     "elapsed": 286,
     "status": "ok",
     "timestamp": 1707244849224,
     "user": {
      "displayName": "Alina Kurliantseva",
      "userId": "04888364118114866068"
     },
     "user_tz": 420
    },
    "id": "FIbQyYjhK5en",
    "outputId": "ecc9480b-194c-4adb-c638-d4f9c086acf0",
    "tags": []
   },
   "outputs": [
    {
     "name": "stdout",
     "output_type": "stream",
     "text": [
      "(404, 13)\n",
      "(102, 13)\n",
      "(404,)\n",
      "(102,)\n"
     ]
    }
   ],
   "source": [
    "X_train = df_train_X.values\n",
    "print(X_train.shape)\n",
    "X_test = df_test_X.values\n",
    "print(X_test.shape)\n",
    "y_train = df_train_y.values.reshape(-1)\n",
    "print(y_train.shape)\n",
    "y_test = df_test_y.values.reshape(-1)\n",
    "print(y_test.shape)"
   ]
  },
  {
   "cell_type": "markdown",
   "metadata": {
    "id": "z82OOouVaVrt"
   },
   "source": [
    "## Impact of Changing Model Architecture\n",
    "\n",
    "### Baseline model"
   ]
  },
  {
   "cell_type": "code",
   "execution_count": null,
   "metadata": {
    "id": "hZephhhmK5en"
   },
   "outputs": [],
   "source": [
    "# Preprocess the Data:\n",
    "\n",
    "# Before training the model, it's crucial to standardize the features.\n",
    "# Standardization involves subtracting the mean and dividing by the standard deviation for each feature in the training data.\n",
    "# This can also be applied to the test data using the parameters (mean and standard deviation) from the training data.\n",
    "\n",
    "from sklearn.preprocessing import StandardScaler\n",
    "\n",
    "scaler = StandardScaler()\n",
    "X_train_scaled = scaler.fit_transform(X_train)\n",
    "X_test_scaled = scaler.transform(X_test)"
   ]
  },
  {
   "cell_type": "code",
   "execution_count": null,
   "metadata": {
    "id": "Py1H3PIiuV2n"
   },
   "outputs": [],
   "source": [
    "# Define the Baseline Model:\n",
    "\n",
    "# The baseline model will have a single fully-connected hidden layer with the same number of neurons as input features (13 in this case),\n",
    "# and no activation function for the output layer since it's a regression problem.\n",
    "\n",
    "from keras.models import Sequential\n",
    "from keras.layers import Dense\n",
    "\n",
    "def baseline_model(input_dim):\n",
    "    # Define the model\n",
    "    model = Sequential()\n",
    "    model.add(Dense(13, input_dim=input_dim, activation='relu'))  # Hidden layer with 13 neurons\n",
    "    model.add(Dense(1))  # Output layer without activation function\n",
    "\n",
    "    return model"
   ]
  },
  {
   "cell_type": "code",
   "execution_count": null,
   "metadata": {
    "id": "beF0PGIZuyag"
   },
   "outputs": [],
   "source": [
    "# Compile the Model:\n",
    "\n",
    "# Let's compile the model using the ADAM optimizer and mean squared error as the loss function,\n",
    "# which is appropriate for regression problems.\n",
    "\n",
    "model = baseline_model(input_dim=X_train_scaled.shape[1])\n",
    "model.compile(optimizer='adam', loss='mean_squared_error')"
   ]
  },
  {
   "cell_type": "code",
   "execution_count": null,
   "metadata": {
    "id": "6gS-W24zvHwq"
   },
   "outputs": [],
   "source": [
    "# Train the Model:\n",
    "\n",
    "# Let's train the model on the standardized training data, including both training and validation performance monitoring.\n",
    "\n",
    "history = model.fit(X_train_scaled, y_train, validation_split=0.2, epochs=150, batch_size=10, verbose=0)"
   ]
  },
  {
   "cell_type": "code",
   "execution_count": null,
   "metadata": {
    "colab": {
     "base_uri": "https://localhost:8080/",
     "height": 472
    },
    "executionInfo": {
     "elapsed": 606,
     "status": "ok",
     "timestamp": 1707245209998,
     "user": {
      "displayName": "Alina Kurliantseva",
      "userId": "04888364118114866068"
     },
     "user_tz": 420
    },
    "id": "4Tj3s8Ekvf_l",
    "outputId": "7957494f-37f2-4fe5-a233-054d125f83e1"
   },
   "outputs": [
    {
     "data": {
      "image/png": "[encoded data removed]",
      "text/plain": [
       "<Figure size 640x480 with 1 Axes>"
      ]
     },
     "metadata": {},
     "output_type": "display_data"
    }
   ],
   "source": [
    "# Plot Learning Curves:\n",
    "\n",
    "# Plotting learning curves involves plotting the training and validation loss over epochs to understand how well the model is learning.\n",
    "\n",
    "import matplotlib.pyplot as plt\n",
    "\n",
    "# Plotting learning curves\n",
    "plt.plot(history.history['loss'], label='train')\n",
    "plt.plot(history.history['val_loss'], label='validation')\n",
    "plt.title('Learning Curves')\n",
    "plt.ylabel('Loss')\n",
    "plt.xlabel('Epochs')\n",
    "plt.legend()\n",
    "plt.show()"
   ]
  },
  {
   "cell_type": "code",
   "execution_count": null,
   "metadata": {
    "colab": {
     "base_uri": "https://localhost:8080/"
    },
    "executionInfo": {
     "elapsed": 168,
     "status": "ok",
     "timestamp": 1707245363340,
     "user": {
      "displayName": "Alina Kurliantseva",
      "userId": "04888364118114866068"
     },
     "user_tz": 420
    },
    "id": "P6CLTvx-vqUi",
    "outputId": "3e325944-4b24-47aa-c247-0d6acab1edd7"
   },
   "outputs": [
    {
     "name": "stdout",
     "output_type": "stream",
     "text": [
      "Test loss (MSE): 23.082576751708984\n"
     ]
    }
   ],
   "source": [
    "# Evaluate the Model:\n",
    "\n",
    "# Finally, let's evaluate the model's performance on the test set, which has been scaled as well.\n",
    "\n",
    "test_loss = model.evaluate(X_test_scaled, y_test, verbose=0)\n",
    "print(f'Test loss (MSE): {test_loss}')"
   ]
  },
  {
   "cell_type": "markdown",
   "metadata": {
    "id": "2JimscX-Zb7T"
   },
   "source": [
    "### Deeper Network"
   ]
  },
  {
   "cell_type": "code",
   "execution_count": null,
   "metadata": {
    "id": "WLMXgtWywU5f"
   },
   "outputs": [],
   "source": [
    "# Define the Deeper Model:\n",
    "\n",
    "# For the deeper network, we'll create a model with two hidden layers.\n",
    "# The first layer will have 16 neurons, and the second layer will have 8 neurons.\n",
    "# This structure is chosen to gradually reduce the dimensionality, potentially capturing more complex relationships in the data.\n",
    "\n",
    "def deeper_model(input_dim):\n",
    "    # Define the model\n",
    "    model = Sequential()\n",
    "    model.add(Dense(16, input_dim=input_dim, activation='relu'))  # First hidden layer with 16 neurons\n",
    "    model.add(Dense(8, activation='relu'))  # Second hidden layer with 8 neurons\n",
    "    model.add(Dense(1))  # Output layer without activation function for regression\n",
    "\n",
    "    return model"
   ]
  },
  {
   "cell_type": "code",
   "execution_count": null,
   "metadata": {
    "id": "ToTxpwZjyYgt"
   },
   "outputs": [],
   "source": [
    "# Compile the Model:\n",
    "\n",
    "# Let's compile this deeper model using the same optimizer (ADAM) and loss function (mean squared error) as the baseline model.\n",
    "\n",
    "deeper_model = deeper_model(input_dim=X_train_scaled.shape[1])\n",
    "deeper_model.compile(optimizer='adam', loss='mean_squared_error')"
   ]
  },
  {
   "cell_type": "code",
   "execution_count": null,
   "metadata": {
    "id": "h6KcSNNayjtY"
   },
   "outputs": [],
   "source": [
    "# Train the Model:\n",
    "\n",
    "# Let's train the deeper model on the standardized training data.\n",
    "\n",
    "history_deeper = deeper_model.fit(X_train_scaled, y_train, validation_split=0.2, epochs=150, batch_size=10, verbose=0)"
   ]
  },
  {
   "cell_type": "code",
   "execution_count": null,
   "metadata": {
    "colab": {
     "base_uri": "https://localhost:8080/",
     "height": 472
    },
    "executionInfo": {
     "elapsed": 602,
     "status": "ok",
     "timestamp": 1707246140641,
     "user": {
      "displayName": "Alina Kurliantseva",
      "userId": "04888364118114866068"
     },
     "user_tz": 420
    },
    "id": "u6U1I8Opyzvr",
    "outputId": "e7f226f5-7f17-4047-8d83-385a457793b7"
   },
   "outputs": [
    {
     "data": {
      "image/png": "[encoded data removed]",
      "text/plain": [
       "<Figure size 640x480 with 1 Axes>"
      ]
     },
     "metadata": {},
     "output_type": "display_data"
    }
   ],
   "source": [
    "# Plot Learning Curves:\n",
    "\n",
    "# Let's plot the learning curves for the deeper model to visualize the training and validation loss over epochs.\n",
    "\n",
    "# Plotting learning curves for the deeper model\n",
    "plt.plot(history_deeper.history['loss'], label='train')\n",
    "plt.plot(history_deeper.history['val_loss'], label='validation')\n",
    "plt.title('Learning Curves for the Deeper Model')\n",
    "plt.ylabel('Loss')\n",
    "plt.xlabel('Epochs')\n",
    "plt.legend()\n",
    "plt.show()"
   ]
  },
  {
   "cell_type": "code",
   "execution_count": null,
   "metadata": {
    "colab": {
     "base_uri": "https://localhost:8080/"
    },
    "executionInfo": {
     "elapsed": 453,
     "status": "ok",
     "timestamp": 1707246210351,
     "user": {
      "displayName": "Alina Kurliantseva",
      "userId": "04888364118114866068"
     },
     "user_tz": 420
    },
    "id": "orUq-A7lzNGo",
    "outputId": "32bc1c56-5513-4c90-beab-f6174fe43d77"
   },
   "outputs": [
    {
     "name": "stdout",
     "output_type": "stream",
     "text": [
      "Test loss (MSE) for the deeper model: 22.59113121032715\n"
     ]
    }
   ],
   "source": [
    "# Evaluate the Model:\n",
    "\n",
    "# This deeper model introduces additional complexity and has the potential to capture more nuanced patterns in the data\n",
    "# compared to the single-layer baseline model.\n",
    "# Let's evaluate the deeper model's performance on the test set to compare it with the baseline model.\n",
    "\n",
    "test_loss_deeper = deeper_model.evaluate(X_test_scaled, y_test, verbose=0)\n",
    "print(f'Test loss (MSE) for the deeper model: {test_loss_deeper}')"
   ]
  },
  {
   "cell_type": "markdown",
   "metadata": {
    "id": "2f0v_F7DZoAx"
   },
   "source": [
    "### Wider Network"
   ]
  },
  {
   "cell_type": "code",
   "execution_count": null,
   "metadata": {
    "id": "GLmWy1gC0MG7"
   },
   "outputs": [],
   "source": [
    "# Define the Wider Model:\n",
    "\n",
    "# For the wider model, we'll increase the number of neurons in the two hidden layers to 32 and 16, respectively.\n",
    "# This aims to provide the model with more capacity to learn complex patterns in the data.\n",
    "\n",
    "def wider_model(input_dim):\n",
    "    model = Sequential()\n",
    "    model.add(Dense(32, input_dim=input_dim, activation='relu'))  # First hidden layer with 32 neurons\n",
    "    model.add(Dense(16, activation='relu'))  # Second hidden layer with 16 neurons\n",
    "    model.add(Dense(1))  # Output layer for regression, without an activation function\n",
    "\n",
    "    return model"
   ]
  },
  {
   "cell_type": "code",
   "execution_count": null,
   "metadata": {
    "id": "vDDwsunn1bKR"
   },
   "outputs": [],
   "source": [
    "# Compile the Model:\n",
    "\n",
    "# Let's compile this wider model using ADAM as the optimizer and mean squared error as the loss function.\n",
    "# This setup is consistent with the other models for a fair comparison.\n",
    "\n",
    "model = wider_model(input_dim=X_train_scaled.shape[1])\n",
    "model.compile(optimizer='adam', loss='mean_squared_error')"
   ]
  },
  {
   "cell_type": "code",
   "execution_count": null,
   "metadata": {
    "colab": {
     "base_uri": "https://localhost:8080/"
    },
    "executionInfo": {
     "elapsed": 22216,
     "status": "ok",
     "timestamp": 1707246915543,
     "user": {
      "displayName": "Alina Kurliantseva",
      "userId": "04888364118114866068"
     },
     "user_tz": 420
    },
    "id": "4lNDUCCP1vAF",
    "outputId": "1b3eb907-5f21-4321-af59-abb19f3f5493"
   },
   "outputs": [
    {
     "name": "stdout",
     "output_type": "stream",
     "text": [
      "Epoch 1/150\n",
      "33/33 [==============================] - 1s 8ms/step - loss: 502.8779 - val_loss: 523.8501\n",
      "Epoch 2/150\n",
      "33/33 [==============================] - 0s 4ms/step - loss: 427.5709 - val_loss: 427.6729\n",
      "Epoch 3/150\n",
      "33/33 [==============================] - 0s 3ms/step - loss: 326.0830 - val_loss: 297.7415\n",
      "Epoch 4/150\n",
      "33/33 [==============================] - 0s 4ms/step - loss: 205.4238 - val_loss: 171.2523\n",
      "Epoch 5/150\n",
      "33/33 [==============================] - 0s 4ms/step - loss: 115.1757 - val_loss: 96.3821\n",
      "Epoch 6/150\n",
      "33/33 [==============================] - 0s 3ms/step - loss: 73.7584 - val_loss: 68.8101\n",
      "Epoch 7/150\n",
      "33/33 [==============================] - 0s 4ms/step - loss: 54.5112 - val_loss: 50.9162\n",
      "Epoch 8/150\n",
      "33/33 [==============================] - 0s 4ms/step - loss: 41.5942 - val_loss: 38.6311\n",
      "Epoch 9/150\n",
      "33/33 [==============================] - 0s 3ms/step - loss: 33.2750 - val_loss: 32.1930\n",
      "Epoch 10/150\n",
      "33/33 [==============================] - 0s 4ms/step - loss: 28.7264 - val_loss: 28.1123\n",
      "Epoch 11/150\n",
      "33/33 [==============================] - 0s 3ms/step - loss: 25.6777 - val_loss: 25.6962\n",
      "Epoch 12/150\n",
      "33/33 [==============================] - 0s 4ms/step - loss: 23.6805 - val_loss: 24.4477\n",
      "Epoch 13/150\n",
      "33/33 [==============================] - 0s 3ms/step - loss: 22.2923 - val_loss: 23.0925\n",
      "Epoch 14/150\n",
      "33/33 [==============================] - 0s 3ms/step - loss: 21.1369 - val_loss: 21.9209\n",
      "Epoch 15/150\n",
      "33/33 [==============================] - 0s 3ms/step - loss: 20.1697 - val_loss: 21.1807\n",
      "Epoch 16/150\n",
      "33/33 [==============================] - 0s 6ms/step - loss: 19.3863 - val_loss: 20.5253\n",
      "Epoch 17/150\n",
      "33/33 [==============================] - 0s 4ms/step - loss: 18.5948 - val_loss: 19.8045\n",
      "Epoch 18/150\n",
      "33/33 [==============================] - 0s 5ms/step - loss: 17.9453 - val_loss: 19.4315\n",
      "Epoch 19/150\n",
      "33/33 [==============================] - 0s 6ms/step - loss: 17.3831 - val_loss: 18.8492\n",
      "Epoch 20/150\n",
      "33/33 [==============================] - 0s 5ms/step - loss: 16.7736 - val_loss: 18.2660\n",
      "Epoch 21/150\n",
      "33/33 [==============================] - 0s 6ms/step - loss: 16.3696 - val_loss: 18.1825\n",
      "Epoch 22/150\n",
      "33/33 [==============================] - 0s 6ms/step - loss: 15.6811 - val_loss: 17.4220\n",
      "Epoch 23/150\n",
      "33/33 [==============================] - 0s 5ms/step - loss: 15.2372 - val_loss: 17.1346\n",
      "Epoch 24/150\n",
      "33/33 [==============================] - 0s 7ms/step - loss: 14.7797 - val_loss: 16.6208\n",
      "Epoch 25/150\n",
      "33/33 [==============================] - 0s 5ms/step - loss: 14.5676 - val_loss: 16.6145\n",
      "Epoch 26/150\n",
      "33/33 [==============================] - 0s 4ms/step - loss: 13.9541 - val_loss: 16.0763\n",
      "Epoch 27/150\n",
      "33/33 [==============================] - 0s 5ms/step - loss: 13.4402 - val_loss: 15.7925\n",
      "Epoch 28/150\n",
      "33/33 [==============================] - 0s 5ms/step - loss: 13.1830 - val_loss: 15.8895\n",
      "Epoch 29/150\n",
      "33/33 [==============================] - 0s 5ms/step - loss: 12.8850 - val_loss: 15.4128\n",
      "Epoch 30/150\n",
      "33/33 [==============================] - 0s 7ms/step - loss: 12.5732 - val_loss: 15.6904\n",
      "Epoch 31/150\n",
      "33/33 [==============================] - 0s 5ms/step - loss: 12.1588 - val_loss: 15.1999\n",
      "Epoch 32/150\n",
      "33/33 [==============================] - 0s 6ms/step - loss: 12.0502 - val_loss: 14.7650\n",
      "Epoch 33/150\n",
      "33/33 [==============================] - 0s 5ms/step - loss: 11.5751 - val_loss: 15.4150\n",
      "Epoch 34/150\n",
      "33/33 [==============================] - 0s 6ms/step - loss: 11.4897 - val_loss: 15.0283\n",
      "Epoch 35/150\n",
      "33/33 [==============================] - 0s 5ms/step - loss: 11.1820 - val_loss: 14.6791\n",
      "Epoch 36/150\n",
      "33/33 [==============================] - 0s 3ms/step - loss: 11.0154 - val_loss: 14.4633\n",
      "Epoch 37/150\n",
      "33/33 [==============================] - 0s 4ms/step - loss: 11.1190 - val_loss: 14.2613\n",
      "Epoch 38/150\n",
      "33/33 [==============================] - 0s 3ms/step - loss: 10.6192 - val_loss: 14.0742\n",
      "Epoch 39/150\n",
      "33/33 [==============================] - 0s 3ms/step - loss: 10.4727 - val_loss: 14.0617\n",
      "Epoch 40/150\n",
      "33/33 [==============================] - 0s 3ms/step - loss: 10.3813 - val_loss: 13.9333\n",
      "Epoch 41/150\n",
      "33/33 [==============================] - 0s 3ms/step - loss: 10.3217 - val_loss: 13.8747\n",
      "Epoch 42/150\n",
      "33/33 [==============================] - 0s 3ms/step - loss: 10.0633 - val_loss: 13.8450\n",
      "Epoch 43/150\n",
      "33/33 [==============================] - 0s 3ms/step - loss: 10.1113 - val_loss: 13.9622\n",
      "Epoch 44/150\n",
      "33/33 [==============================] - 0s 3ms/step - loss: 10.1164 - val_loss: 14.2694\n",
      "Epoch 45/150\n",
      "33/33 [==============================] - 0s 3ms/step - loss: 9.7213 - val_loss: 13.9322\n",
      "Epoch 46/150\n",
      "33/33 [==============================] - 0s 3ms/step - loss: 9.5805 - val_loss: 13.9878\n",
      "Epoch 47/150\n",
      "33/33 [==============================] - 0s 4ms/step - loss: 9.5633 - val_loss: 13.7495\n",
      "Epoch 48/150\n",
      "33/33 [==============================] - 0s 3ms/step - loss: 9.4068 - val_loss: 13.6259\n",
      "Epoch 49/150\n",
      "33/33 [==============================] - 0s 3ms/step - loss: 9.3761 - val_loss: 13.6176\n",
      "Epoch 50/150\n",
      "33/33 [==============================] - 0s 3ms/step - loss: 9.2699 - val_loss: 13.6815\n",
      "Epoch 51/150\n",
      "33/33 [==============================] - 0s 3ms/step - loss: 9.2878 - val_loss: 14.0887\n",
      "Epoch 52/150\n",
      "33/33 [==============================] - 0s 3ms/step - loss: 9.1959 - val_loss: 13.7131\n",
      "Epoch 53/150\n",
      "33/33 [==============================] - 0s 4ms/step - loss: 9.1205 - val_loss: 13.6315\n",
      "Epoch 54/150\n",
      "33/33 [==============================] - 0s 4ms/step - loss: 9.0504 - val_loss: 13.4055\n",
      "Epoch 55/150\n",
      "33/33 [==============================] - 0s 3ms/step - loss: 9.0804 - val_loss: 14.0067\n",
      "Epoch 56/150\n",
      "33/33 [==============================] - 0s 3ms/step - loss: 8.9559 - val_loss: 13.6291\n",
      "Epoch 57/150\n",
      "33/33 [==============================] - 0s 3ms/step - loss: 8.8720 - val_loss: 14.5157\n",
      "Epoch 58/150\n",
      "33/33 [==============================] - 0s 3ms/step - loss: 8.7658 - val_loss: 13.6014\n",
      "Epoch 59/150\n",
      "33/33 [==============================] - 0s 3ms/step - loss: 8.6995 - val_loss: 13.6169\n",
      "Epoch 60/150\n",
      "33/33 [==============================] - 0s 3ms/step - loss: 8.6234 - val_loss: 13.6796\n",
      "Epoch 61/150\n",
      "33/33 [==============================] - 0s 3ms/step - loss: 8.5459 - val_loss: 13.6722\n",
      "Epoch 62/150\n",
      "33/33 [==============================] - 0s 3ms/step - loss: 8.5486 - val_loss: 13.9827\n",
      "Epoch 63/150\n",
      "33/33 [==============================] - 0s 4ms/step - loss: 8.5359 - val_loss: 13.8001\n",
      "Epoch 64/150\n",
      "33/33 [==============================] - 0s 4ms/step - loss: 8.3628 - val_loss: 13.4244\n",
      "Epoch 65/150\n",
      "33/33 [==============================] - 0s 4ms/step - loss: 8.5292 - val_loss: 13.4881\n",
      "Epoch 66/150\n",
      "33/33 [==============================] - 0s 4ms/step - loss: 8.3442 - val_loss: 13.8026\n",
      "Epoch 67/150\n",
      "33/33 [==============================] - 0s 3ms/step - loss: 8.5244 - val_loss: 13.3163\n",
      "Epoch 68/150\n",
      "33/33 [==============================] - 0s 4ms/step - loss: 8.1915 - val_loss: 13.6848\n",
      "Epoch 69/150\n",
      "33/33 [==============================] - 0s 3ms/step - loss: 8.2552 - val_loss: 13.7026\n",
      "Epoch 70/150\n",
      "33/33 [==============================] - 0s 3ms/step - loss: 8.1597 - val_loss: 13.6137\n",
      "Epoch 71/150\n",
      "33/33 [==============================] - 0s 3ms/step - loss: 8.1611 - val_loss: 13.4996\n",
      "Epoch 72/150\n",
      "33/33 [==============================] - 0s 3ms/step - loss: 8.0650 - val_loss: 13.6192\n",
      "Epoch 73/150\n",
      "33/33 [==============================] - 0s 3ms/step - loss: 8.3234 - val_loss: 13.7000\n",
      "Epoch 74/150\n",
      "33/33 [==============================] - 0s 3ms/step - loss: 7.9864 - val_loss: 13.7923\n",
      "Epoch 75/150\n",
      "33/33 [==============================] - 0s 3ms/step - loss: 8.0219 - val_loss: 13.9813\n",
      "Epoch 76/150\n",
      "33/33 [==============================] - 0s 3ms/step - loss: 7.9178 - val_loss: 13.1980\n",
      "Epoch 77/150\n",
      "33/33 [==============================] - 0s 3ms/step - loss: 7.8630 - val_loss: 13.3765\n",
      "Epoch 78/150\n",
      "33/33 [==============================] - 0s 3ms/step - loss: 7.8881 - val_loss: 13.6679\n",
      "Epoch 79/150\n",
      "33/33 [==============================] - 0s 4ms/step - loss: 7.7809 - val_loss: 12.9711\n",
      "Epoch 80/150\n",
      "33/33 [==============================] - 0s 4ms/step - loss: 7.7978 - val_loss: 12.9694\n",
      "Epoch 81/150\n",
      "33/33 [==============================] - 0s 3ms/step - loss: 7.8515 - val_loss: 13.1313\n",
      "Epoch 82/150\n",
      "33/33 [==============================] - 0s 3ms/step - loss: 7.6248 - val_loss: 13.6716\n",
      "Epoch 83/150\n",
      "33/33 [==============================] - 0s 4ms/step - loss: 7.6437 - val_loss: 13.0845\n",
      "Epoch 84/150\n",
      "33/33 [==============================] - 0s 3ms/step - loss: 7.6929 - val_loss: 13.1088\n",
      "Epoch 85/150\n",
      "33/33 [==============================] - 0s 3ms/step - loss: 7.5769 - val_loss: 12.9832\n",
      "Epoch 86/150\n",
      "33/33 [==============================] - 0s 4ms/step - loss: 7.6692 - val_loss: 13.5362\n",
      "Epoch 87/150\n",
      "33/33 [==============================] - 0s 4ms/step - loss: 7.5094 - val_loss: 12.7231\n",
      "Epoch 88/150\n",
      "33/33 [==============================] - 0s 4ms/step - loss: 7.4331 - val_loss: 13.3244\n",
      "Epoch 89/150\n",
      "33/33 [==============================] - 0s 4ms/step - loss: 7.4660 - val_loss: 12.8982\n",
      "Epoch 90/150\n",
      "33/33 [==============================] - 0s 3ms/step - loss: 7.4284 - val_loss: 12.9715\n",
      "Epoch 91/150\n",
      "33/33 [==============================] - 0s 3ms/step - loss: 7.4037 - val_loss: 13.0784\n",
      "Epoch 92/150\n",
      "33/33 [==============================] - 0s 3ms/step - loss: 7.4279 - val_loss: 12.6070\n",
      "Epoch 93/150\n",
      "33/33 [==============================] - 0s 3ms/step - loss: 7.3214 - val_loss: 13.1518\n",
      "Epoch 94/150\n",
      "33/33 [==============================] - 0s 4ms/step - loss: 7.5566 - val_loss: 14.0404\n",
      "Epoch 95/150\n",
      "33/33 [==============================] - 0s 3ms/step - loss: 7.3013 - val_loss: 12.5287\n",
      "Epoch 96/150\n",
      "33/33 [==============================] - 0s 5ms/step - loss: 7.2683 - val_loss: 12.6016\n",
      "Epoch 97/150\n",
      "33/33 [==============================] - 0s 3ms/step - loss: 7.2297 - val_loss: 12.9315\n",
      "Epoch 98/150\n",
      "33/33 [==============================] - 0s 3ms/step - loss: 7.1236 - val_loss: 12.9035\n",
      "Epoch 99/150\n",
      "33/33 [==============================] - 0s 3ms/step - loss: 7.0810 - val_loss: 12.7648\n",
      "Epoch 100/150\n",
      "33/33 [==============================] - 0s 3ms/step - loss: 7.0986 - val_loss: 12.5846\n",
      "Epoch 101/150\n",
      "33/33 [==============================] - 0s 3ms/step - loss: 7.2454 - val_loss: 12.3996\n",
      "Epoch 102/150\n",
      "33/33 [==============================] - 0s 3ms/step - loss: 7.0529 - val_loss: 12.5679\n",
      "Epoch 103/150\n",
      "33/33 [==============================] - 0s 4ms/step - loss: 6.9961 - val_loss: 12.7208\n",
      "Epoch 104/150\n",
      "33/33 [==============================] - 0s 4ms/step - loss: 6.9323 - val_loss: 12.8616\n",
      "Epoch 105/150\n",
      "33/33 [==============================] - 0s 4ms/step - loss: 6.9423 - val_loss: 12.4302\n",
      "Epoch 106/150\n",
      "33/33 [==============================] - 0s 3ms/step - loss: 6.9075 - val_loss: 12.5410\n",
      "Epoch 107/150\n",
      "33/33 [==============================] - 0s 3ms/step - loss: 6.9909 - val_loss: 12.5106\n",
      "Epoch 108/150\n",
      "33/33 [==============================] - 0s 3ms/step - loss: 6.8929 - val_loss: 12.7749\n",
      "Epoch 109/150\n",
      "33/33 [==============================] - 0s 3ms/step - loss: 6.9265 - val_loss: 12.4546\n",
      "Epoch 110/150\n",
      "33/33 [==============================] - 0s 4ms/step - loss: 6.8973 - val_loss: 12.6751\n",
      "Epoch 111/150\n",
      "33/33 [==============================] - 0s 4ms/step - loss: 6.7696 - val_loss: 12.6372\n",
      "Epoch 112/150\n",
      "33/33 [==============================] - 0s 3ms/step - loss: 6.7205 - val_loss: 12.4357\n",
      "Epoch 113/150\n",
      "33/33 [==============================] - 0s 4ms/step - loss: 6.8049 - val_loss: 11.9851\n",
      "Epoch 114/150\n",
      "33/33 [==============================] - 0s 3ms/step - loss: 6.7326 - val_loss: 12.1961\n",
      "Epoch 115/150\n",
      "33/33 [==============================] - 0s 3ms/step - loss: 6.7861 - val_loss: 12.4200\n",
      "Epoch 116/150\n",
      "33/33 [==============================] - 0s 4ms/step - loss: 6.6526 - val_loss: 12.5571\n",
      "Epoch 117/150\n",
      "33/33 [==============================] - 0s 3ms/step - loss: 6.7507 - val_loss: 12.4560\n",
      "Epoch 118/150\n",
      "33/33 [==============================] - 0s 6ms/step - loss: 6.7542 - val_loss: 12.4001\n",
      "Epoch 119/150\n",
      "33/33 [==============================] - 0s 6ms/step - loss: 6.5516 - val_loss: 12.7652\n",
      "Epoch 120/150\n",
      "33/33 [==============================] - 0s 6ms/step - loss: 6.4399 - val_loss: 12.0821\n",
      "Epoch 121/150\n",
      "33/33 [==============================] - 0s 5ms/step - loss: 6.3974 - val_loss: 12.7188\n",
      "Epoch 122/150\n",
      "33/33 [==============================] - 0s 4ms/step - loss: 6.5056 - val_loss: 13.2490\n",
      "Epoch 123/150\n",
      "33/33 [==============================] - 0s 4ms/step - loss: 6.3350 - val_loss: 12.1045\n",
      "Epoch 124/150\n",
      "33/33 [==============================] - 0s 5ms/step - loss: 6.3787 - val_loss: 11.9760\n",
      "Epoch 125/150\n",
      "33/33 [==============================] - 0s 6ms/step - loss: 6.4624 - val_loss: 12.1147\n",
      "Epoch 126/150\n",
      "33/33 [==============================] - 0s 7ms/step - loss: 6.3836 - val_loss: 12.1532\n",
      "Epoch 127/150\n",
      "33/33 [==============================] - 0s 5ms/step - loss: 6.4211 - val_loss: 12.5591\n",
      "Epoch 128/150\n",
      "33/33 [==============================] - 0s 5ms/step - loss: 6.3193 - val_loss: 11.8064\n",
      "Epoch 129/150\n",
      "33/33 [==============================] - 0s 5ms/step - loss: 6.3535 - val_loss: 11.9181\n",
      "Epoch 130/150\n",
      "33/33 [==============================] - 0s 6ms/step - loss: 6.1813 - val_loss: 12.2221\n",
      "Epoch 131/150\n",
      "33/33 [==============================] - 0s 6ms/step - loss: 6.2059 - val_loss: 11.9998\n",
      "Epoch 132/150\n",
      "33/33 [==============================] - 0s 6ms/step - loss: 6.1764 - val_loss: 12.2038\n",
      "Epoch 133/150\n",
      "33/33 [==============================] - 0s 7ms/step - loss: 6.0587 - val_loss: 12.0618\n",
      "Epoch 134/150\n",
      "33/33 [==============================] - 0s 5ms/step - loss: 6.0368 - val_loss: 11.9216\n",
      "Epoch 135/150\n",
      "33/33 [==============================] - 0s 5ms/step - loss: 6.0436 - val_loss: 12.1499\n",
      "Epoch 136/150\n",
      "33/33 [==============================] - 0s 7ms/step - loss: 6.1034 - val_loss: 11.7835\n",
      "Epoch 137/150\n",
      "33/33 [==============================] - 0s 7ms/step - loss: 5.9835 - val_loss: 12.1165\n",
      "Epoch 138/150\n",
      "33/33 [==============================] - 0s 6ms/step - loss: 6.0367 - val_loss: 11.6625\n",
      "Epoch 139/150\n",
      "33/33 [==============================] - 0s 4ms/step - loss: 6.0847 - val_loss: 12.2078\n",
      "Epoch 140/150\n",
      "33/33 [==============================] - 0s 3ms/step - loss: 6.0613 - val_loss: 11.9481\n",
      "Epoch 141/150\n",
      "33/33 [==============================] - 0s 3ms/step - loss: 5.9556 - val_loss: 11.7343\n",
      "Epoch 142/150\n",
      "33/33 [==============================] - 0s 3ms/step - loss: 5.8628 - val_loss: 11.9073\n",
      "Epoch 143/150\n",
      "33/33 [==============================] - 0s 3ms/step - loss: 5.8519 - val_loss: 11.6077\n",
      "Epoch 144/150\n",
      "33/33 [==============================] - 0s 4ms/step - loss: 5.8423 - val_loss: 12.5605\n",
      "Epoch 145/150\n",
      "33/33 [==============================] - 0s 4ms/step - loss: 5.8356 - val_loss: 11.6083\n",
      "Epoch 146/150\n",
      "33/33 [==============================] - 0s 3ms/step - loss: 5.8334 - val_loss: 12.1106\n",
      "Epoch 147/150\n",
      "33/33 [==============================] - 0s 3ms/step - loss: 5.6612 - val_loss: 11.8004\n",
      "Epoch 148/150\n",
      "33/33 [==============================] - 0s 3ms/step - loss: 5.7344 - val_loss: 11.8270\n",
      "Epoch 149/150\n",
      "33/33 [==============================] - 0s 4ms/step - loss: 5.6849 - val_loss: 11.6790\n",
      "Epoch 150/150\n",
      "33/33 [==============================] - 0s 8ms/step - loss: 5.6672 - val_loss: 11.9275\n"
     ]
    }
   ],
   "source": [
    "# Train the Model:\n",
    "\n",
    "# Let's train the wider model on the standardized training data.\n",
    "# Here, you can use the same training approach as with the previous models, including the number of epochs and batch size.\n",
    "\n",
    "history_wider = model.fit(X_train_scaled, y_train, validation_split=0.2, epochs=150, batch_size=10, verbose=1)"
   ]
  },
  {
   "cell_type": "code",
   "execution_count": null,
   "metadata": {
    "colab": {
     "base_uri": "https://localhost:8080/",
     "height": 472
    },
    "executionInfo": {
     "elapsed": 911,
     "status": "ok",
     "timestamp": 1707246968611,
     "user": {
      "displayName": "Alina Kurliantseva",
      "userId": "04888364118114866068"
     },
     "user_tz": 420
    },
    "id": "idroFRwG2IxP",
    "outputId": "f12bedda-d1f7-4305-9a75-5390a396e073"
   },
   "outputs": [
    {
     "data": {
      "image/png": "[encoded data removed]",
      "text/plain": [
       "<Figure size 640x480 with 1 Axes>"
      ]
     },
     "metadata": {},
     "output_type": "display_data"
    }
   ],
   "source": [
    "# Plot Learning Curves:\n",
    "\n",
    "# Let's plot learning curves for the wider model to visualize training and validation loss over epochs.\n",
    "# This helps in understanding the learning process and identifying overfitting or underfitting.\n",
    "\n",
    "import matplotlib.pyplot as plt\n",
    "\n",
    "plt.plot(history_wider.history['loss'], label='Train Loss')\n",
    "plt.plot(history_wider.history['val_loss'], label='Validation Loss')\n",
    "plt.title('Model Loss')\n",
    "plt.ylabel('Loss')\n",
    "plt.xlabel('Epoch')\n",
    "plt.legend(['Train', 'Validation'], loc='upper right')\n",
    "plt.show()"
   ]
  },
  {
   "cell_type": "code",
   "execution_count": null,
   "metadata": {
    "colab": {
     "base_uri": "https://localhost:8080/"
    },
    "executionInfo": {
     "elapsed": 360,
     "status": "ok",
     "timestamp": 1707247178248,
     "user": {
      "displayName": "Alina Kurliantseva",
      "userId": "04888364118114866068"
     },
     "user_tz": 420
    },
    "id": "LWQODLjw27pF",
    "outputId": "df6f1343-bc4c-4494-89bc-5a348c1d9909"
   },
   "outputs": [
    {
     "name": "stdout",
     "output_type": "stream",
     "text": [
      "Test MSE: 21.06119728088379\n"
     ]
    }
   ],
   "source": [
    "# This wider model, with more neurons in its layers, is designed to explore whether a larger capacity model\n",
    "# can better capture the complexity of the dataset, potentially improving prediction accuracy.\n",
    "\n",
    "# Evaluate the Model:\n",
    "\n",
    "# Finally, let's evaluate the model's performance on the test set to understand\n",
    "# how the increased width (neuron count) impacts its predictive accuracy.\n",
    "\n",
    "test_loss = model.evaluate(X_test_scaled, y_test, verbose=0)\n",
    "print(f'Test MSE: {test_loss}')"
   ]
  },
  {
   "cell_type": "code",
   "execution_count": null,
   "metadata": {
    "id": "H3glNx4ADGdI"
   },
   "outputs": [],
   "source": [
    "# The wider model performed the best among the three models,\n",
    "# achieving the lowest test loss (Mean Squared Error, MSE) of 21.06119728088379.\n",
    "# This indicates that it was the most accurate in predicting the numerical values,\n",
    "# suggesting that the increased number of neurons in its layers provided it with the capacity\n",
    "# to capture more complex patterns and relationships in the data compared to the simpler single-layer baseline model\n",
    "# and the deeper model with more but narrower layers.\n",
    "\n",
    "# The wider model's superior performance underscores the importance of network width in enhancing model capacity\n",
    "# and its ability to generalize from the training data to unseen data, leading to more accurate predictions."
   ]
  },
  {
   "cell_type": "markdown",
   "metadata": {
    "id": "zXsONE-iwyEZ"
   },
   "source": [
    "## Hyperparameter Tuning\n",
    "\n",
    "### Model 1"
   ]
  },
  {
   "cell_type": "code",
   "execution_count": null,
   "metadata": {
    "id": "xDpEciJt3kIo"
   },
   "outputs": [],
   "source": [
    "# Define the Model:\n",
    "\n",
    "# First, let's define the model architecture as specified.\n",
    "\n",
    "def create_model(input_dim):\n",
    "    model = Sequential([\n",
    "        Dense(64, input_dim=input_dim, activation='relu'),  # First dense layer\n",
    "        Dense(64, activation='relu'),  # Second dense layer\n",
    "        Dense(1)  # Output layer\n",
    "    ])\n",
    "    return model\n",
    "\n",
    "# The output layer does not use an activation function since it is a regression problem."
   ]
  },
  {
   "cell_type": "code",
   "execution_count": null,
   "metadata": {
    "id": "vcleajPf5Lay"
   },
   "outputs": [],
   "source": [
    "# Compile the Model:\n",
    "\n",
    "# Let's compile the model inside the function that will be used for cross-validation to ensure it's compiled fresh each time.\n",
    "\n",
    "def compile_and_train(model, X_train, y_train, epochs=100, validation_split=0.2):\n",
    "    model.compile(optimizer='adam', loss='mean_squared_error', metrics=['mae'])\n",
    "    history = model.fit(X_train, y_train, epochs=epochs, batch_size=10, validation_split=validation_split, verbose=0)\n",
    "    return history"
   ]
  },
  {
   "cell_type": "code",
   "execution_count": null,
   "metadata": {
    "colab": {
     "base_uri": "https://localhost:8080/"
    },
    "executionInfo": {
     "elapsed": 47048,
     "status": "ok",
     "timestamp": 1707247902602,
     "user": {
      "displayName": "Alina Kurliantseva",
      "userId": "04888364118114866068"
     },
     "user_tz": 420
    },
    "id": "Q1ZNZ1tg5cSu",
    "outputId": "77336433-6cc0-4659-b361-0470ab5c7d86"
   },
   "outputs": [
    {
     "name": "stdout",
     "output_type": "stream",
     "text": [
      "Cross-Validated MAE: 2.5165 ± 0.2745\n"
     ]
    }
   ],
   "source": [
    "# Cross-Validation:\n",
    "\n",
    "# For cross-validation, Keras does not have built-in support for cross-validation,\n",
    "# so we'll use KFold from sklearn.model_selection and manually loop over folds.\n",
    "\n",
    "from sklearn.model_selection import KFold\n",
    "import numpy as np\n",
    "\n",
    "n_splits = 3\n",
    "kf = KFold(n_splits=n_splits)\n",
    "\n",
    "cv_scores = []\n",
    "\n",
    "for train_index, val_index in kf.split(X_train_scaled):\n",
    "    # Split data\n",
    "    X_train_fold, X_val_fold = X_train_scaled[train_index], X_train_scaled[val_index]\n",
    "    y_train_fold, y_val_fold = y_train[train_index], y_train[val_index]\n",
    "\n",
    "    # Create and train the model\n",
    "    model = create_model(input_dim=X_train_scaled.shape[1])\n",
    "    history = compile_and_train(model, X_train_fold, y_train_fold, epochs=100)\n",
    "\n",
    "    # Evaluate the model\n",
    "    scores = model.evaluate(X_val_fold, y_val_fold, verbose=0)\n",
    "    cv_scores.append(scores[1])  # Assuming index 1 is MAE\n",
    "\n",
    "# Report Cross-Validation MAE and Standard Deviation\n",
    "mean_mae = np.mean(cv_scores)\n",
    "std_mae = np.std(cv_scores)\n",
    "print(f\"Cross-Validated MAE: {mean_mae:.4f} ± {std_mae:.4f}\")"
   ]
  },
  {
   "cell_type": "code",
   "execution_count": null,
   "metadata": {
    "colab": {
     "base_uri": "https://localhost:8080/",
     "height": 564
    },
    "executionInfo": {
     "elapsed": 1418,
     "status": "ok",
     "timestamp": 1707247923773,
     "user": {
      "displayName": "Alina Kurliantseva",
      "userId": "04888364118114866068"
     },
     "user_tz": 420
    },
    "id": "DZwRbAFh5v32",
    "outputId": "3030af29-c8a2-4cb2-bdf1-5fb0b3840b8a"
   },
   "outputs": [
    {
     "data": {
      "image/png": "[encoded data removed]",
      "text/plain": [
       "<Figure size 1200x600 with 2 Axes>"
      ]
     },
     "metadata": {},
     "output_type": "display_data"
    }
   ],
   "source": [
    "# Plot Learning Curves:\n",
    "\n",
    "# The plotting should ideally be done for each fold to understand the model's performance trend across different segments of the data.\n",
    "# However, due to the complexity and repetitiveness,\n",
    "# it might be more practical to plot the learning curves for one fold or summarize across folds if the data allows.\n",
    "\n",
    "# Plotting learning curves for the last fold\n",
    "import matplotlib.pyplot as plt\n",
    "\n",
    "plt.figure(figsize=(12, 6))\n",
    "plt.subplot(1, 2, 1)\n",
    "plt.plot(history.history['loss'], label='Train Loss')\n",
    "plt.plot(history.history['val_loss'], label='Validation Loss')\n",
    "plt.title('Model Loss')\n",
    "plt.ylabel('Loss')\n",
    "plt.xlabel('Epoch')\n",
    "plt.legend()\n",
    "\n",
    "plt.subplot(1, 2, 2)\n",
    "plt.plot(history.history['mae'], label='Train MAE')\n",
    "plt.plot(history.history['val_mae'], label='Validation MAE')\n",
    "plt.title('Model MAE')\n",
    "plt.ylabel('MAE')\n",
    "plt.xlabel('Epoch')\n",
    "plt.legend()\n",
    "\n",
    "plt.show()"
   ]
  },
  {
   "cell_type": "markdown",
   "metadata": {
    "id": "zYsP54_x2ixg"
   },
   "source": [
    "### Model 2"
   ]
  },
  {
   "cell_type": "code",
   "execution_count": null,
   "metadata": {
    "id": "C6xMKPrL6Zdk"
   },
   "outputs": [],
   "source": [
    "# For Model 2, which has a first dense layer with 128 neurons and a second dense layer with 64 neurons,\n",
    "# all using ReLU activation, we'll follow a similar approach as for Model 1,\n",
    "# but adjust the model's architecture according to the new specifications.\n",
    "# This model aims to explore the impact of a larger number of neurons in the first layer on the model's performance.\n",
    "\n",
    "# Define Model 2:\n",
    "\n",
    "def create_model_2(input_dim):\n",
    "    model = Sequential([\n",
    "        Dense(128, input_dim=input_dim, activation='relu'),  # First dense layer with 128 neurons\n",
    "        Dense(64, activation='relu'),  # Second dense layer with 64 neurons\n",
    "        Dense(1)  # Output layer\n",
    "    ])\n",
    "    return model"
   ]
  },
  {
   "cell_type": "code",
   "execution_count": null,
   "metadata": {
    "id": "xg-dC4oR77xb"
   },
   "outputs": [],
   "source": [
    "# Compile the Model:\n",
    "\n",
    "# The model compilation step, including the optimizer, loss function, and metrics, remains the same.\n",
    "\n",
    "def compile_and_train(model, X_train, y_train, epochs=100, validation_split=0.2):\n",
    "    model.compile(optimizer='adam', loss='mean_squared_error', metrics=['mae'])\n",
    "    history = model.fit(X_train, y_train, epochs=epochs, batch_size=10, validation_split=validation_split, verbose=0)\n",
    "    return history"
   ]
  },
  {
   "cell_type": "code",
   "execution_count": null,
   "metadata": {
    "colab": {
     "base_uri": "https://localhost:8080/"
    },
    "executionInfo": {
     "elapsed": 52180,
     "status": "ok",
     "timestamp": 1707248604928,
     "user": {
      "displayName": "Alina Kurliantseva",
      "userId": "04888364118114866068"
     },
     "user_tz": 420
    },
    "id": "Hp4zLJUG8OQR",
    "outputId": "a76929cb-2e13-45ec-e991-e9752c9637a2"
   },
   "outputs": [
    {
     "name": "stdout",
     "output_type": "stream",
     "text": [
      "Model 2 Cross-Validated MAE: 2.4611 ± 0.1586\n"
     ]
    }
   ],
   "source": [
    "# Cross-Validation for Model 2:\n",
    "\n",
    "# We use KFold from Scikit-Learn for cross-validation, similar to the approach for Model 1, but apply it to Model 2.\n",
    "\n",
    "n_splits = 3\n",
    "kf = KFold(n_splits=n_splits)\n",
    "\n",
    "cv_scores_2 = []\n",
    "\n",
    "for train_index, val_index in kf.split(X_train_scaled):\n",
    "    # Split data\n",
    "    X_train_fold, X_val_fold = X_train_scaled[train_index], X_train_scaled[val_index]\n",
    "    y_train_fold, y_val_fold = y_train[train_index], y_train[val_index]\n",
    "\n",
    "    # Create and train Model 2\n",
    "    model = create_model_2(input_dim=X_train_scaled.shape[1])\n",
    "    history = compile_and_train(model, X_train_fold, y_train_fold, epochs=100)\n",
    "\n",
    "    # Evaluate the model\n",
    "    scores = model.evaluate(X_val_fold, y_val_fold, verbose=0)\n",
    "    cv_scores_2.append(scores[1])  # Assuming index 1 is MAE\n",
    "\n",
    "# Calculate and report cross-validated MAE and its standard deviation for Model 2\n",
    "mean_mae_2 = np.mean(cv_scores_2)\n",
    "std_mae_2 = np.std(cv_scores_2)\n",
    "print(f\"Model 2 Cross-Validated MAE: {mean_mae_2:.4f} ± {std_mae_2:.4f}\")"
   ]
  },
  {
   "cell_type": "code",
   "execution_count": null,
   "metadata": {
    "colab": {
     "base_uri": "https://localhost:8080/",
     "height": 564
    },
    "executionInfo": {
     "elapsed": 1276,
     "status": "ok",
     "timestamp": 1707248645814,
     "user": {
      "displayName": "Alina Kurliantseva",
      "userId": "04888364118114866068"
     },
     "user_tz": 420
    },
    "id": "7mwc0Oo08Z4E",
    "outputId": "67ae5828-127f-46a6-a3ab-20a738631c28"
   },
   "outputs": [
    {
     "data": {
      "image/png": "[encoded data removed]",
      "text/plain": [
       "<Figure size 1200x600 with 2 Axes>"
      ]
     },
     "metadata": {},
     "output_type": "display_data"
    }
   ],
   "source": [
    "# Plot Learning Curves for Model 2:\n",
    "\n",
    "# Plotting for Model 2 can be done similarly to Model 1, focusing on loss and MAE for both training and validation.\n",
    "# This visual representation helps in understanding the model's learning behavior over epochs.\n",
    "\n",
    "plt.figure(figsize=(12, 6))\n",
    "plt.subplot(1, 2, 1)\n",
    "plt.plot(history.history['loss'], label='Train Loss')\n",
    "plt.plot(history.history['val_loss'], label='Validation Loss')\n",
    "plt.title('Model Loss')\n",
    "plt.ylabel('Loss')\n",
    "plt.xlabel('Epoch')\n",
    "plt.legend()\n",
    "\n",
    "plt.subplot(1, 2, 2)\n",
    "plt.plot(history.history['mae'], label='Train MAE')\n",
    "plt.plot(history.history['val_mae'], label='Validation MAE')\n",
    "plt.title('Model MAE')\n",
    "plt.ylabel('MAE')\n",
    "plt.xlabel('Epoch')\n",
    "plt.legend()\n",
    "\n",
    "plt.show()"
   ]
  },
  {
   "cell_type": "markdown",
   "metadata": {
    "id": "30A0lCy74RKe"
   },
   "source": [
    "### Model 3"
   ]
  },
  {
   "cell_type": "code",
   "execution_count": null,
   "metadata": {
    "id": "fY2drx2B9WyK"
   },
   "outputs": [],
   "source": [
    "# For Model 3, which modifies Model 2 by using tanh activation functions instead of relu for the two dense layers,\n",
    "# we'll follow the structure outlined for Model 2 but adjust the activation functions accordingly.\n",
    "# This change aims to explore the impact of different activation functions on the model's performance.\n",
    "\n",
    "# Define Model 3:\n",
    "\n",
    "# We'll define Model 3 with the same architecture as Model 2, but replace relu activation functions with tanh.\n",
    "\n",
    "def create_model_3(input_dim):\n",
    "    model = Sequential([\n",
    "        Dense(128, input_dim=input_dim, activation='tanh'),  # First dense layer with 128 neurons, tanh activation\n",
    "        Dense(64, activation='tanh'),  # Second dense layer with 64 neurons, tanh activation\n",
    "        Dense(1)  # Output layer\n",
    "    ])\n",
    "    return model"
   ]
  },
  {
   "cell_type": "code",
   "execution_count": null,
   "metadata": {
    "id": "io3rK2rd9kQ7"
   },
   "outputs": [],
   "source": [
    "# Compile the Model:\n",
    "\n",
    "# The model compilation step, including the optimizer, loss function, and metrics, remains the same.\n",
    "\n",
    "def compile_and_train(model, X_train, y_train, epochs=100, validation_split=0.2):\n",
    "    model.compile(optimizer='adam', loss='mean_squared_error', metrics=['mae'])\n",
    "    history = model.fit(X_train, y_train, epochs=epochs, batch_size=10, validation_split=validation_split, verbose=0)\n",
    "    return history"
   ]
  },
  {
   "cell_type": "code",
   "execution_count": null,
   "metadata": {
    "colab": {
     "base_uri": "https://localhost:8080/"
    },
    "executionInfo": {
     "elapsed": 57258,
     "status": "ok",
     "timestamp": 1707249019221,
     "user": {
      "displayName": "Alina Kurliantseva",
      "userId": "04888364118114866068"
     },
     "user_tz": 420
    },
    "id": "hUNb0fJP9zEJ",
    "outputId": "0995cca3-9a89-49c7-f65e-ea88745889e3"
   },
   "outputs": [
    {
     "name": "stdout",
     "output_type": "stream",
     "text": [
      "Model 3 Cross-Validated MAE: 2.8873 ± 0.2679\n"
     ]
    }
   ],
   "source": [
    "# Cross-Validation for Model 3:\n",
    "\n",
    "# Perform cross-validation similarly to Models 1 and 2,\n",
    "# using KFold and focusing on obtaining the cross-validated performance in terms of MAE and its standard deviation.\n",
    "\n",
    "n_splits = 3\n",
    "kf = KFold(n_splits=n_splits)\n",
    "\n",
    "cv_scores_3 = []\n",
    "\n",
    "for train_index, val_index in kf.split(X_train_scaled):\n",
    "    # Split data\n",
    "    X_train_fold, X_val_fold = X_train_scaled[train_index], X_train_scaled[val_index]\n",
    "    y_train_fold, y_val_fold = y_train[train_index], y_train[val_index]\n",
    "\n",
    "    # Create and train Model 3\n",
    "    model = create_model_3(input_dim=X_train_scaled.shape[1])\n",
    "    history = compile_and_train(model, X_train_fold, y_train_fold, epochs=100)\n",
    "\n",
    "    # Evaluate the model\n",
    "    scores = model.evaluate(X_val_fold, y_val_fold, verbose=0)\n",
    "    cv_scores_3.append(scores[1])  # Assuming index 1 is MAE\n",
    "\n",
    "mean_mae_3 = np.mean(cv_scores_3)\n",
    "std_mae_3 = np.std(cv_scores_3)\n",
    "print(f\"Model 3 Cross-Validated MAE: {mean_mae_3:.4f} ± {std_mae_3:.4f}\")"
   ]
  },
  {
   "cell_type": "code",
   "execution_count": null,
   "metadata": {
    "colab": {
     "base_uri": "https://localhost:8080/",
     "height": 564
    },
    "executionInfo": {
     "elapsed": 839,
     "status": "ok",
     "timestamp": 1707249045103,
     "user": {
      "displayName": "Alina Kurliantseva",
      "userId": "04888364118114866068"
     },
     "user_tz": 420
    },
    "id": "dMrqJae49_hH",
    "outputId": "044ded08-31c3-442d-d35d-8b706e59fc80"
   },
   "outputs": [
    {
     "data": {
      "image/png": "[encoded data removed]",
      "text/plain": [
       "<Figure size 1200x600 with 2 Axes>"
      ]
     },
     "metadata": {},
     "output_type": "display_data"
    }
   ],
   "source": [
    "# Plot Learning Curves for Model 3:\n",
    "\n",
    "# Let's plot learning curves for Model 3, focusing on both loss and MAE for training and validation phases,\n",
    "# to visualize how the tanh activation function influences learning dynamics compared to relu.\n",
    "\n",
    "# Plotting learning curves for the last fold\n",
    "plt.figure(figsize=(12, 6))\n",
    "plt.subplot(1, 2, 1)\n",
    "plt.plot(history.history['loss'], label='Train Loss')\n",
    "plt.plot(history.history['val_loss'], label='Validation Loss')\n",
    "plt.title('Model Loss')\n",
    "plt.ylabel('Loss')\n",
    "plt.xlabel('Epoch')\n",
    "plt.legend()\n",
    "\n",
    "plt.subplot(1, 2, 2)\n",
    "plt.plot(history.history['mae'], label='Train MAE')\n",
    "plt.plot(history.history['val_mae'], label='Validation MAE')\n",
    "plt.title('Model MAE')\n",
    "plt.ylabel('MAE')\n",
    "plt.xlabel('Epoch')\n",
    "plt.legend()\n",
    "\n",
    "plt.show()"
   ]
  },
  {
   "cell_type": "markdown",
   "metadata": {
    "id": "hWXgQ1RzzPf7"
   },
   "source": [
    "### Model 4"
   ]
  },
  {
   "cell_type": "code",
   "execution_count": null,
   "metadata": {
    "id": "8KUeuAf8-Ut2"
   },
   "outputs": [],
   "source": [
    "# For Model 4, which is identical to Model 2 in terms of architecture but uses the rmsprop optimizer instead of adam for training,\n",
    "# we will follow the structure outlined for Model 2, adjusting only the optimizer.\n",
    "# This change aims to explore the impact of different optimization algorithms on the model's learning and performance.\n",
    "\n",
    "# Define Model 4:\n",
    "\n",
    "# Model 4 will have the same architecture as Model 2:\n",
    "# two dense layers with 128 and 64 neurons, respectively, both using relu activation functions.\n",
    "\n",
    "def create_model_4(input_dim):\n",
    "    model = Sequential([\n",
    "        Dense(128, input_dim=input_dim, activation='relu'),  # First dense layer with 128 neurons, relu activation\n",
    "        Dense(64, activation='relu'),  # Second dense layer with 64 neurons, relu activation\n",
    "        Dense(1)  # Output layer\n",
    "    ])\n",
    "    return model"
   ]
  },
  {
   "cell_type": "code",
   "execution_count": null,
   "metadata": {
    "id": "YW1Qfb2b_VIS"
   },
   "outputs": [],
   "source": [
    "# Compile the Model with RMSprop Optimizer:\n",
    "\n",
    "# When compiling Model 4, we'll specify rmsprop as the optimizer.\n",
    "\n",
    "def compile_and_train_with_rmsprop(model, X_train, y_train, epochs=100, validation_split=0.2):\n",
    "    model.compile(optimizer='rmsprop', loss='mean_squared_error', metrics=['mae'])\n",
    "    history = model.fit(X_train, y_train, epochs=epochs, batch_size=10, validation_split=validation_split, verbose=0)\n",
    "    return history"
   ]
  },
  {
   "cell_type": "code",
   "execution_count": null,
   "metadata": {
    "colab": {
     "base_uri": "https://localhost:8080/"
    },
    "executionInfo": {
     "elapsed": 47362,
     "status": "ok",
     "timestamp": 1707249657343,
     "user": {
      "displayName": "Alina Kurliantseva",
      "userId": "04888364118114866068"
     },
     "user_tz": 420
    },
    "id": "Jabr7wmO_iyg",
    "outputId": "18a02966-461e-4acc-f6f6-02d32eabaf78"
   },
   "outputs": [
    {
     "name": "stdout",
     "output_type": "stream",
     "text": [
      "Model 4 Cross-Validated MAE: 2.5394 ± 0.1807\n"
     ]
    }
   ],
   "source": [
    "# Cross-Validation for Model 4:\n",
    "\n",
    "# Let's perform cross-validation using KFold, similar to the previous models,\n",
    "# to evaluate Model 4's performance in terms of cross-validated MAE and its standard deviation.\n",
    "\n",
    "n_splits = 3\n",
    "kf = KFold(n_splits=n_splits)\n",
    "\n",
    "cv_scores_4 = []\n",
    "\n",
    "for train_index, val_index in kf.split(X_train_scaled):\n",
    "    # Split data\n",
    "    X_train_fold, X_val_fold = X_train_scaled[train_index], X_train_scaled[val_index]\n",
    "    y_train_fold, y_val_fold = y_train[train_index], y_train[val_index]\n",
    "\n",
    "    # Create and train Model 4\n",
    "    model = create_model_4(input_dim=X_train_scaled.shape[1])\n",
    "    history = compile_and_train_with_rmsprop(model, X_train_fold, y_train_fold, epochs=100)\n",
    "\n",
    "    # Evaluate the model\n",
    "    scores = model.evaluate(X_val_fold, y_val_fold, verbose=0)\n",
    "    cv_scores_4.append(scores[1])  # Assuming index 1 is MAE\n",
    "\n",
    "mean_mae_4 = np.mean(cv_scores_4)\n",
    "std_mae_4 = np.std(cv_scores_4)\n",
    "print(f\"Model 4 Cross-Validated MAE: {mean_mae_4:.4f} ± {std_mae_4:.4f}\")"
   ]
  },
  {
   "cell_type": "code",
   "execution_count": null,
   "metadata": {
    "colab": {
     "base_uri": "https://localhost:8080/",
     "height": 564
    },
    "executionInfo": {
     "elapsed": 1390,
     "status": "ok",
     "timestamp": 1707249660069,
     "user": {
      "displayName": "Alina Kurliantseva",
      "userId": "04888364118114866068"
     },
     "user_tz": 420
    },
    "id": "5_3kW2PGActS",
    "outputId": "3c295589-19ce-4c63-a544-5931395f3272"
   },
   "outputs": [
    {
     "data": {
      "image/png": "[encoded data removed]",
      "text/plain": [
       "<Figure size 1200x600 with 2 Axes>"
      ]
     },
     "metadata": {},
     "output_type": "display_data"
    }
   ],
   "source": [
    "# Plot Learning Curves for Model 4:\n",
    "\n",
    "# Let's plot learning curves for Model 4, focusing on loss and MAE for both training and validation,\n",
    "# to see how the rmsprop optimizer influences the model's learning process compared to adam.\n",
    "\n",
    "# Plotting learning curves for the last fold\n",
    "plt.figure(figsize=(12, 6))\n",
    "plt.subplot(1, 2, 1)\n",
    "plt.plot(history.history['loss'], label='Train Loss')\n",
    "plt.plot(history.history['val_loss'], label='Validation Loss')\n",
    "plt.title('Model Loss')\n",
    "plt.ylabel('Loss')\n",
    "plt.xlabel('Epoch')\n",
    "plt.legend()\n",
    "\n",
    "plt.subplot(1, 2, 2)\n",
    "plt.plot(history.history['mae'], label='Train MAE')\n",
    "plt.plot(history.history['val_mae'], label='Validation MAE')\n",
    "plt.title('Model MAE')\n",
    "plt.ylabel('MAE')\n",
    "plt.xlabel('Epoch')\n",
    "plt.legend()\n",
    "\n",
    "plt.show()"
   ]
  },
  {
   "cell_type": "markdown",
   "metadata": {
    "id": "8_d0KCd-zdcb"
   },
   "source": [
    "## Model Comparison"
   ]
  },
  {
   "cell_type": "code",
   "execution_count": null,
   "metadata": {
    "id": "Z4QLGP1HK5e5"
   },
   "outputs": [],
   "source": [
    "# Model 2, with a configuration of two dense layers (128 and 64 neurons, respectively) and using the relu activation function,\n",
    "# performed the best among all models, achieving the lowest Cross-Validated MAE of 2.4611 with a standard deviation of 0.1586.\n",
    "# This indicates not only the highest accuracy on average but also consistent performance across different data subsets.\n",
    "\n",
    "# The superior performance of Model 2 could be attributed to its increased capacity,\n",
    "# allowing it to capture more complex patterns in the data without significantly increasing the risk of overfitting.\n",
    "# This balance between capacity and generalization likely led to its improved performance.\n",
    "# The choice of relu activation function and the structure of the network,\n",
    "# coupled with the adam optimizer, seems to have provided an efficient mechanism for learning from the data.\n",
    "\n",
    "# In contrast, Model 3's use of tanh activation functions and Model 4's adoption of the rmsprop optimizer did not yield improvements over Model 2,\n",
    "# suggesting that for this particular dataset and problem, the architecture and hyperparameters of Model 2 were more effective."
   ]
  }
 ],
 "metadata": {
  "colab": {
   "provenance": [
    {
     "file_id": "1UDQKUTgEC_NRotUEGE2NWwV5kiq7qnqf",
     "timestamp": 1707252432502
    },
    {
     "file_id": "12V7PDvKxf8Bbu0iWZvG4y_2J1XPlaUFJ",
     "timestamp": 1707252123215
    }
   ]
  },
  "kernelspec": {
   "display_name": "Python 3 (ipykernel)",
   "language": "python",
   "name": "python3"
  },
  "language_info": {
   "codemirror_mode": {
    "name": "ipython",
    "version": 3
   },
   "file_extension": ".py",
   "mimetype": "text/x-python",
   "name": "python",
   "nbconvert_exporter": "python",
   "pygments_lexer": "ipython3",
   "version": "3.11.5"
  }
 },
 "nbformat": 4,
 "nbformat_minor": 4
}
