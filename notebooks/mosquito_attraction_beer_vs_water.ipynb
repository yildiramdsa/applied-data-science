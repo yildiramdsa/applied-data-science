{
 "cells": [
  {
   "cell_type": "markdown",
   "metadata": {},
   "source": [
    "# Mosquito Attraction: Beer vs. Water"
   ]
  },
  {
   "cell_type": "code",
   "execution_count": 2,
   "metadata": {
    "tags": []
   },
   "outputs": [],
   "source": [
    "import numpy as np\n",
    "import pandas as pd\n",
    "import matplotlib.pyplot as plt\n",
    "%matplotlib inline\n",
    "import seaborn as sns\n",
    "import warnings\n",
    "warnings.filterwarnings(\"ignore\")"
   ]
  },
  {
   "cell_type": "code",
   "execution_count": 3,
   "metadata": {},
   "outputs": [
    {
     "data": {
      "text/html": [
       "<div>\n",
       "<style scoped>\n",
       "    .dataframe tbody tr th:only-of-type {\n",
       "        vertical-align: middle;\n",
       "    }\n",
       "\n",
       "    .dataframe tbody tr th {\n",
       "        vertical-align: top;\n",
       "    }\n",
       "\n",
       "    .dataframe thead th {\n",
       "        text-align: right;\n",
       "    }\n",
       "</style>\n",
       "<table border=\"1\" class=\"dataframe\">\n",
       "  <thead>\n",
       "    <tr style=\"text-align: right;\">\n",
       "      <th></th>\n",
       "      <th>Response</th>\n",
       "      <th>Treatment</th>\n",
       "    </tr>\n",
       "  </thead>\n",
       "  <tbody>\n",
       "    <tr>\n",
       "      <th>0</th>\n",
       "      <td>27</td>\n",
       "      <td>Beer</td>\n",
       "    </tr>\n",
       "    <tr>\n",
       "      <th>1</th>\n",
       "      <td>20</td>\n",
       "      <td>Beer</td>\n",
       "    </tr>\n",
       "    <tr>\n",
       "      <th>2</th>\n",
       "      <td>21</td>\n",
       "      <td>Beer</td>\n",
       "    </tr>\n",
       "    <tr>\n",
       "      <th>3</th>\n",
       "      <td>26</td>\n",
       "      <td>Beer</td>\n",
       "    </tr>\n",
       "    <tr>\n",
       "      <th>4</th>\n",
       "      <td>27</td>\n",
       "      <td>Beer</td>\n",
       "    </tr>\n",
       "    <tr>\n",
       "      <th>5</th>\n",
       "      <td>31</td>\n",
       "      <td>Beer</td>\n",
       "    </tr>\n",
       "    <tr>\n",
       "      <th>6</th>\n",
       "      <td>24</td>\n",
       "      <td>Beer</td>\n",
       "    </tr>\n",
       "    <tr>\n",
       "      <th>7</th>\n",
       "      <td>21</td>\n",
       "      <td>Beer</td>\n",
       "    </tr>\n",
       "    <tr>\n",
       "      <th>8</th>\n",
       "      <td>20</td>\n",
       "      <td>Beer</td>\n",
       "    </tr>\n",
       "    <tr>\n",
       "      <th>9</th>\n",
       "      <td>19</td>\n",
       "      <td>Beer</td>\n",
       "    </tr>\n",
       "    <tr>\n",
       "      <th>10</th>\n",
       "      <td>23</td>\n",
       "      <td>Beer</td>\n",
       "    </tr>\n",
       "    <tr>\n",
       "      <th>11</th>\n",
       "      <td>24</td>\n",
       "      <td>Beer</td>\n",
       "    </tr>\n",
       "    <tr>\n",
       "      <th>12</th>\n",
       "      <td>28</td>\n",
       "      <td>Beer</td>\n",
       "    </tr>\n",
       "    <tr>\n",
       "      <th>13</th>\n",
       "      <td>19</td>\n",
       "      <td>Beer</td>\n",
       "    </tr>\n",
       "    <tr>\n",
       "      <th>14</th>\n",
       "      <td>24</td>\n",
       "      <td>Beer</td>\n",
       "    </tr>\n",
       "    <tr>\n",
       "      <th>15</th>\n",
       "      <td>29</td>\n",
       "      <td>Beer</td>\n",
       "    </tr>\n",
       "    <tr>\n",
       "      <th>16</th>\n",
       "      <td>18</td>\n",
       "      <td>Beer</td>\n",
       "    </tr>\n",
       "    <tr>\n",
       "      <th>17</th>\n",
       "      <td>20</td>\n",
       "      <td>Beer</td>\n",
       "    </tr>\n",
       "    <tr>\n",
       "      <th>18</th>\n",
       "      <td>17</td>\n",
       "      <td>Beer</td>\n",
       "    </tr>\n",
       "    <tr>\n",
       "      <th>19</th>\n",
       "      <td>31</td>\n",
       "      <td>Beer</td>\n",
       "    </tr>\n",
       "    <tr>\n",
       "      <th>20</th>\n",
       "      <td>20</td>\n",
       "      <td>Beer</td>\n",
       "    </tr>\n",
       "    <tr>\n",
       "      <th>21</th>\n",
       "      <td>25</td>\n",
       "      <td>Beer</td>\n",
       "    </tr>\n",
       "    <tr>\n",
       "      <th>22</th>\n",
       "      <td>28</td>\n",
       "      <td>Beer</td>\n",
       "    </tr>\n",
       "    <tr>\n",
       "      <th>23</th>\n",
       "      <td>21</td>\n",
       "      <td>Beer</td>\n",
       "    </tr>\n",
       "    <tr>\n",
       "      <th>24</th>\n",
       "      <td>27</td>\n",
       "      <td>Beer</td>\n",
       "    </tr>\n",
       "    <tr>\n",
       "      <th>25</th>\n",
       "      <td>21</td>\n",
       "      <td>Water</td>\n",
       "    </tr>\n",
       "    <tr>\n",
       "      <th>26</th>\n",
       "      <td>22</td>\n",
       "      <td>Water</td>\n",
       "    </tr>\n",
       "    <tr>\n",
       "      <th>27</th>\n",
       "      <td>15</td>\n",
       "      <td>Water</td>\n",
       "    </tr>\n",
       "    <tr>\n",
       "      <th>28</th>\n",
       "      <td>12</td>\n",
       "      <td>Water</td>\n",
       "    </tr>\n",
       "    <tr>\n",
       "      <th>29</th>\n",
       "      <td>21</td>\n",
       "      <td>Water</td>\n",
       "    </tr>\n",
       "    <tr>\n",
       "      <th>30</th>\n",
       "      <td>16</td>\n",
       "      <td>Water</td>\n",
       "    </tr>\n",
       "    <tr>\n",
       "      <th>31</th>\n",
       "      <td>19</td>\n",
       "      <td>Water</td>\n",
       "    </tr>\n",
       "    <tr>\n",
       "      <th>32</th>\n",
       "      <td>15</td>\n",
       "      <td>Water</td>\n",
       "    </tr>\n",
       "    <tr>\n",
       "      <th>33</th>\n",
       "      <td>22</td>\n",
       "      <td>Water</td>\n",
       "    </tr>\n",
       "    <tr>\n",
       "      <th>34</th>\n",
       "      <td>24</td>\n",
       "      <td>Water</td>\n",
       "    </tr>\n",
       "    <tr>\n",
       "      <th>35</th>\n",
       "      <td>19</td>\n",
       "      <td>Water</td>\n",
       "    </tr>\n",
       "    <tr>\n",
       "      <th>36</th>\n",
       "      <td>23</td>\n",
       "      <td>Water</td>\n",
       "    </tr>\n",
       "    <tr>\n",
       "      <th>37</th>\n",
       "      <td>13</td>\n",
       "      <td>Water</td>\n",
       "    </tr>\n",
       "    <tr>\n",
       "      <th>38</th>\n",
       "      <td>22</td>\n",
       "      <td>Water</td>\n",
       "    </tr>\n",
       "    <tr>\n",
       "      <th>39</th>\n",
       "      <td>20</td>\n",
       "      <td>Water</td>\n",
       "    </tr>\n",
       "    <tr>\n",
       "      <th>40</th>\n",
       "      <td>24</td>\n",
       "      <td>Water</td>\n",
       "    </tr>\n",
       "    <tr>\n",
       "      <th>41</th>\n",
       "      <td>18</td>\n",
       "      <td>Water</td>\n",
       "    </tr>\n",
       "    <tr>\n",
       "      <th>42</th>\n",
       "      <td>20</td>\n",
       "      <td>Water</td>\n",
       "    </tr>\n",
       "  </tbody>\n",
       "</table>\n",
       "</div>"
      ],
      "text/plain": [
       "    Response Treatment\n",
       "0         27      Beer\n",
       "1         20      Beer\n",
       "2         21      Beer\n",
       "3         26      Beer\n",
       "4         27      Beer\n",
       "5         31      Beer\n",
       "6         24      Beer\n",
       "7         21      Beer\n",
       "8         20      Beer\n",
       "9         19      Beer\n",
       "10        23      Beer\n",
       "11        24      Beer\n",
       "12        28      Beer\n",
       "13        19      Beer\n",
       "14        24      Beer\n",
       "15        29      Beer\n",
       "16        18      Beer\n",
       "17        20      Beer\n",
       "18        17      Beer\n",
       "19        31      Beer\n",
       "20        20      Beer\n",
       "21        25      Beer\n",
       "22        28      Beer\n",
       "23        21      Beer\n",
       "24        27      Beer\n",
       "25        21     Water\n",
       "26        22     Water\n",
       "27        15     Water\n",
       "28        12     Water\n",
       "29        21     Water\n",
       "30        16     Water\n",
       "31        19     Water\n",
       "32        15     Water\n",
       "33        22     Water\n",
       "34        24     Water\n",
       "35        19     Water\n",
       "36        23     Water\n",
       "37        13     Water\n",
       "38        22     Water\n",
       "39        20     Water\n",
       "40        24     Water\n",
       "41        18     Water\n",
       "42        20     Water"
      ]
     },
     "execution_count": 3,
     "metadata": {},
     "output_type": "execute_result"
    }
   ],
   "source": [
    "mosquitos_data = pd.read_csv(\"../data/mosquitos_data_raw.csv\")\n",
    "mosquitos_data"
   ]
  },
  {
   "cell_type": "code",
   "execution_count": 4,
   "metadata": {},
   "outputs": [
    {
     "data": {
      "image/png": "[encoded data removed]",
      "text/plain": [
       "<Figure size 640x480 with 1 Axes>"
      ]
     },
     "metadata": {},
     "output_type": "display_data"
    }
   ],
   "source": [
    "sns.set_style(\"ticks\")\n",
    "sns.boxplot(x = \"Treatment\", y = \"Response\",\n",
    "            data = mosquitos_data).set_title(\"Do mosquitoes feel the effects of alcohol?\");"
   ]
  },
  {
   "cell_type": "markdown",
   "metadata": {},
   "source": [
    "The median number of mosquitoes attracted to individuals drinking beer is 24, while the median number of mosquitoes attracted to individuals drinking water is 20.\n",
    "\n",
    "For the middle 50% of the data, the number of mosquitoes are between 20 and 27 for the group consuming beer and between 16 and 22 for the group consuming water.\n",
    "\n",
    "There are no distant observations (outliers) for both groups. Max and min numbers for individuals drinking beer are 31 and 17, respectively; max and min numbers for individuals drinking water are significantly lower - 24 and 12, respectively.\n",
    "\n",
    "Considering that, **beer consumption, as opposed to water consumption, increases attractiveness to mosquitoes**."
   ]
  },
  {
   "cell_type": "code",
   "execution_count": 6,
   "metadata": {},
   "outputs": [
    {
     "data": {
      "text/html": [
       "<div>\n",
       "<style scoped>\n",
       "    .dataframe tbody tr th:only-of-type {\n",
       "        vertical-align: middle;\n",
       "    }\n",
       "\n",
       "    .dataframe tbody tr th {\n",
       "        vertical-align: top;\n",
       "    }\n",
       "\n",
       "    .dataframe thead th {\n",
       "        text-align: right;\n",
       "    }\n",
       "</style>\n",
       "<table border=\"1\" class=\"dataframe\">\n",
       "  <thead>\n",
       "    <tr style=\"text-align: right;\">\n",
       "      <th></th>\n",
       "      <th>mean</th>\n",
       "      <th>median</th>\n",
       "      <th>std</th>\n",
       "    </tr>\n",
       "    <tr>\n",
       "      <th>Treatment</th>\n",
       "      <th></th>\n",
       "      <th></th>\n",
       "      <th></th>\n",
       "    </tr>\n",
       "  </thead>\n",
       "  <tbody>\n",
       "    <tr>\n",
       "      <th>Beer</th>\n",
       "      <td>23.600000</td>\n",
       "      <td>24.0</td>\n",
       "      <td>4.133199</td>\n",
       "    </tr>\n",
       "    <tr>\n",
       "      <th>Water</th>\n",
       "      <td>19.222222</td>\n",
       "      <td>20.0</td>\n",
       "      <td>3.671120</td>\n",
       "    </tr>\n",
       "  </tbody>\n",
       "</table>\n",
       "</div>"
      ],
      "text/plain": [
       "                mean  median       std\n",
       "Treatment                             \n",
       "Beer       23.600000    24.0  4.133199\n",
       "Water      19.222222    20.0  3.671120"
      ]
     },
     "execution_count": 6,
     "metadata": {},
     "output_type": "execute_result"
    }
   ],
   "source": [
    "mosquitos_data.groupby(\"Treatment\")[\"Response\"].agg([\"mean\", \"median\", \"std\"])"
   ]
  },
  {
   "cell_type": "markdown",
   "metadata": {},
   "source": [
    "The mean (or average) represents the dataset's central or typical value. On average, about 24 mosquitos are attracted to individuals drinking beer, while the average number of mosquitoes attracted to individuals drinking water is around 19.\n",
    "The median finds the middle value of a set of observations when ordered from lowest to highest. It separates the higher half of the data from the lower half, 24 and 20, for the beer and water treatments, respectively.\n",
    "The standard deviation is a measure of how widely values are dispersed from the average value (the mean): 4.13 for individuals drinking beer (23.6 - 4.13 = 19.47 and 23.6 + 4.13 = 27.73) and 3.67 for individuals drinking water (19.22 - 3.67 = 15.55 and 19.22 + 3.67 = 22.89)."
   ]
  },
  {
   "cell_type": "code",
   "execution_count": 8,
   "metadata": {},
   "outputs": [
    {
     "data": {
      "text/plain": [
       "array([27, 20, 21, 26, 27, 31, 24, 21, 20, 19, 23, 24, 28, 19, 24, 29, 18,\n",
       "       20, 17, 31, 20, 25, 28, 21, 27])"
      ]
     },
     "execution_count": 8,
     "metadata": {},
     "output_type": "execute_result"
    }
   ],
   "source": [
    "beer_consumption = mosquitos_data[mosquitos_data[\"Treatment\"] == \"Beer\"]\n",
    "beer_consumption_re = np.array(beer_consumption[\"Response\"])\n",
    "beer_consumption_re"
   ]
  },
  {
   "cell_type": "code",
   "execution_count": 9,
   "metadata": {},
   "outputs": [
    {
     "data": {
      "text/plain": [
       "25"
      ]
     },
     "execution_count": 9,
     "metadata": {},
     "output_type": "execute_result"
    }
   ],
   "source": [
    "beer_consumption_re_len = len(beer_consumption_re)\n",
    "beer_consumption_re_len"
   ]
  },
  {
   "cell_type": "code",
   "execution_count": 10,
   "metadata": {},
   "outputs": [
    {
     "data": {
      "text/plain": [
       "array([21, 22, 15, 12, 21, 16, 19, 15, 22, 24, 19, 23, 13, 22, 20, 24, 18,\n",
       "       20])"
      ]
     },
     "execution_count": 10,
     "metadata": {},
     "output_type": "execute_result"
    }
   ],
   "source": [
    "water_consumption = mosquitos_data[mosquitos_data[\"Treatment\"] == \"Water\"]\n",
    "water_consumption_re = np.array(water_consumption[\"Response\"])\n",
    "water_consumption_re"
   ]
  },
  {
   "cell_type": "code",
   "execution_count": 11,
   "metadata": {},
   "outputs": [
    {
     "data": {
      "text/plain": [
       "18"
      ]
     },
     "execution_count": 11,
     "metadata": {},
     "output_type": "execute_result"
    }
   ],
   "source": [
    "water_consumption_re_len = len(water_consumption_re)\n",
    "water_consumption_re_len"
   ]
  },
  {
   "cell_type": "code",
   "execution_count": 12,
   "metadata": {},
   "outputs": [
    {
     "data": {
      "text/plain": [
       "array([27, 20, 21, 26, 27, 31, 24, 21, 20, 19, 23, 24, 28, 19, 24, 29, 18,\n",
       "       20, 17, 31, 20, 25, 28, 21, 27, 21, 22, 15, 12, 21, 16, 19, 15, 22,\n",
       "       24, 19, 23, 13, 22, 20, 24, 18, 20])"
      ]
     },
     "execution_count": 12,
     "metadata": {},
     "output_type": "execute_result"
    }
   ],
   "source": [
    "beer_water_consumption_re = np.append(beer_consumption_re, water_consumption_re)\n",
    "beer_water_consumption_re"
   ]
  },
  {
   "cell_type": "code",
   "execution_count": 13,
   "metadata": {},
   "outputs": [
    {
     "data": {
      "image/png": "[encoded data removed]",
      "text/plain": [
       "<Figure size 640x480 with 1 Axes>"
      ]
     },
     "metadata": {},
     "output_type": "display_data"
    }
   ],
   "source": [
    "# Initialize an empty list to store the differences in means for each simulation\n",
    "diffs_in_means_sim = []\n",
    "\n",
    "# Perform 10,000 simulations\n",
    "for i in range(10000):\n",
    "    # Shuffle the combined beer and water consumption data\n",
    "    np.random.shuffle(beer_water_consumption_re)\n",
    "    \n",
    "    # Split the shuffled data into two groups: beer and water, based on their original lengths\n",
    "    beer_consumption_re_sim = beer_water_consumption_re[:beer_consumption_re_len]\n",
    "    water_consumption_re_sim = beer_water_consumption_re[beer_consumption_re_len:]\n",
    "    \n",
    "    # Calculate the difference in means between the two simulated groups\n",
    "    diff_in_means_sim = np.mean(beer_consumption_re_sim) - np.mean(water_consumption_re_sim)\n",
    "    \n",
    "    # Append the difference in means to the list\n",
    "    diffs_in_means_sim.append(diff_in_means_sim)\n",
    "\n",
    "# Create a histogram of the simulated differences in means\n",
    "sns.histplot(data=diffs_in_means_sim).set(\n",
    "    title=\"Difference in Means: Data Simulation\",\n",
    "    xlabel=\"Difference in Means\",\n",
    "    ylabel=\"Number of Simulations\"\n",
    ");"
   ]
  },
  {
   "cell_type": "markdown",
   "metadata": {},
   "source": [
    "The histogram displays the distribution of simulated differences in means between the *Beer* and *Water* groups, derived from 10,000 random shuffles of the combined mosquito response data. The differences cluster symmetrically around 0, forming an approximately normal distribution, which represents the expected outcomes under the null hypothesis (no association between beer consumption and mosquito attraction). The central tendency around 0 indicates that, under randomization, no systematic difference in means is expected. This distribution provides a baseline for comparing the observed difference in means, allowing us to assess whether the observed result is statistically significant or likely due to chance."
   ]
  },
  {
   "cell_type": "code",
   "execution_count": 15,
   "metadata": {},
   "outputs": [
    {
     "data": {
      "text/plain": [
       "0.0005"
      ]
     },
     "execution_count": 15,
     "metadata": {},
     "output_type": "execute_result"
    }
   ],
   "source": [
    "# Initialize a counter for the total number of simulations\n",
    "total_num_of_sim = 0\n",
    "\n",
    "# Initialize a counter for the number of simulations where the difference in means is greater than or equal to the target value\n",
    "greater_than_or_equal_to_target_mean_num_of_sim = 0\n",
    "\n",
    "# Iterate through the simulated differences in means\n",
    "for diff_in_means_sim in diffs_in_means_sim:\n",
    "    # Increment the total number of simulations counter\n",
    "    total_num_of_sim += 1\n",
    "    \n",
    "    # Check if the simulated difference in means meets or exceeds the target value (e.g., 4.4)\n",
    "    if diff_in_means_sim >= 4.4:\n",
    "        # Increment the counter for simulations meeting the target condition\n",
    "        greater_than_or_equal_to_target_mean_num_of_sim += 1\n",
    "\n",
    "# Calculate the proportion of simulations where the difference in means meets or exceeds the target value\n",
    "result = greater_than_or_equal_to_target_mean_num_of_sim / total_num_of_sim\n",
    "result"
   ]
  },
  {
   "cell_type": "markdown",
   "metadata": {},
   "source": [
    "The p-value of **0.0005** indicates that there is only a **0.05% chance** of observing a difference in means of 4.4 or greater under the null hypothesis (no association between beer consumption and mosquito attraction). This extremely low probability suggests the observed difference is highly unlikely to be due to random chance, providing strong evidence to **reject the null hypothesis**. Thus, the result indicates a **statistically significant association** between beer consumption and mosquito attraction."
   ]
  }
 ],
 "metadata": {
  "kernelspec": {
   "display_name": "Python 3 (ipykernel)",
   "language": "python",
   "name": "python3"
  },
  "language_info": {
   "codemirror_mode": {
    "name": "ipython",
    "version": 3
   },
   "file_extension": ".py",
   "mimetype": "text/x-python",
   "name": "python",
   "nbconvert_exporter": "python",
   "pygments_lexer": "ipython3",
   "version": "3.11.5"
  }
 },
 "nbformat": 4,
 "nbformat_minor": 4
}
